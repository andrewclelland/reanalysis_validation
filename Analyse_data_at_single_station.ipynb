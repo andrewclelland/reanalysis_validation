{
 "cells": [
  {
   "cell_type": "markdown",
   "id": "7c4f05fc-e667-4fed-8f7b-d2d9b2af5812",
   "metadata": {
    "jp-MarkdownHeadingCollapsed": true
   },
   "source": [
    "# Analyse reanalysis data at point - station"
   ]
  },
  {
   "cell_type": "markdown",
   "id": "62ce31c4-be81-4969-a3ec-b7b43d349c1e",
   "metadata": {
    "tags": []
   },
   "source": [
    "Code correct as of Summer 2023.\n",
    "\n",
    "Analyse data from processed ERA-Interim/ERA5/ERA5-Land csv files. The currently available daily data (all means unless otherwise stated) are:\n",
    "\n",
    "* MSLP (msl) or surface pressure (sp - ERA5-land)\n",
    "* 2m air temperature -- daily mean (t2m/mean_t2m), maximum (mx2t/max_t2m) and minimum (mn2t/min_t2m)\n",
    "* soil temperature on 4 levels (stl1, stl2, stl3, stl4)\n",
    "* 10m wind field components (u10, v10)\n",
    "* 2m dew point temperature (d2m)\n",
    "* daily total precipitation (tp)\n",
    "* snow depth (sd) and snow density (rsn)\n",
    "\n",
    "The variable codes shown in brackets above are the names of the directories in which the data for that variable are held on the bas_climate gws.\n",
    "\n",
    "* ERA-Interim data are available January 1979 to August 2019\n",
    "* ERA5 data are available January 1940 to present\n",
    "* ERA5-Land data are available January 1950 to present"
   ]
  },
  {
   "cell_type": "markdown",
   "id": "e35173e5-3632-4706-840e-146d2667e54d",
   "metadata": {
    "jp-MarkdownHeadingCollapsed": true,
    "tags": []
   },
   "source": [
    "## Imports - always run"
   ]
  },
  {
   "cell_type": "code",
   "execution_count": null,
   "id": "96b0c435-2c8b-4fce-8944-58c605a21851",
   "metadata": {
    "tags": []
   },
   "outputs": [],
   "source": [
    "from datetime import datetime\n",
    "from pathlib import Path\n",
    "import numpy as np\n",
    "import os\n",
    "import pandas as pd\n",
    "from sklearn.metrics import mean_squared_error\n",
    "import matplotlib.pyplot as plt\n",
    "import seaborn as sns"
   ]
  },
  {
   "cell_type": "markdown",
   "id": "4ad1bbf3-4844-40c3-b08c-53fa478c1392",
   "metadata": {
    "tags": []
   },
   "source": [
    "# Analyse data"
   ]
  },
  {
   "cell_type": "markdown",
   "id": "547fdfff-c466-4d69-bc3b-0d8678d2498c",
   "metadata": {
    "jp-MarkdownHeadingCollapsed": true,
    "tags": []
   },
   "source": [
    "## Sub-daily data"
   ]
  },
  {
   "cell_type": "code",
   "execution_count": null,
   "id": "399ffb7a-4e61-4c98-ab2a-1939f2c697ec",
   "metadata": {},
   "outputs": [],
   "source": [
    "# Here, and throughout, edit variable names as necessary\n",
    "# Load processed csv file and define variables to be analysed\n",
    "df = pd.read_table(f'/home/users/clelland/era5/stations_pandas_files/{station}/{station}e53h.csv', sep=\";\", index_col='time')\n",
    "df = df[['u10', 'v10', 't2m', 'mn2t', 'mx2t', 'd2m', 'msl']]\n",
    "\n",
    "# Convert Kelvin temp values to Celsius\n",
    "def edit_temp_values(x):\n",
    "    return x - 273.15\n",
    "df['t2m'] = df['t2m'].apply(edit_temp_values)\n",
    "df['mn2t'] = df['mn2t'].apply(edit_temp_values)\n",
    "df['mx2t'] = df['mx2t'].apply(edit_temp_values)\n",
    "df['d2m'] = df['d2m'].apply(edit_temp_values)\n",
    "\n",
    "# Convert Pascal pressure values to hPa/mb (1 hPa = 1 mb)\n",
    "def edit_msl_values(x):\n",
    "    return x / 100\n",
    "df['msl'] = df['msl'].apply(edit_msl_values)\n",
    "\n",
    "# find wspeed and bearing\n",
    "pi = np.pi\n",
    "df['wspeed'] = np.sqrt((df['u10']**2) + (df['v10']**2))\n",
    "\n",
    "def find_bearing(x, y):\n",
    "    return (np.arctan2(x, y) + pi)\n",
    "df['bearing'] = ((find_bearing(df['u10'], df['v10']))*180/pi).round()\n",
    "\n",
    "df.index = pd.to_datetime(df.index)\n",
    "\n",
    "# (If necessary) edit the time period to deal with missing data from the met stations\n",
    "df = df['1966-01-01 01:00:00':]\n",
    "df = df.loc[(df.index < '1977-10-31 16:00:00') | (df.index > '1977-11-30 13:00:00')]\n",
    "\n",
    "df"
   ]
  },
  {
   "cell_type": "code",
   "execution_count": null,
   "id": "a445635f-cdaa-4584-a8b8-504b93c95c5e",
   "metadata": {},
   "outputs": [],
   "source": [
    "# read in met station data master file\n",
    "dfsrok = pd.read_table(\"/gws/nopw/j04/bas_climate/users/clelland/met_data/SROK8Cdata.txt\", sep=\";\", header=None) # <-- CHANGE AS NECESSARY\n",
    "\n",
    "# key variables from SROK8C main table:\n",
    "# 25, 26: wind direction (from), speed, 28:tp, 29:stl1? - treat separately, 34:t2m, 37:mn2t, 38:mx2t, 43:d2m, 45:msl"
   ]
  },
  {
   "cell_type": "code",
   "execution_count": null,
   "id": "94e9c89c-f451-4ee5-b004-f70ffd4c1bee",
   "metadata": {
    "tags": []
   },
   "outputs": [],
   "source": [
    "# get relevant rows from table - check row index for relevant years then use iloc\n",
    "dfstation = dfsrok.copy()\n",
    "#dfstation = dfstation[dfstation[0] == station]\n",
    "#dfstation = dfstation[dfstation[1] >= 1979]\n",
    "#dfstation = dfstation[dfstation[1] <= 2019]\n",
    "dfstation = dfstation.iloc[3:160475]\n",
    "\n",
    "# set datetime wrt timezone and if applicable use dfcsv index as index to ensure continuity\n",
    "# column 11 refers to timezone - take timezone off the local hour\n",
    "dfstation = dfstation.rename(columns={1:'year', 2:'month', 3:'day', 4:'hour'})\n",
    "def edit_time_values(x):\n",
    "    return x + 1\n",
    "dfstation['hour'] = dfstation['hour'].apply(edit_time_values)\n",
    "dfstation['time'] = pd.to_datetime(dfstation[['year', 'month', 'day', 'hour']])\n",
    "dfstation = dfstation.set_index(df.index)\n",
    "\n",
    "# select columns to use and rename\n",
    "dfstation = dfstation[[25, 26, 34, 37, 38, 43, 45]]\n",
    "dfstation = dfstation.rename(columns={25:'bearing1', 26:'wspeed1', 34:'t2m1', 37:'mn2t1', 38:'mx2t1', 43:'d2m1', 45:'msl1'})\n",
    "\n",
    "# fill in missing values with NaN\n",
    "dfstation = dfstation.replace('     ', np.nan, regex = True)\n",
    "\n",
    "# convert values to float\n",
    "dfstation['bearing1'] = pd.to_numeric(dfstation['bearing1'],errors = 'coerce')\n",
    "dfstation['wspeed1'] = pd.to_numeric(dfstation['wspeed1'],errors = 'coerce')\n",
    "dfstation = dfstation.astype(float)\n",
    "                         \n",
    "# work out u10 and v10 values\n",
    "# note the negative signs - the bearing gives the location of where the wind comes from, hence actual wind direction is 180o opposite\n",
    "pi = np.pi\n",
    "dfstation['theta1'] = (dfstation['bearing1']*pi)/180\n",
    "\n",
    "for i in dfstation['bearing1']:\n",
    "    def find_u10_values(z):\n",
    "        if 0 < i <= 90:\n",
    "            x = np.sin(z)\n",
    "        elif 90 < i <= 180:\n",
    "            x = np.cos(z - (pi/2))\n",
    "        elif 180 < i <= 270:\n",
    "            x = np.sin(z - pi)\n",
    "        else:\n",
    "            x = np.cos(z - ((3*pi)/2))\n",
    "        return -x * dfstation['wspeed1']\n",
    "dfstation['u101'] = (find_u10_values(dfstation['theta1'])).round(2)\n",
    "\n",
    "for i in dfstation['bearing1']:\n",
    "    def find_v10_values(z):\n",
    "        if 0 < i <= 90:\n",
    "            x = np.cos(z)\n",
    "        elif 90 < i <= 180:\n",
    "            x = np.sin(z - (pi/2))\n",
    "        elif 180 < i <= 270:\n",
    "            x = np.cos(z - pi)\n",
    "        else:\n",
    "            x = np.sin(z - ((3*pi)/2))\n",
    "        return -x * dfstation['wspeed1']\n",
    "dfstation['v101'] = (find_v10_values(dfstation['theta1'])).round(2)\n",
    "\n",
    "# round theta column\n",
    "dfstation['theta1'] = dfstation['theta1'].round(2)\n",
    "                         \n",
    "dfstation"
   ]
  },
  {
   "cell_type": "code",
   "execution_count": null,
   "id": "96e196d6-fb3b-4570-9f61-606d5fd256a3",
   "metadata": {},
   "outputs": [],
   "source": [
    "# Check data quality: column max, min, number of NaNs\n",
    "#dfstation['tp1'].max()\n",
    "#dfstation['tp1'].min()\n",
    "#dfstation['bearing1'].isna().sum()"
   ]
  },
  {
   "cell_type": "code",
   "execution_count": null,
   "id": "377b6c13-67dc-4643-bd65-d3052f85b992",
   "metadata": {},
   "outputs": [],
   "source": [
    "# merge the datasets\n",
    "result = pd.concat([df, dfstation], axis=1)\n",
    "result = result[['u10', 'u101', 'v10', 'v101', 'wspeed', 'wspeed1', 'bearing', 'bearing1', 'msl', 'msl1', 't2m', 't2m1', 'mn2t', 'mn2t1', 'mx2t', 'mx2t1', 'd2m', 'd2m1']]\n",
    "result.index = pd.to_datetime(result.index)\n",
    "result = result['1979-01-01 01:00:00':'2019-08-31 22:00:00']\n",
    "result"
   ]
  },
  {
   "cell_type": "code",
   "execution_count": null,
   "id": "117aa1d8-d404-4971-91ec-baddefa7fef1",
   "metadata": {},
   "outputs": [],
   "source": [
    "# find correlations\n",
    "print(result['t2m'].corr(result['t2m1']))\n",
    "print(result['mn2t'].corr(result['mn2t1']))\n",
    "print(result['mx2t'].corr(result['mx2t1']))\n",
    "print(result['d2m'].corr(result['d2m1']))\n",
    "print(result['msl'].corr(result['msl1']))\n",
    "print(result['u10'].corr(result['u101']))\n",
    "print(result['v10'].corr(result['v101']))\n",
    "print(result['wspeed'].corr(result['wspeed1']))\n",
    "print(result['bearing'].corr(result['bearing1']))"
   ]
  },
  {
   "cell_type": "code",
   "execution_count": null,
   "id": "ae852e3b-27a6-4b9c-882c-6a07ebb4aa74",
   "metadata": {},
   "outputs": [],
   "source": [
    "# find variance ratio\n",
    "print((result['t2m'].var())/(result['t2m1'].var()))\n",
    "print((result['mn2t'].var())/(result['mn2t1'].var()))\n",
    "print((result['mx2t'].var())/(result['mx2t1'].var()))\n",
    "print((result['d2m'].var())/(result['d2m1'].var()))\n",
    "print((result['msl'].var())/(result['msl1'].var()))\n",
    "print((result['u10'].var())/(result['u101'].var()))\n",
    "print((result['v10'].var())/(result['v101'].var()))\n",
    "print((result['wspeed'].var())/(result['wspeed1'].var()))\n",
    "print((result['bearing'].var())/(result['bearing1'].var()))"
   ]
  },
  {
   "cell_type": "code",
   "execution_count": null,
   "id": "2132a5fe-4bdc-4486-b892-604f7db9f45b",
   "metadata": {},
   "outputs": [],
   "source": [
    "# find RMSE, ignoring certain rows due to NaN values\n",
    "resultt2m = result[result['t2m1'].notna()]\n",
    "resultmn2t = result[result['mn2t1'].notna()]\n",
    "resultmn2t = resultmn2t[resultmn2t['mn2t'].notna()]\n",
    "resultmx2t = result[result['mx2t1'].notna()]\n",
    "resultmx2t = resultmx2t[resultmx2t['mx2t'].notna()]\n",
    "resultd2m = result[result['d2m1'].notna()]\n",
    "resultmsl = result[result['msl1'].notna()]\n",
    "resultu10 = result[result['u101'].notna()]\n",
    "resultv10 = result[result['v101'].notna()]\n",
    "resultwsp = result[result['wspeed1'].notna()]\n",
    "resultbea = result[result['bearing1'].notna()]\n",
    "\n",
    "print(np.sqrt(mean_squared_error(resultt2m['t2m1'], resultt2m['t2m'])))\n",
    "print(np.sqrt(mean_squared_error(resultmn2t['mn2t1'], resultmn2t['mn2t'])))\n",
    "print(np.sqrt(mean_squared_error(resultmx2t['mx2t1'], resultmx2t['mx2t'])))\n",
    "print(np.sqrt(mean_squared_error(resultd2m['d2m1'], resultd2m['d2m'])))\n",
    "print(np.sqrt(mean_squared_error(resultmsl['msl1'], resultmsl['msl'])))\n",
    "print(np.sqrt(mean_squared_error(resultu10['u101'], resultu10['u10'])))\n",
    "print(np.sqrt(mean_squared_error(resultv10['v101'], resultv10['v10'])))\n",
    "print(np.sqrt(mean_squared_error(resultwsp['wspeed1'], resultwsp['wspeed'])))\n",
    "print(np.sqrt(mean_squared_error(resultbea['bearing1'], resultbea['bearing'])))"
   ]
  },
  {
   "cell_type": "markdown",
   "id": "570fffb9-e9f3-4a05-91f2-24b89c31325d",
   "metadata": {
    "jp-MarkdownHeadingCollapsed": true,
    "tags": []
   },
   "source": [
    "## Daily data"
   ]
  },
  {
   "cell_type": "code",
   "execution_count": null,
   "id": "95c5a8b4-33e3-49a2-aa71-9dd51a95049c",
   "metadata": {},
   "outputs": [],
   "source": [
    "# Here, and throughout, edit variable names as necessary\n",
    "# Load processed csv file and define variables to be analysed\n",
    "dfdaily = pd.read_table(f'/home/users/clelland/era5/stations_pandas_files/{station}/{station}e5pdaily.csv', sep=\";\", index_col='time')\n",
    "dfdaily = dfdaily[['stl2', 'stl3', 'stl4', 'msl', 'sd', 'rsn', 't2m', 'mx2t', 'mn2t', 'tp', 'u10', 'v10']]\n",
    "\n",
    "# Convert Kelvin temp values to Celsius\n",
    "def edit_temp_values(x):\n",
    "    return x - 273.15\n",
    "dfdaily['stl2'] = dfdaily['stl2'].apply(edit_temp_values)\n",
    "dfdaily['stl3'] = dfdaily['stl3'].apply(edit_temp_values)\n",
    "dfdaily['stl4'] = dfdaily['stl4'].apply(edit_temp_values)\n",
    "dfdaily['mn2t'] = dfdaily['mn2t'].apply(edit_temp_values)\n",
    "dfdaily['mx2t'] = dfdaily['mx2t'].apply(edit_temp_values)\n",
    "dfdaily['t2m'] = dfdaily['t2m'].apply(edit_temp_values)\n",
    "\n",
    "# sd values need to be converted to snowfall in m and then * 100 to convert to cm - see https://confluence.ecmwf.int/pages/viewpage.action?pageId=155325734\n",
    "# actual snow depth = (sd*1000)/rsn\n",
    "def edit_sd_values(x, y):\n",
    "    return ((x*1000)/y) * 100\n",
    "dfdaily['sdadj'] = edit_sd_values(dfdaily['sd'], dfdaily['rsn'])\n",
    "\n",
    "# Convert m to mm for precipitation\n",
    "def edit_tp_values(x):\n",
    "    return x * 1000\n",
    "dfdaily['tp'] = dfdaily['tp'].apply(edit_tp_values)\n",
    "\n",
    "# Convert Pascal pressure values to hPa/mb (1 hPa = 1 mb)\n",
    "def edit_msl_values(x):\n",
    "    return x / 100\n",
    "dfdaily['msl'] = dfdaily['msl'].apply(edit_msl_values)\n",
    "\n",
    "# find wspeed\n",
    "pi = np.pi\n",
    "dfdaily['wspeed'] = np.sqrt((dfdaily['u10']**2) + (dfdaily['v10']**2))\n",
    "\n",
    "dfdaily = dfdaily[['stl2', 'stl3', 'stl4', 'sdadj', 't2m', 'mx2t', 'mn2t', 'tp', 'u10', 'v10', 'wspeed', 'msl']]\n",
    "\n",
    "dfdaily.index = pd.to_datetime(dfdaily.index)\n",
    "dfdaily = dfdaily.set_index(dfdaily.index.to_period('D'))\n",
    "\n",
    "dfdaily"
   ]
  },
  {
   "cell_type": "code",
   "execution_count": null,
   "id": "8068593f-2aa8-4e25-9d37-9e0a225564b3",
   "metadata": {},
   "outputs": [],
   "source": [
    "# read in met station data - CHANGE AS NECESSARY\n",
    "dfsnow = pd.read_table(\"/gws/nopw/j04/bas_climate/users/clelland/met_data/SNOWdata.txt\", sep=\";\", header=None)\n",
    "dfsoil = pd.read_table(\"/gws/nopw/j04/bas_climate/users/clelland/met_data/TPGdata.txt\", sep=\";\", header=None)\n",
    "dftemp = pd.read_table(\"/gws/nopw/j04/bas_climate/users/clelland/met_data/TTTRdata.txt\", sep=\";\", header=None)"
   ]
  },
  {
   "cell_type": "code",
   "execution_count": null,
   "id": "e9aafe01-322e-4828-aaed-90515c7b53ea",
   "metadata": {},
   "outputs": [],
   "source": [
    "# Snow depth\n",
    "# get relevant rows from table - check row index for relevant years then use iloc\n",
    "dfstationsnow = dfsnow.copy()\n",
    "#dfstationsnow = dfstationsnow[dfstationsnow[0] == station]\n",
    "#dfstationsnow = dfstationsnow[dfstationsnow[1] >= 1979]\n",
    "#dfstationsnow = dfstationsnow[dfstationsnow[1] <= 2019]\n",
    "dfstationsnow = dfstationsnow.iloc[24625:39966]\n",
    "\n",
    "# set datetime wrt timezone and use dfcsvdaily index as index to ensure continuity\n",
    "dfstationsnow = dfstationsnow.rename(columns={1:'year', 2:'month', 3:'day'})\n",
    "dfstationsnow['time'] = pd.to_datetime(dfstationsnow[['year', 'month', 'day']])\n",
    "dfstationsnow = dfstationsnow.set_index(dfstationsnow.time)\n",
    "\n",
    "# select columns to use and rename\n",
    "dfstationsnow = dfstationsnow[[4]]\n",
    "dfstationsnow = dfstationsnow.rename(columns={4:'sd1'})\n",
    "\n",
    "# fill in missing values with NaN\n",
    "dfstationsnow = dfstationsnow.mask(np.isclose(dfstationsnow.values, 9999))\n",
    "\n",
    "# convert values to float\n",
    "dfstationsnow = dfstationsnow.astype(float)\n",
    "\n",
    "# define tieme period for analysis\n",
    "dfstationsnow = dfstationsnow['1979-01-01':'2019-08-31']\n",
    "dfstationsnow = dfstationsnow.set_index(dfdaily.index)\n",
    "\n",
    "dfstationsnow"
   ]
  },
  {
   "cell_type": "code",
   "execution_count": null,
   "id": "22e20eb6-5dc9-4d88-bef9-26a451bd8b16",
   "metadata": {},
   "outputs": [],
   "source": [
    "# Soil temps\n",
    "# get relevant rows from table - check row index for relevant years then use iloc\n",
    "dfstationsoil = dfsoil.copy()\n",
    "#dfstationsoil = dfstationsoil[dfstationsoil[0] == 23678]\n",
    "#dfstationsoil = dfstationsoil[dfstationsoil[1] >= 1979]\n",
    "#dfstationsoil = dfstationsoil[dfstationsoil[1] <= 2020]\n",
    "dfstationsoil = dfstationsoil.iloc[744:7750]\n",
    "\n",
    "# select which columns to use and rename\n",
    "dfstationsoil = dfstationsoil[[8, 9, 11, 13, 15]]\n",
    "dfstationsoil = dfstationsoil.rename(columns={8:'20cm', 9:'40cm', 11:'80cm', 13:'160cm', 15:'320cm'})\n",
    "\n",
    "# convert values to float\n",
    "dfstationsoil = dfstationsoil.astype(float)\n",
    "\n",
    "# fill in missing dfstationsoil with NaN and drop rows with all NaN\n",
    "dfstationsoil = dfstationsoil.mask(np.isclose(dfstationsoil.values, 999.9))\n",
    "dfstationsoil = dfstationsoil.dropna(how='all')\n",
    "\n",
    "# data finishes in October 1997 - get relevant rows from dfdaily\n",
    "dfdailyreduced = dfdaily.copy()\n",
    "dfdailyreduced = dfdailyreduced['1977-01-01':'1997-10-31']\n",
    "dfdailyreduced = dfdailyreduced.loc[(dfdailyreduced.index < '1977-11-01') | (dfdailyreduced.index > '1977-11-30')]\n",
    "#dfdailyreduced = dfdailyreduced.loc[:'1997-10-31']\n",
    "\n",
    "# set datetime wrt timezone and use dfcsvdaily index as index to ensure continuity\n",
    "dfstationsoil = dfstationsoil.set_index(dfdailyreduced.index)\n",
    "\n",
    "# estimate 60cm temps\n",
    "dfstationsoil['60cm'] = (dfstationsoil['40cm'] + dfstationsoil['80cm'])/2\n",
    "\n",
    "dfstationsoil = dfstationsoil[['20cm', '40cm', '60cm', '80cm', '160cm', '320cm']]\n",
    "dfstationsoil"
   ]
  },
  {
   "cell_type": "code",
   "execution_count": null,
   "id": "d76a8d2f-81c5-4b62-9b58-d9f18468c20d",
   "metadata": {},
   "outputs": [],
   "source": [
    "# Temperature and precipitation variables\n",
    "# get relevant rows from table - check row index for relevant years then use iloc\n",
    "dfstationtemp = dftemp.copy()\n",
    "#dfstationtemp = dfstationtemp[dfstationtemp[0] == station]\n",
    "#dfstationtemp = dfstationtemp[dfstationtemp[1] >= 1979]\n",
    "#dfstationtemp = dfstationtemp[dfstationtemp[1] <= 2020]\n",
    "dfstationtemp = dfstationtemp.iloc[24837:40178]\n",
    "\n",
    "# set datetime wrt timezone and use dfcsv index as index to ensure continuity\n",
    "dfstationtemp = dfstationtemp.rename(columns={1:'year', 2:'month', 3:'day'})\n",
    "dfstationtemp['time'] = pd.to_datetime(dfstationtemp[['year', 'month', 'day']])\n",
    "dfstationtemp = dfstationtemp.set_index(dfstationtemp.time)\n",
    "\n",
    "# select columns to use and rename\n",
    "dfstationtemp = dfstationtemp[[5, 6, 7, 8]]\n",
    "dfstationtemp = dfstationtemp.rename(columns={5:'mn2t1', 6:'t2m1', 7:'mx2t1', 8:'tp1'})\n",
    "\n",
    "# convert values to float\n",
    "dfstationtemp = dfstationtemp.replace('     ', np.nan, regex = True)\n",
    "dfstationtemp = dfstationtemp.astype(float)\n",
    "\n",
    "# set time period\n",
    "dfstationtemp = dfstationtemp['1979-01-01':'2019-08-31']\n",
    "dfstationtemp = dfstationtemp.set_index(dfdaily.index)\n",
    "\n",
    "dfstationtemp"
   ]
  },
  {
   "cell_type": "code",
   "execution_count": null,
   "id": "ce6e516d-18a6-44e3-bbd3-c0f95e85d96c",
   "metadata": {},
   "outputs": [],
   "source": [
    "# Wind speed - from sub-daily data\n",
    "dfstationwind = result.copy()\n",
    "dfstationwind = dfstationwind[['wspeed1', 'msl1']]\n",
    "dfstationwind.index = pd.to_datetime(dfstationwind.index)\n",
    "dfstationwind = dfstationwind.resample('D').mean()\n",
    "#dfstationwind = dfstationwind.set_index(dfdaily.index)\n",
    "\n",
    "dfdailywind = dfdaily.copy()\n",
    "dfdailywind = dfdailywind['1979-01-01':'2019-08-31']\n",
    "dfstationwind = dfstationwind.set_index(dfdailywind.index)\n",
    "\n",
    "dfstationwind"
   ]
  },
  {
   "cell_type": "code",
   "execution_count": null,
   "id": "a44ab3b8-b57f-4045-9669-4652edbc41e3",
   "metadata": {
    "tags": []
   },
   "outputs": [],
   "source": [
    "# Check data quality: column max, min, number of NaNs\n",
    "#dfstationsnow['tp'].max()\n",
    "#dfstationsnow['tp'].min()\n",
    "#dfstationsnow['tp'].isna().sum()"
   ]
  },
  {
   "cell_type": "code",
   "execution_count": null,
   "id": "ee96878b-b82b-459b-a470-a2bb20b1431a",
   "metadata": {},
   "outputs": [],
   "source": [
    "# merge the datasets\n",
    "resultdaily = pd.concat([dfdaily, dfstationsnow, dfstationtemp, dfstationwind], axis=1)\n",
    "resultdaily = resultdaily[['sdadj', 'sd1', 'SD', 'RSN', 't2m', 't2m1', 'mx2t', 'mx2t1', 'mn2t', 'mn2t1', 'tp', 'tp1', 'wspeed', 'wspeed1', 'msl', 'msl1']]\n",
    "resultdaily"
   ]
  },
  {
   "cell_type": "code",
   "execution_count": null,
   "id": "051bbc3e-ee30-4cad-b788-4617dbb91bfe",
   "metadata": {},
   "outputs": [],
   "source": [
    "resultdaily['tpbias'] = resultdaily['tp1'] - resultdaily['tp']\n",
    "tpbias = (resultdaily['tpbias'].sum())/(resultdaily['tpbias'].notnull().sum())\n",
    "resultdaily['t2mbias'] = resultdaily['t2m1'] - resultdaily['t2m']\n",
    "t2mbias = (resultdaily['t2mbias'].sum())/(resultdaily['t2mbias'].notnull().sum())\n",
    "resultdaily['mn2tbias'] = resultdaily['mn2t1'] - resultdaily['mn2t']\n",
    "mn2tbias = (resultdaily['mn2tbias'].sum())/(resultdaily['mn2tbias'].notnull().sum())\n",
    "resultdaily['mx2tbias'] = resultdaily['mx2t1'] - resultdaily['mx2t']\n",
    "mx2tbias = (resultdaily['mx2tbias'].sum())/(resultdaily['mx2tbias'].notnull().sum())\n",
    "resultdaily['sdbias'] = resultdaily['sd1'] - resultdaily['sdadj']\n",
    "sdbias = (resultdaily['sdbias'].sum())/(resultdaily['sdbias'].notnull().sum())\n",
    "resultdaily['wspbias'] = resultdaily['wspeed1'] - resultdaily['wspeed']\n",
    "wspbias = (resultdaily['wspbias'].sum())/(resultdaily['wspbias'].notnull().sum())\n",
    "resultdaily['mslbias'] = resultdaily['msl1'] - resultdaily['msl']\n",
    "mslbias = (resultdaily['mslbias'].sum())/(resultdaily['mslbias'].notnull().sum())\n",
    "print(tpbias)\n",
    "print(t2mbias)\n",
    "print(mn2tbias)\n",
    "print(mx2tbias)\n",
    "print(sdbias)\n",
    "print(wspbias)\n",
    "print(mslbias)"
   ]
  },
  {
   "cell_type": "code",
   "execution_count": null,
   "id": "45e5e129-8982-4059-966f-0b0dc0614c79",
   "metadata": {
    "tags": []
   },
   "outputs": [],
   "source": [
    "# find correlations\n",
    "print(resultdaily['tp'].corr(resultdaily['tp1']))\n",
    "print(resultdaily['t2m'].corr(resultdaily['t2m1']))\n",
    "print(resultdaily['mn2t'].corr(resultdaily['mn2t1']))\n",
    "print(resultdaily['mx2t'].corr(resultdaily['mx2t1']))\n",
    "print(resultdaily['sdadj'].corr(resultdaily['sd1']))\n",
    "print(resultdaily['wspeed'].corr(resultdaily['wspeed1']))\n",
    "print(resultdaily['msl'].corr(resultdaily['msl1']))"
   ]
  },
  {
   "cell_type": "code",
   "execution_count": null,
   "id": "1f5118fd-3d3f-4f33-bdf1-359da874d564",
   "metadata": {},
   "outputs": [],
   "source": [
    "# find variance ratio\n",
    "print((resultdaily['tp'].var())/(resultdaily['tp1'].var()))\n",
    "print((resultdaily['t2m'].var())/(resultdaily['t2m1'].var()))\n",
    "print((resultdaily['mn2t'].var())/(resultdaily['mn2t1'].var()))\n",
    "print((resultdaily['mx2t'].var())/(resultdaily['mx2t1'].var()))\n",
    "print((resultdaily['sdadj'].var())/(resultdaily['sd1'].var()))\n",
    "print((resultdaily['wspeed'].var())/(resultdaily['wspeed1'].var()))\n",
    "print((resultdaily['msl'].var())/(resultdaily['msl1'].var()))"
   ]
  },
  {
   "cell_type": "code",
   "execution_count": null,
   "id": "7f3db2e7-c61f-4d1c-b2ae-f2ddb7600744",
   "metadata": {
    "tags": []
   },
   "outputs": [],
   "source": [
    "# find rmse - actual then predicted\n",
    "resultdailytp = resultdaily[resultdaily['tp'].notna()]\n",
    "resultdailytp = resultdailytp[resultdailytp['tp1'].notna()]\n",
    "resultdailyt2m = resultdaily[resultdaily['t2m1'].notna()]\n",
    "resultdailymn2t = resultdaily[resultdaily['mn2t'].notna()]\n",
    "resultdailymn2t = resultdailymn2t[resultdailymn2t['mn2t1'].notna()]\n",
    "resultdailymx2t = resultdaily[resultdaily['mx2t'].notna()]\n",
    "resultdailymx2t = resultdailymx2t[resultdailymx2t['mx2t1'].notna()]\n",
    "resultdailysd = resultdaily[resultdaily['sd1'].notna()]\n",
    "resultdailywsp = resultdaily[resultdaily['wspeed1'].notna()]\n",
    "resultdailymsl = resultdaily[resultdaily['msl1'].notna()]\n",
    "\n",
    "print(np.sqrt(mean_squared_error(resultdailytp['tp1'], resultdailytp['tp'])))\n",
    "print(np.sqrt(mean_squared_error(resultdailyt2m['t2m1'], resultdailyt2m['t2m'])))\n",
    "print(np.sqrt(mean_squared_error(resultdailymn2t['mn2t1'], resultdailymn2t['mn2t'])))\n",
    "print(np.sqrt(mean_squared_error(resultdailymx2t['mx2t1'], resultdailymx2t['mx2t'])))\n",
    "print(np.sqrt(mean_squared_error(resultdailysd['sd1'], resultdailysd['sdadj'])))\n",
    "print(np.sqrt(mean_squared_error(resultdailywsp['wspeed1'], resultdailywsp['wspeed'])))\n",
    "print(np.sqrt(mean_squared_error(resultdailymsl['msl1'], resultdailymsl['msl'])))"
   ]
  },
  {
   "cell_type": "code",
   "execution_count": null,
   "id": "83376e9b-b6e4-4ccb-bc73-07901d201602",
   "metadata": {},
   "outputs": [],
   "source": [
    "# Soil only - merge the reduced datasets\n",
    "resultdailyreduced = pd.concat([dfdailyreduced, dfstationsoil], axis=1)\n",
    "resultdailyreduced = resultdailyreduced[['stl2', '20cm', 'stl3', '40cm', '60cm', '80cm', 'stl4', '160cm', '320cm']]\n",
    "resultdailyreduced"
   ]
  },
  {
   "cell_type": "code",
   "execution_count": null,
   "id": "53977e61-f3e7-483a-a3d4-e07e70320fcb",
   "metadata": {},
   "outputs": [],
   "source": [
    "# find correlations\n",
    "print(resultdailyreduced['stl2'].corr(resultdailyreduced['20cm']))\n",
    "print(resultdailyreduced['stl3'].corr(resultdailyreduced['40cm']))\n",
    "print(resultdailyreduced['stl3'].corr(resultdailyreduced['60cm']))\n",
    "print(resultdailyreduced['stl3'].corr(resultdailyreduced['80cm']))\n",
    "print(resultdailyreduced['stl4'].corr(resultdailyreduced['160cm']))\n",
    "print(resultdailyreduced['stl4'].corr(resultdailyreduced['320cm']))"
   ]
  },
  {
   "cell_type": "code",
   "execution_count": null,
   "id": "469061a9-16c4-4586-813c-c5afb7779bac",
   "metadata": {},
   "outputs": [],
   "source": [
    "# find variance ratio\n",
    "print((resultdailyreduced['stl2'].var())/(resultdailyreduced['20cm'].var()))\n",
    "print((resultdailyreduced['stl3'].var())/(resultdailyreduced['40cm'].var()))\n",
    "print((resultdailyreduced['stl3'].var())/(resultdailyreduced['60cm'].var()))\n",
    "print((resultdailyreduced['stl3'].var())/(resultdailyreduced['80cm'].var()))\n",
    "print((resultdailyreduced['stl4'].var())/(resultdailyreduced['160cm'].var()))\n",
    "print((resultdailyreduced['stl4'].var())/(resultdailyreduced['320cm'].var()))"
   ]
  },
  {
   "cell_type": "code",
   "execution_count": null,
   "id": "a10b4c0c-77ca-4b7f-8487-7dc34ab82e2b",
   "metadata": {},
   "outputs": [],
   "source": [
    "# find rmse - actual then predicted, using redacted datasets\n",
    "resultdailyreduced20 = resultdailyreduced[resultdailyreduced['20cm'].notna()]\n",
    "resultdailyreduced40 = resultdailyreduced[resultdailyreduced['40cm'].notna()]\n",
    "resultdailyreduced60 = resultdailyreduced[resultdailyreduced['60cm'].notna()]\n",
    "resultdailyreduced80 = resultdailyreduced[resultdailyreduced['80cm'].notna()]\n",
    "resultdailyreduced160 = resultdailyreduced[resultdailyreduced['160cm'].notna()]\n",
    "resultdailyreduced320 = resultdailyreduced[resultdailyreduced['320cm'].notna()]\n",
    "\n",
    "print(np.sqrt(mean_squared_error(resultdailyreduced20['20cm'], resultdailyreduced20['stl2'])))\n",
    "print(np.sqrt(mean_squared_error(resultdailyreduced40['40cm'], resultdailyreduced40['stl3'])))\n",
    "print(np.sqrt(mean_squared_error(resultdailyreduced60['60cm'], resultdailyreduced60['stl3'])))\n",
    "print(np.sqrt(mean_squared_error(resultdailyreduced80['80cm'], resultdailyreduced80['stl3'])))\n",
    "print(np.sqrt(mean_squared_error(resultdailyreduced160['160cm'], resultdailyreduced160['stl4'])))\n",
    "print(np.sqrt(mean_squared_error(resultdailyreduced320['320cm'], resultdailyreduced320['stl4'])))"
   ]
  },
  {
   "cell_type": "markdown",
   "id": "adb8c327-682f-4fac-ba0e-56600f5e5246",
   "metadata": {
    "jp-MarkdownHeadingCollapsed": true,
    "tags": []
   },
   "source": [
    "## Monthly data"
   ]
  },
  {
   "cell_type": "code",
   "execution_count": null,
   "id": "8c4fe753-7f6c-485a-803d-8631975cafc6",
   "metadata": {},
   "outputs": [],
   "source": [
    "# Resample daily to monthly\n",
    "resultmonthly = resultdaily.copy()\n",
    "#resultmonthly = resultmonthly.drop(['mx2t', 'mn2t', 'mx2t1', 'mn2t1'], axis=1)\n",
    "\n",
    "resultmonthlymean = resultmonthly[['t2m', 't2m1', 'msl', 'msl1', 'sdadj', 'sd1']].resample('M').mean()\n",
    "resultmonthlymean = resultmonthlymean.rename(columns={'sdadj':'sdadjmean', 'sd1':'sd1mean'})\n",
    "resultmonthlysum = resultmonthly[['tp', 'tp1', 'sdadj', 'sd1']].resample('M').sum()\n",
    "resultmonthlysum = resultmonthlysum.rename(columns={'sdadj':'sdadjsum', 'sd1':'sd1sum'})\n",
    "resultmonthlymin = resultmonthly[['mn2t', 'mn2t1']].resample('M').min()\n",
    "resultmonthlymax = resultmonthly[['mx2t', 'mx2t1']].resample('M').max()\n",
    "\n",
    "resultmonthly = pd.concat([resultmonthlymean, resultmonthlysum, resultmonthlymin, resultmonthlymax], axis=1)\n",
    "\n",
    "# set months with > 10% missing data to np.nan\n",
    "#resultmonthly['msl1'].loc['1977-11'] = np.nan\n",
    "#resultmonthly['tp1'].loc['1977-11'] = np.nan\n",
    "#resultmonthly['sd1sum'].loc['1977-11'] = np.nan\n",
    "\n",
    "resultmonthly"
   ]
  },
  {
   "cell_type": "code",
   "execution_count": null,
   "id": "aac3fbac-2ed2-453f-8f9c-1fb529f88ec4",
   "metadata": {},
   "outputs": [],
   "source": [
    "# Find biases\n",
    "resultmonthly['tpbias'] = resultmonthly['tp1'] - resultmonthly['tp']\n",
    "tpbias = (resultmonthly['tpbias'].sum())/(resultmonthly['tpbias'].notnull().sum())\n",
    "resultmonthly['mslbias'] = resultmonthly['msl1'] - resultmonthly['msl']\n",
    "mslbias = (resultmonthly['mslbias'].sum())/(resultmonthly['mslbias'].notnull().sum())\n",
    "resultmonthly['t2mbias'] = resultmonthly['t2m1'] - resultmonthly['t2m']\n",
    "t2mbias = (resultmonthly['t2mbias'].sum())/(resultmonthly['t2mbias'].notnull().sum())\n",
    "resultmonthly['sdmeanbias'] = resultmonthly['sd1mean'] - resultmonthly['sdadjmean']\n",
    "sdmeanbias = (resultmonthly['sdmeanbias'].sum())/(resultmonthly['sdmeanbias'].notnull().sum())\n",
    "resultmonthly['sdsumbias'] = resultmonthly['sd1sum'] - resultmonthly['sdadjsum']\n",
    "sdsumbias = (resultmonthly['sdsumbias'].sum())/(resultmonthly['sdsumbias'].notnull().sum())\n",
    "print(tpbias)\n",
    "print(mslbias)\n",
    "print(t2mbias)\n",
    "print(sdmeanbias)\n",
    "print(sdsumbias)"
   ]
  },
  {
   "cell_type": "code",
   "execution_count": null,
   "id": "d13f95e0-7f62-4e8a-9460-e7d6fc65d0eb",
   "metadata": {},
   "outputs": [],
   "source": [
    "# find correlations\n",
    "print(resultmonthly['tp'].corr(resultmonthly['tp1']))\n",
    "print(resultmonthly['msl'].corr(resultmonthly['msl1']))\n",
    "print(resultmonthly['t2m'].corr(resultmonthly['t2m1']))\n",
    "print(resultmonthly['sdadjmean'].corr(resultmonthly['sd1mean']))\n",
    "print(resultmonthly['sdadjsum'].corr(resultmonthly['sd1sum']))"
   ]
  },
  {
   "cell_type": "code",
   "execution_count": null,
   "id": "639ff9c9-244d-4577-aacb-79305834e847",
   "metadata": {},
   "outputs": [],
   "source": [
    "# find variance ratio\n",
    "print((resultmonthly['tp'].var())/(resultmonthly['tp1'].var()))\n",
    "print((resultmonthly['msl'].var())/(resultmonthly['msl1'].var()))\n",
    "print((resultmonthly['t2m'].var())/(resultmonthly['t2m1'].var()))\n",
    "print((resultmonthly['sdadjmean'].var())/(resultmonthly['sd1mean'].var()))\n",
    "print((resultmonthly['sdadjsum'].var())/(resultmonthly['sd1sum'].var()))"
   ]
  },
  {
   "cell_type": "code",
   "execution_count": null,
   "id": "45f456ae-44bf-4631-bf85-b80e478e9f49",
   "metadata": {},
   "outputs": [],
   "source": [
    "# find rmse - actual then predicted\n",
    "resultmonthlytp = resultmonthly[resultmonthly['tp1'].notna()]\n",
    "resultmonthlymsl = resultmonthly[resultmonthly['msl1'].notna()]\n",
    "resultmonthlyt2m = resultmonthly[resultmonthly['t2m1'].notna()]\n",
    "resultmonthlysdmean = resultmonthly[resultmonthly['sd1mean'].notna()]\n",
    "resultmonthlysdsum = resultmonthly[resultmonthly['sd1sum'].notna()]\n",
    "print(np.sqrt(mean_squared_error(resultmonthlytp['tp1'], resultmonthlytp['tp'])))\n",
    "print(np.sqrt(mean_squared_error(resultmonthlymsl['msl1'], resultmonthlymsl['msl'])))\n",
    "print(np.sqrt(mean_squared_error(resultmonthlyt2m['t2m1'], resultmonthlyt2m['t2m'])))\n",
    "print(np.sqrt(mean_squared_error(resultmonthlysdmean['sd1mean'], resultmonthlysdmean['sdadjmean'])))\n",
    "print(np.sqrt(mean_squared_error(resultmonthlysdsum['sd1sum'], resultmonthlysdsum['sdadjsum'])))"
   ]
  },
  {
   "cell_type": "code",
   "execution_count": null,
   "id": "86a5a336-2ca9-4319-a106-3907a3d7f463",
   "metadata": {},
   "outputs": [],
   "source": [
    "# Treat soil separately\n",
    "resultmonthlyreduced = resultdailyreduced.copy()\n",
    "resultmonthlyreduced = resultmonthlyreduced.resample('M').mean()\n",
    "\n",
    "# set months with > 10% missing data to np.nan\n",
    "resultmonthlyreduced['40cm'].loc['1991-05'] = np.nan\n",
    "resultmonthlyreduced['160cm'].loc['1991-05', '1991-09', '1992-01', '1993-07'] = np.nan\n",
    "resultmonthlyreduced['320cm'].loc['1992-06', '1992-07'] = np.nan\n",
    "\n",
    "resultmonthlyreduced"
   ]
  },
  {
   "cell_type": "code",
   "execution_count": null,
   "id": "1702c8f9-f8aa-44fa-bcab-edf2937f9ce4",
   "metadata": {},
   "outputs": [],
   "source": [
    "# find correlations\n",
    "print(resultmonthlyreduced['stl2'].corr(resultmonthlyreduced['20cm']))\n",
    "print(resultmonthlyreduced['stl3'].corr(resultmonthlyreduced['40cm']))\n",
    "print(resultmonthlyreduced['stl3'].corr(resultmonthlyreduced['60cm']))\n",
    "print(resultmonthlyreduced['stl3'].corr(resultmonthlyreduced['80cm']))\n",
    "print(resultmonthlyreduced['stl4'].corr(resultmonthlyreduced['160cm']))\n",
    "print(resultmonthlyreduced['stl4'].corr(resultmonthlyreduced['320cm']))"
   ]
  },
  {
   "cell_type": "code",
   "execution_count": null,
   "id": "d2ebe9dc-deb7-441d-b410-388e1e7aafc6",
   "metadata": {},
   "outputs": [],
   "source": [
    "# find variance ratio\n",
    "print((resultmonthlyreduced['stl2'].var())/(resultmonthlyreduced['20cm'].var()))\n",
    "print((resultmonthlyreduced['stl3'].var())/(resultmonthlyreduced['40cm'].var()))\n",
    "print((resultmonthlyreduced['stl3'].var())/(resultmonthlyreduced['60cm'].var()))\n",
    "print((resultmonthlyreduced['stl3'].var())/(resultmonthlyreduced['80cm'].var()))\n",
    "print((resultmonthlyreduced['stl4'].var())/(resultmonthlyreduced['160cm'].var()))\n",
    "print((resultmonthlyreduced['stl4'].var())/(resultmonthlyreduced['320cm'].var()))"
   ]
  },
  {
   "cell_type": "code",
   "execution_count": null,
   "id": "722e7a14-52ae-4834-a2fa-0d27610a0728",
   "metadata": {},
   "outputs": [],
   "source": [
    "# find rmse - actual then predicted, using redacted datasets\n",
    "resultmonthlyreduced20 = resultmonthlyreduced[resultmonthlyreduced['20cm'].notna()]\n",
    "resultmonthlyreduced40 = resultmonthlyreduced[resultmonthlyreduced['40cm'].notna()]\n",
    "resultmonthlyreduced60 = resultmonthlyreduced[resultmonthlyreduced['60cm'].notna()]\n",
    "resultmonthlyreduced80 = resultmonthlyreduced[resultmonthlyreduced['80cm'].notna()]\n",
    "resultmonthlyreduced160 = resultmonthlyreduced[resultmonthlyreduced['160cm'].notna()]\n",
    "resultmonthlyreduced320 = resultmonthlyreduced[resultmonthlyreduced['320cm'].notna()]\n",
    "\n",
    "print(np.sqrt(mean_squared_error(resultmonthlyreduced20['20cm'], resultmonthlyreduced20['stl2'])))\n",
    "print(np.sqrt(mean_squared_error(resultmonthlyreduced40['40cm'], resultmonthlyreduced40['stl3'])))\n",
    "print(np.sqrt(mean_squared_error(resultmonthlyreduced60['60cm'], resultmonthlyreduced60['stl3'])))\n",
    "print(np.sqrt(mean_squared_error(resultmonthlyreduced80['80cm'], resultmonthlyreduced80['stl3'])))\n",
    "print(np.sqrt(mean_squared_error(resultmonthlyreduced160['160cm'], resultmonthlyreduced160['stl4'])))\n",
    "print(np.sqrt(mean_squared_error(resultmonthlyreduced320['320cm'], resultmonthlyreduced320['stl4'])))"
   ]
  },
  {
   "cell_type": "markdown",
   "id": "c9390c5b-db43-4ab9-ad6a-1dac85784c17",
   "metadata": {
    "jp-MarkdownHeadingCollapsed": true,
    "tags": []
   },
   "source": [
    "## Seasonal data"
   ]
  },
  {
   "cell_type": "code",
   "execution_count": null,
   "id": "e9fb793f-4a41-4469-b475-e2e9ec6d2a09",
   "metadata": {},
   "outputs": [],
   "source": [
    "# write month_to_season function - RUN EVERY TIME\n",
    "def month_to_season(x):\n",
    "    if x == 3 or x == 4 or x == 5:\n",
    "        season = 'MAM'\n",
    "    elif x == 6 or x == 7 or x == 8:\n",
    "        season = 'JJA'\n",
    "    elif x == 9 or x == 10 or x == 11:\n",
    "        season = 'SON'\n",
    "    elif x == 12 or x == 1 or x == 2:\n",
    "        season = 'DJF'\n",
    "    else:\n",
    "        season = np.nan\n",
    "    return season"
   ]
  },
  {
   "cell_type": "code",
   "execution_count": null,
   "id": "15d7f282-be67-4d0f-9834-ddc4fbfbfdab",
   "metadata": {},
   "outputs": [],
   "source": [
    "# Process seasonal data from monthly\n",
    "resultseasonal = resultmonthly.copy()\n",
    "\n",
    "# apply function to database\n",
    "resultseasonal['season'] = resultseasonal.index.to_series()\n",
    "resultseasonal['season'] = resultseasonal['season'].dt.month\n",
    "resultseasonal['season'] = resultseasonal['season'].apply(month_to_season)\n",
    "\n",
    "# group by season\n",
    "resultseasonalmean = resultseasonal.groupby([resultseasonal.index.year, 'season'], sort=False)['t2m', 't2m1', 'msl', 'msl1', 'sdadjmean', 'sd1mean'].mean()\n",
    "resultseasonalsum = resultseasonal.groupby([resultseasonal.index.year, 'season'], sort=False)['tp', 'tp1', 'sdadjsum', 'sd1sum'].sum()\n",
    "\n",
    "resultseasonal = pd.concat([resultseasonalmean, resultseasonalsum], axis=1)\n",
    "resultseasonal"
   ]
  },
  {
   "cell_type": "code",
   "execution_count": null,
   "id": "a6c67606-fbf7-48eb-8d05-bdbafa8210af",
   "metadata": {},
   "outputs": [],
   "source": [
    "# find correlations\n",
    "print(resultseasonal['tp'].corr(resultseasonal['tp1']))\n",
    "print(resultseasonal['msl'].corr(resultseasonal['msl1']))\n",
    "print(resultseasonal['t2m'].corr(resultseasonal['t2m1']))\n",
    "print(resultseasonal['sdadjmean'].corr(resultseasonal['sd1mean']))\n",
    "print(resultseasonal['sdadjsum'].corr(resultseasonal['sd1sum']))"
   ]
  },
  {
   "cell_type": "code",
   "execution_count": null,
   "id": "3365fd6a-3abf-4c01-bfad-473fda090c53",
   "metadata": {},
   "outputs": [],
   "source": [
    "# find variance ratio\n",
    "print((resultseasonal['tp'].var())/(resultseasonal['tp1'].var()))\n",
    "print((resultseasonal['msl'].var())/(resultseasonal['msl1'].var()))\n",
    "print((resultseasonal['t2m'].var())/(resultseasonal['t2m1'].var()))\n",
    "print((resultseasonal['sdadjmean'].var())/(resultseasonal['sd1mean'].var()))\n",
    "print((resultseasonal['sdadjsum'].var())/(resultseasonal['sd1sum'].var()))"
   ]
  },
  {
   "cell_type": "code",
   "execution_count": null,
   "id": "4e13bded-9cc4-4e7c-b99c-e3c757e0d239",
   "metadata": {},
   "outputs": [],
   "source": [
    "# find rmse - actual then predicted\n",
    "print(np.sqrt(mean_squared_error(resultseasonal['tp1'], resultseasonal['tp'])))\n",
    "print(np.sqrt(mean_squared_error(resultseasonal['msl1'], resultseasonal['msl'])))\n",
    "print(np.sqrt(mean_squared_error(resultseasonal['t2m1'], resultseasonal['t2m'])))\n",
    "print(np.sqrt(mean_squared_error(resultseasonal['sd1mean'], resultseasonal['sdadjmean'])))\n",
    "print(np.sqrt(mean_squared_error(resultseasonal['sd1sum'], resultseasonal['sdadjsum'])))"
   ]
  },
  {
   "cell_type": "code",
   "execution_count": null,
   "id": "e6581318-c045-491b-9f84-90a242b6c1ea",
   "metadata": {},
   "outputs": [],
   "source": [
    "# Treat soil separately\n",
    "resultseasonalreduced = resultmonthlyreduced.copy()\n",
    "\n",
    "# apply function to database\n",
    "resultseasonalreduced['season'] = resultseasonalreduced.index.to_series()\n",
    "resultseasonalreduced['season'] = resultseasonalreduced['season'].dt.month\n",
    "resultseasonalreduced['season'] = resultseasonalreduced['season'].apply(month_to_season)\n",
    "\n",
    "# group by season\n",
    "resultseasonalreduced = resultseasonalreduced.groupby([resultseasonalreduced.index.year, 'season'], sort=False).mean()\n",
    "\n",
    "resultseasonalreduced"
   ]
  },
  {
   "cell_type": "code",
   "execution_count": null,
   "id": "b29351d9-aaa8-479f-a65f-bfe924ac04de",
   "metadata": {},
   "outputs": [],
   "source": [
    "# find correlations\n",
    "print(resultseasonalreduced['stl2'].corr(resultseasonalreduced['20cm']))\n",
    "print(resultseasonalreduced['stl3'].corr(resultseasonalreduced['40cm']))\n",
    "print(resultseasonalreduced['stl3'].corr(resultseasonalreduced['60cm']))\n",
    "print(resultseasonalreduced['stl3'].corr(resultseasonalreduced['80cm']))\n",
    "print(resultseasonalreduced['stl4'].corr(resultseasonalreduced['160cm']))\n",
    "print(resultseasonalreduced['stl4'].corr(resultseasonalreduced['320cm']))"
   ]
  },
  {
   "cell_type": "code",
   "execution_count": null,
   "id": "afbe2331-d9c5-496b-85ec-10849cc602a6",
   "metadata": {},
   "outputs": [],
   "source": [
    "# find variance ratio\n",
    "print((resultseasonalreduced['stl2'].var())/(resultseasonalreduced['20cm'].var()))\n",
    "print((resultseasonalreduced['stl3'].var())/(resultseasonalreduced['40cm'].var()))\n",
    "print((resultseasonalreduced['stl3'].var())/(resultseasonalreduced['60cm'].var()))\n",
    "print((resultseasonalreduced['stl3'].var())/(resultseasonalreduced['80cm'].var()))\n",
    "print((resultseasonalreduced['stl4'].var())/(resultseasonalreduced['160cm'].var()))\n",
    "print((resultseasonalreduced['stl4'].var())/(resultseasonalreduced['320cm'].var()))"
   ]
  },
  {
   "cell_type": "code",
   "execution_count": null,
   "id": "d7da515c-174b-47b5-8906-c5483bd20e86",
   "metadata": {},
   "outputs": [],
   "source": [
    "# find rmse - actual then predicted, using redacted datasets\n",
    "resultseasonalreduced20 = resultseasonalreduced[resultseasonalreduced['20cm'].notna()]\n",
    "resultseasonalreduced40 = resultseasonalreduced[resultseasonalreduced['40cm'].notna()]\n",
    "resultseasonalreduced60 = resultseasonalreduced[resultseasonalreduced['60cm'].notna()]\n",
    "resultseasonalreduced80 = resultseasonalreduced[resultseasonalreduced['80cm'].notna()]\n",
    "resultseasonalreduced160 = resultseasonalreduced[resultseasonalreduced['160cm'].notna()]\n",
    "resultseasonalreduced320 = resultseasonalreduced[resultseasonalreduced['320cm'].notna()]\n",
    "\n",
    "print(np.sqrt(mean_squared_error(resultseasonalreduced20['20cm'], resultseasonalreduced20['stl2'])))\n",
    "print(np.sqrt(mean_squared_error(resultseasonalreduced40['40cm'], resultseasonalreduced40['stl3'])))\n",
    "print(np.sqrt(mean_squared_error(resultseasonalreduced60['60cm'], resultseasonalreduced60['stl3'])))\n",
    "print(np.sqrt(mean_squared_error(resultseasonalreduced80['80cm'], resultseasonalreduced80['stl3'])))\n",
    "print(np.sqrt(mean_squared_error(resultseasonalreduced160['160cm'], resultseasonalreduced160['stl4'])))\n",
    "print(np.sqrt(mean_squared_error(resultseasonalreduced320['320cm'], resultseasonalreduced320['stl4'])))"
   ]
  },
  {
   "cell_type": "markdown",
   "id": "59318a25-2813-455f-a539-6bc54e52928a",
   "metadata": {
    "jp-MarkdownHeadingCollapsed": true,
    "tags": []
   },
   "source": [
    "## Separated seasonal datasets"
   ]
  },
  {
   "cell_type": "markdown",
   "id": "4d98345f-6b68-4db1-8a9d-53bf74816499",
   "metadata": {
    "jp-MarkdownHeadingCollapsed": true,
    "tags": []
   },
   "source": [
    "### Winter"
   ]
  },
  {
   "cell_type": "code",
   "execution_count": null,
   "id": "4054b093-20fa-45fd-99cd-de0ffc21aa44",
   "metadata": {
    "tags": []
   },
   "outputs": [],
   "source": [
    "resultseasonaldjfwind = resultdaily.copy()\n",
    "resultseasonaldjfwind = resultseasonaldjfwind[['wspeed', 'wspeed1']]\n",
    "\n",
    "# apply function to database\n",
    "resultseasonaldjfwind['season'] = resultseasonaldjfwind.index.to_series()\n",
    "resultseasonaldjfwind['season'] = resultseasonaldjfwind['season'].dt.month\n",
    "resultseasonaldjfwind['season'] = resultseasonaldjfwind['season'].apply(month_to_season)\n",
    "\n",
    "# find only DJF \n",
    "resultseasonaldjfwind = resultseasonaldjfwind[resultseasonaldjfwind['season'] == 'DJF']\n",
    "resultseasonaldjfwind = resultseasonaldjfwind.drop('season', axis=1)\n",
    "resultseasonaldjfwind = resultseasonaldjfwind['1966-01-01':]\n",
    "resultseasonaldjfwind"
   ]
  },
  {
   "cell_type": "code",
   "execution_count": null,
   "id": "cc6c8ef7-bc6c-4298-b9a7-7e1821490021",
   "metadata": {},
   "outputs": [],
   "source": [
    "resultseasonaldjfwind['wspbias'] = resultseasonaldjfwind['wspeed1'] - resultseasonaldjfwind['wspeed']\n",
    "wspbias = (resultseasonaldjfwind['wspbias'].sum())/(resultseasonaldjfwind['wspbias'].notnull().sum())\n",
    "wspbias"
   ]
  },
  {
   "cell_type": "code",
   "execution_count": null,
   "id": "6525f992-81d3-4292-8d38-9052c62475a3",
   "metadata": {},
   "outputs": [],
   "source": [
    "print(resultseasonaldjfwind['wspeed'].corr(resultseasonaldjfwind['wspeed1']))\n",
    "print((resultseasonaldjfwind['wspeed'].var())/(resultseasonaldjfwind['wspeed1'].var()))\n",
    "print(np.sqrt(mean_squared_error(resultseasonaldjfwind['wspeed1'], resultseasonaldjfwind['wspeed'])))"
   ]
  },
  {
   "cell_type": "code",
   "execution_count": null,
   "id": "3ad4a745-92cb-42c8-a233-1ea36cbef1c9",
   "metadata": {},
   "outputs": [],
   "source": [
    "resultseasonaldjf = resultmonthly.copy()\n",
    "\n",
    "# apply function to database\n",
    "resultseasonaldjf['season'] = resultseasonaldjf.index.to_series()\n",
    "resultseasonaldjf['season'] = resultseasonaldjf['season'].dt.month\n",
    "resultseasonaldjf['season'] = resultseasonaldjf['season'].apply(month_to_season)\n",
    "\n",
    "# find only DJF \n",
    "resultseasonaldjf = resultseasonaldjf[resultseasonaldjf['season'] == 'DJF']\n",
    "resultseasonaldjf = resultseasonaldjf.drop('season', axis=1)\n",
    "resultseasonaldjf"
   ]
  },
  {
   "cell_type": "code",
   "execution_count": null,
   "id": "7f7d6ea3-9596-4ab8-8e8f-9bc517a05d5d",
   "metadata": {},
   "outputs": [],
   "source": [
    "resultseasonaldjf['tpbias'] = resultseasonaldjf['tp1'] - resultseasonaldjf['tp']\n",
    "tpbias = (resultseasonaldjf['tpbias'].sum())/(resultseasonaldjf['tpbias'].notnull().sum())\n",
    "resultseasonaldjf['mslbias'] = resultseasonaldjf['msl1'] - resultseasonaldjf['msl']\n",
    "mslbias = (resultseasonaldjf['mslbias'].sum())/(resultseasonaldjf['mslbias'].notnull().sum())\n",
    "resultseasonaldjf['t2mbias'] = resultseasonaldjf['t2m1'] - resultseasonaldjf['t2m']\n",
    "t2mbias = (resultseasonaldjf['t2mbias'].sum())/(resultseasonaldjf['t2mbias'].notnull().sum())\n",
    "resultseasonaldjf['sdmeanbias'] = resultseasonaldjf['sd1mean'] - resultseasonaldjf['sdadjmean']\n",
    "sdmeanbias = (resultseasonaldjf['sdmeanbias'].sum())/(resultseasonaldjf['sdmeanbias'].notnull().sum())\n",
    "resultseasonaldjf['sdsumbias'] = resultseasonaldjf['sd1sum'] - resultseasonaldjf['sdadjsum']\n",
    "sdsumbias = (resultseasonaldjf['sdsumbias'].sum())/(resultseasonaldjf['sdsumbias'].notnull().sum())\n",
    "print(tpbias)\n",
    "print(mslbias)\n",
    "print(t2mbias)\n",
    "print(sdmeanbias)\n",
    "print(sdsumbias)"
   ]
  },
  {
   "cell_type": "code",
   "execution_count": null,
   "id": "3446251a-ad8a-4556-b711-913ef976ae0a",
   "metadata": {},
   "outputs": [],
   "source": [
    "# find correlations\n",
    "print(resultseasonaldjf['tp'].corr(resultseasonaldjf['tp1']))\n",
    "print(resultseasonaldjf['msl'].corr(resultseasonaldjf['msl1']))\n",
    "print(resultseasonaldjf['t2m'].corr(resultseasonaldjf['t2m1']))\n",
    "print(resultseasonaldjf['sdadjmean'].corr(resultseasonaldjf['sd1mean']))\n",
    "print(resultseasonaldjf['sdadjsum'].corr(resultseasonaldjf['sd1sum']))"
   ]
  },
  {
   "cell_type": "code",
   "execution_count": null,
   "id": "a9905c32-a5d7-4990-83fb-a368d16ad1ad",
   "metadata": {},
   "outputs": [],
   "source": [
    "# find variance ratio\n",
    "print((resultseasonaldjf['tp'].var())/(resultseasonaldjf['tp1'].var()))\n",
    "print((resultseasonaldjf['msl'].var())/(resultseasonaldjf['msl1'].var()))\n",
    "print((resultseasonaldjf['t2m'].var())/(resultseasonaldjf['t2m1'].var()))\n",
    "print((resultseasonaldjf['sdadjmean'].var())/(resultseasonaldjf['sd1mean'].var()))\n",
    "print((resultseasonaldjf['sdadjsum'].var())/(resultseasonaldjf['sd1sum'].var()))"
   ]
  },
  {
   "cell_type": "code",
   "execution_count": null,
   "id": "826a5025-4944-4ac9-aaed-fcd58bb04707",
   "metadata": {},
   "outputs": [],
   "source": [
    "# find rmse - actual then predicted\n",
    "resultseasonaldjfmsl = resultseasonaldjf[resultseasonaldjf['msl1'].notna()]\n",
    "print(np.sqrt(mean_squared_error(resultseasonaldjf['tp1'], resulte5seasonaldjf['tp'])))\n",
    "print(np.sqrt(mean_squared_error(resultseasonaldjfmsl['msl1'], resultseasonaldjfmsl['msl'])))\n",
    "print(np.sqrt(mean_squared_error(resultseasonaldjf['t2m1'], resulte5seasonaldjf['t2m'])))\n",
    "print(np.sqrt(mean_squared_error(resultseasonaldjf['sd1mean'], resultseasonaldjf['sdadjmean'])))\n",
    "print(np.sqrt(mean_squared_error(resultseasonaldjf['sd1sum'], resultseasonaldjf['sdadjsum'])))"
   ]
  },
  {
   "cell_type": "code",
   "execution_count": null,
   "id": "0188c0af-c9bf-4c5c-a948-7aaf57a81588",
   "metadata": {},
   "outputs": [],
   "source": [
    "resultseasonalreduceddjf = resultmonthlyreduced.copy()\n",
    "\n",
    "# apply function to database\n",
    "resultseasonalreduceddjf['season'] = resultseasonalreduceddjf.index.to_series()\n",
    "resultseasonalreduceddjf['season'] = resultseasonalreduceddjf['season'].dt.month\n",
    "resultseasonalreduceddjf['season'] = resultseasonalreduceddjf['season'].apply(month_to_season)\n",
    "\n",
    "# find only DJF \n",
    "resultseasonalreduceddjf = resultseasonalreduceddjf[resultseasonalreduceddjf['season'] == 'DJF']\n",
    "resultseasonalreduceddjf = resultseasonalreduceddjf.drop('season', axis=1)\n",
    "resultseasonalreduceddjf"
   ]
  },
  {
   "cell_type": "code",
   "execution_count": null,
   "id": "8e5198f9-cada-42b7-b189-813cba4a88dd",
   "metadata": {},
   "outputs": [],
   "source": [
    "# find correlations\n",
    "print(resultseasonalreduceddjf['stl2'].corr(resultseasonalreduceddjf['20cm']))\n",
    "print(resultseasonalreduceddjf['stl3'].corr(resultseasonalreduceddjf['40cm']))\n",
    "print(resultseasonalreduceddjf['stl3'].corr(resultseasonalreduceddjf['60cm']))\n",
    "print(resultseasonalreduceddjf['stl3'].corr(resultseasonalreduceddjf['80cm']))\n",
    "print(resultseasonalreduceddjf['stl4'].corr(resultseasonalreduceddjf['160cm']))\n",
    "print(resultseasonalreduceddjf['stl4'].corr(resultseasonalreduceddjf['320cm']))"
   ]
  },
  {
   "cell_type": "code",
   "execution_count": null,
   "id": "1e20641c-b8af-4003-b536-ad8105ebd8b8",
   "metadata": {},
   "outputs": [],
   "source": [
    "# find variance ratio\n",
    "print((resultseasonalreduceddjf['stl2'].var())/(resultseasonalreduceddjf['20cm'].var()))\n",
    "print((resultseasonalreduceddjf['stl3'].var())/(resultseasonalreduceddjf['40cm'].var()))\n",
    "print((resultseasonalreduceddjf['stl3'].var())/(resultseasonalreduceddjf['60cm'].var()))\n",
    "print((resultseasonalreduceddjf['stl3'].var())/(resultseasonalreduceddjf['80cm'].var()))\n",
    "print((resultseasonalreduceddjf['stl4'].var())/(resultseasonalreduceddjf['160cm'].var()))\n",
    "print((resultseasonalreduceddjf['stl4'].var())/(resultseasonalreduceddjf['320cm'].var()))"
   ]
  },
  {
   "cell_type": "code",
   "execution_count": null,
   "id": "4c2b3497-da60-4c77-a61e-e38cc925e0dc",
   "metadata": {},
   "outputs": [],
   "source": [
    "# find rmse - actual then predicted, using redacted datasets\n",
    "resultseasonalreduceddjf20 = resultseasonalreduceddjf[resultseasonalreduceddjf['20cm'].notna()]\n",
    "resultseasonalreduceddjf40 = resultseasonalreduceddjf[resultseasonalreduceddjf['40cm'].notna()]\n",
    "resultseasonalreduceddjf60 = resultseasonalreduceddjf[resultseasonalreduceddjf['60cm'].notna()]\n",
    "resultseasonalreduceddjf80 = resultseasonalreduceddjf[resultseasonalreduceddjf['80cm'].notna()]\n",
    "resultseasonalreduceddjf160 = resultseasonalreduceddjf[resultseasonalreduceddjf['160cm'].notna()]\n",
    "resultseasonalreduceddjf320 = resultseasonalreduceddjf[resultseasonalreduceddjf['320cm'].notna()]\n",
    "\n",
    "print(np.sqrt(mean_squared_error(resultseasonalreduceddjf20['20cm'], resultseasonalreduceddjf20['stl2'])))\n",
    "print(np.sqrt(mean_squared_error(resultseasonalreduceddjf40['40cm'], resultseasonalreduceddjf40['stl3'])))\n",
    "print(np.sqrt(mean_squared_error(resultseasonalreduceddjf60['60cm'], resultseasonalreduceddjf60['stl3'])))\n",
    "print(np.sqrt(mean_squared_error(resultseasonalreduceddjf80['80cm'], resultseasonalreduceddjf80['stl3'])))\n",
    "print(np.sqrt(mean_squared_error(resultseasonalreduceddjf160['160cm'], resultseasonalreduceddjf160['stl4'])))\n",
    "print(np.sqrt(mean_squared_error(resultseasonalreduceddjf320['320cm'], resultseasonalreduceddjf320['stl4'])))"
   ]
  },
  {
   "cell_type": "markdown",
   "id": "177287a0-d94e-48bd-8f30-50fe92c91037",
   "metadata": {
    "jp-MarkdownHeadingCollapsed": true,
    "tags": []
   },
   "source": [
    "### Spring"
   ]
  },
  {
   "cell_type": "code",
   "execution_count": null,
   "id": "6c26e2f7-7084-4ace-8d4f-ecf966cf8a7b",
   "metadata": {},
   "outputs": [],
   "source": [
    "resultseasonalmamwind = resultdaily.copy()\n",
    "resultseasonalmamwind = resultseasonalmamwind[['wspeed', 'wspeed1']]\n",
    "\n",
    "# apply function to database\n",
    "resultseasonalmamwind['season'] = resultseasonalmamwind.index.to_series()\n",
    "resultseasonalmamwind['season'] = resultseasonalmamwind['season'].dt.month\n",
    "resultseasonalmamwind['season'] = resultseasonalmamwind['season'].apply(month_to_season)\n",
    "\n",
    "# find only MAM\n",
    "resultseasonalmamwind = resultseasonalmamwind[resultseasonalmamwind['season'] == 'MAM']\n",
    "resultseasonalmamwind = resultseasonalmamwind.drop('season', axis=1)\n",
    "resultseasonalmamwind = resultseasonalmamwind['1966-01-01':]\n",
    "resultseasonalmamwind"
   ]
  },
  {
   "cell_type": "code",
   "execution_count": null,
   "id": "6e03ef60-e789-45a9-b37a-d8eace229ef1",
   "metadata": {},
   "outputs": [],
   "source": [
    "resultseasonalmamwind['wspbias'] = resultseasonalmamwind['wspeed1'] - resultseasonalmamwind['wspeed']\n",
    "wspbias = (resultseasonalmamwind['wspbias'].sum())/(resultseasonalmamwind['wspbias'].notnull().sum())\n",
    "wspbias"
   ]
  },
  {
   "cell_type": "code",
   "execution_count": null,
   "id": "2c7a4bf0-2020-4d5b-8836-a1f9d99c08e4",
   "metadata": {},
   "outputs": [],
   "source": [
    "print(resultseasonalmamwind['wspeed'].corr(resultseasonalmamwind['wspeed1']))\n",
    "print((resultseasonalmamwind['wspeed'].var())/(resultseasonalmamwind['wspeed1'].var()))\n",
    "print(np.sqrt(mean_squared_error(resultseasonalmamwind['wspeed1'], resultseasonalmamwind['wspeed'])))"
   ]
  },
  {
   "cell_type": "code",
   "execution_count": null,
   "id": "0d4a0670-ce13-4e82-b91a-627e236ae517",
   "metadata": {},
   "outputs": [],
   "source": [
    "resultseasonalmam = resultmonthly.copy()\n",
    "\n",
    "# apply function to database\n",
    "resultseasonalmam['season'] = resultseasonalmam.index.to_series()\n",
    "resultseasonalmam['season'] = resultseasonalmam['season'].dt.month\n",
    "resultseasonalmam['season'] = resultseasonalmam['season'].apply(month_to_season)\n",
    "\n",
    "# find only MAM\n",
    "resultseasonalmam = resultseasonalmam[resultseasonalmam['season'] == 'MAM']\n",
    "resultseasonalmam = resultseasonalmam.drop('season', axis=1)\n",
    "resultseasonalmam"
   ]
  },
  {
   "cell_type": "code",
   "execution_count": null,
   "id": "2dfefb57-a5d4-4b5e-aa74-058e83f9e63e",
   "metadata": {},
   "outputs": [],
   "source": [
    "resultseasonalmam['tpbias'] = resultseasonalmam['tp1'] - resultseasonalmam['tp']\n",
    "tpbias = (resultseasonalmam['tpbias'].sum())/(resultseasonalmam['tpbias'].notnull().sum())\n",
    "resultseasonalmam['mslbias'] = resultseasonalmam['msl1'] - resultseasonalmam['msl']\n",
    "mslbias = (resultseasonalmam['mslbias'].sum())/(resultseasonalmam['mslbias'].notnull().sum())\n",
    "resultseasonalmam['t2mbias'] = resultseasonalmam['t2m1'] - resultseasonalmam['t2m']\n",
    "t2mbias = (resultseasonalmam['t2mbias'].sum())/(resultseasonalmam['t2mbias'].notnull().sum())\n",
    "resultseasonalmam['sdmeanbias'] = resultseasonalmam['sd1mean'] - resultseasonalmam['sdadjmean']\n",
    "sdmeanbias = (resultseasonalmam['sdmeanbias'].sum())/(resultseasonalmam['sdmeanbias'].notnull().sum())\n",
    "resultseasonalmam['sdsumbias'] = resultseasonalmam['sd1sum'] - resultseasonalmam['sdadjsum']\n",
    "sdsumbias = (resultseasonalmam['sdsumbias'].sum())/(resultseasonalmam['sdsumbias'].notnull().sum())\n",
    "print(tpbias)\n",
    "print(mslbias)\n",
    "print(t2mbias)\n",
    "print(sdmeanbias)\n",
    "print(sdsumbias)"
   ]
  },
  {
   "cell_type": "code",
   "execution_count": null,
   "id": "8f15bf4e-6452-438c-a014-88d3a1152cf2",
   "metadata": {},
   "outputs": [],
   "source": [
    "# find correlations\n",
    "print(resultseasonalmam['tp'].corr(resultseasonalmam['tp1']))\n",
    "print(resultseasonalmam['msl'].corr(resultseasonalmam['msl1']))\n",
    "print(resultseasonalmam['t2m'].corr(resultseasonalmam['t2m1']))\n",
    "print(resultseasonalmam['sdadjmean'].corr(resultseasonalmam['sd1mean']))\n",
    "print(resultseasonalmam['sdadjsum'].corr(resultseasonalmam['sd1sum']))"
   ]
  },
  {
   "cell_type": "code",
   "execution_count": null,
   "id": "7be83e7e-c1fd-45b3-b9c4-d9f99f08291f",
   "metadata": {},
   "outputs": [],
   "source": [
    "# find variance ratio\n",
    "print((resultseasonalmam['tp'].var())/(resultseasonalmam['tp1'].var()))\n",
    "print((resultseasonalmam['msl'].var())/(resultseasonalmam['msl1'].var()))\n",
    "print((resultseasonalmam['t2m'].var())/(resultseasonalmam['t2m1'].var()))\n",
    "print((resultseasonalmam['sdadjmean'].var())/(resultseasonalmam['sd1mean'].var()))\n",
    "print((resultseasonalmam['sdadjsum'].var())/(resultseasonalmam['sd1sum'].var()))"
   ]
  },
  {
   "cell_type": "code",
   "execution_count": null,
   "id": "02450a7e-332b-4f3f-bf11-e5a62dc504b0",
   "metadata": {},
   "outputs": [],
   "source": [
    "# find rmse - actual then predicted\n",
    "resultseasonalmammsl = resultseasonalmam[resultseasonalmam['msl1'].notna()]\n",
    "print(np.sqrt(mean_squared_error(resultseasonalmam['tp1'], resultseasonalmam['tp'])))\n",
    "print(np.sqrt(mean_squared_error(resulte5seasonalmammsl['msl1'], resultseasonalmammsl['msl'])))\n",
    "print(np.sqrt(mean_squared_error(resultseasonalmam['t2m1'], resultseasonalmam['t2m'])))\n",
    "print(np.sqrt(mean_squared_error(resultseasonalmam['sd1mean'], resultseasonalmam['sdadjmean'])))\n",
    "print(np.sqrt(mean_squared_error(resultseasonalmam['sd1sum'], resultseasonalmam['sdadjsum'])))"
   ]
  },
  {
   "cell_type": "code",
   "execution_count": null,
   "id": "569101f3-5f94-4a46-ad1a-5d425702b9c9",
   "metadata": {},
   "outputs": [],
   "source": [
    "resultseasonalreducedmam = resultmonthlyreduced.copy()\n",
    "\n",
    "# apply function to database\n",
    "resultseasonalreducedmam['season'] = resultseasonalreducedmam.index.to_series()\n",
    "resultseasonalreducedmam['season'] = resultseasonalreducedmam['season'].dt.month\n",
    "resultseasonalreducedmam['season'] = resultseasonalreducedmam['season'].apply(month_to_season)\n",
    "\n",
    "# find only MAM\n",
    "resultseasonalreducedmam = resultseasonalreducedmam[resultseasonalreducedmam['season'] == 'MAM']\n",
    "resultseasonalreducedmam = resultseasonalreducedmam.drop('season', axis=1)\n",
    "resultseasonalreducedmam"
   ]
  },
  {
   "cell_type": "code",
   "execution_count": null,
   "id": "709ef6a5-710b-4e20-9902-eea979a0f7d6",
   "metadata": {},
   "outputs": [],
   "source": [
    "# find correlations\n",
    "print(resultseasonalreducedmam['stl2'].corr(resultseasonalreducedmam['20cm']))\n",
    "print(resultseasonalreducedmam['stl3'].corr(resultseasonalreducedmam['40cm']))\n",
    "print(resultseasonalreducedmam['stl3'].corr(resultseasonalreducedmam['60cm']))\n",
    "print(resultseasonalreducedmam['stl3'].corr(resultseasonalreducedmam['80cm']))\n",
    "print(resultseasonalreducedmam['stl4'].corr(resultseasonalreducedmam['160cm']))\n",
    "print(resultseasonalreducedmam['stl4'].corr(resultseasonalreducedmam['320cm']))"
   ]
  },
  {
   "cell_type": "code",
   "execution_count": null,
   "id": "2124ecfe-6938-45e8-9a5a-d58e1e5d4223",
   "metadata": {},
   "outputs": [],
   "source": [
    "# find variance ratio\n",
    "print((resultseasonalreducedmam['stl2'].var())/(resultseasonalreducedmam['20cm'].var()))\n",
    "print((resultseasonalreducedmam['stl3'].var())/(resultseasonalreducedmam['40cm'].var()))\n",
    "print((resultseasonalreducedmam['stl3'].var())/(resultseasonalreducedmam['60cm'].var()))\n",
    "print((resultseasonalreducedmam['stl3'].var())/(resultseasonalreducedmam['80cm'].var()))\n",
    "print((resultseasonalreducedmam['stl4'].var())/(resultseasonalreducedmam['160cm'].var()))\n",
    "print((resultseasonalreducedmam['stl4'].var())/(resultseasonalreducedmam['320cm'].var()))"
   ]
  },
  {
   "cell_type": "code",
   "execution_count": null,
   "id": "80273277-5491-477b-8327-f7265f8109b8",
   "metadata": {},
   "outputs": [],
   "source": [
    "# find rmse - actual then predicted, using redacted datasets\n",
    "resultseasonalreducedmam20 = resultseasonalreducedmam[resultseasonalreducedmam['20cm'].notna()]\n",
    "resultseasonalreducedmam40 = resultseasonalreducedmam[resultseasonalreducedmam['40cm'].notna()]\n",
    "resultseasonalreducedmam60 = resultseasonalreducedmam[resultseasonalreducedmam['60cm'].notna()]\n",
    "resultseasonalreducedmam80 = resultseasonalreducedmam[resultseasonalreducedmam['80cm'].notna()]\n",
    "resultseasonalreducedmam160 = resultseasonalreducedmam[resultseasonalreducedmam['160cm'].notna()]\n",
    "resultseasonalreducedmam320 = resultseasonalreducedmam[resultseasonalreducedmam['320cm'].notna()]\n",
    "\n",
    "print(np.sqrt(mean_squared_error(resultseasonalreducedmam20['20cm'], resultseasonalreducedmam20['stl2'])))\n",
    "print(np.sqrt(mean_squared_error(resultseasonalreducedmam40['40cm'], resultseasonalreducedmam40['stl3'])))\n",
    "print(np.sqrt(mean_squared_error(resultseasonalreducedmam60['60cm'], resultseasonalreducedmam60['stl3'])))\n",
    "print(np.sqrt(mean_squared_error(resultseasonalreducedmam80['80cm'], resultseasonalreducedmam80['stl3'])))\n",
    "print(np.sqrt(mean_squared_error(resultseasonalreducedmam160['160cm'], resultseasonalreducedmam160['stl4'])))\n",
    "print(np.sqrt(mean_squared_error(resultseasonalreducedmam320['320cm'], resultseasonalreducedmam320['stl4'])))"
   ]
  },
  {
   "cell_type": "markdown",
   "id": "fd4d46ce-057a-4b29-89b9-1c75f9d35925",
   "metadata": {
    "jp-MarkdownHeadingCollapsed": true,
    "tags": []
   },
   "source": [
    "### Summer"
   ]
  },
  {
   "cell_type": "code",
   "execution_count": null,
   "id": "47fd9160-37ed-40e7-b17f-904df2369e9e",
   "metadata": {},
   "outputs": [],
   "source": [
    "resultseasonaljjawind = resultdaily.copy()\n",
    "resultseasonaljjawind = resultseasonaljjawind[['wspeed', 'wspeed1']]\n",
    "\n",
    "# apply function to database\n",
    "resultseasonaljjawind['season'] = resultseasonaljjawind.index.to_series()\n",
    "resultseasonaljjawind['season'] = resultseasonaljjawind['season'].dt.month\n",
    "resultseasonaljjawind['season'] = resultseasonaljjawind['season'].apply(month_to_season)\n",
    "\n",
    "# find only JJA\n",
    "resultseasonaljjawind = resultseasonaljjawind[resulte5seasonaljjawind['season'] == 'JJA']\n",
    "resultseasonaljjawind = resultseasonaljjawind.drop('season', axis=1)\n",
    "resultseasonaljjawind = resultseasonaljjawind['1966-01-01':]\n",
    "resultseasonaljjawind"
   ]
  },
  {
   "cell_type": "code",
   "execution_count": null,
   "id": "32fd5888-caa1-493c-b563-88b063fb612c",
   "metadata": {},
   "outputs": [],
   "source": [
    "resultseasonaljjawind['wspbias'] = resultseasonaljjawind['wspeed1'] - resultseasonaljjawind['wspeed']\n",
    "wspbias = (resultseasonaljjawind['wspbias'].sum())/(resultseasonaljjawind['wspbias'].notnull().sum())\n",
    "wspbias"
   ]
  },
  {
   "cell_type": "code",
   "execution_count": null,
   "id": "76055c3f-0fcb-4b7f-acbb-be64681aad0d",
   "metadata": {},
   "outputs": [],
   "source": [
    "print(resultseasonaljjawind['wspeed'].corr(resultseasonaljjawind['wspeed1']))\n",
    "print((resultseasonaljjawind['wspeed'].var())/(resultseasonaljjawind['wspeed1'].var()))\n",
    "print(np.sqrt(mean_squared_error(resultseasonaljjawind['wspeed1'], resultseasonaljjawind['wspeed'])))"
   ]
  },
  {
   "cell_type": "code",
   "execution_count": null,
   "id": "4cb37ba9-dbd5-43d6-8b29-4195b97b50b4",
   "metadata": {},
   "outputs": [],
   "source": [
    "resultseasonaljja = resultmonthly.copy()\n",
    "\n",
    "# apply function to database\n",
    "resultseasonaljja['season'] = resultseasonaljja.index.to_series()\n",
    "resultseasonaljja['season'] = resultseasonaljja['season'].dt.month\n",
    "resultseasonaljja['season'] = resultseasonaljja['season'].apply(month_to_season)\n",
    "\n",
    "# find only JJA\n",
    "resultseasonaljja = resultseasonaljja[resultseasonaljja['season'] == 'JJA']\n",
    "resultseasonaljja = resultseasonaljja.drop('season', axis=1)\n",
    "resultseasonaljja"
   ]
  },
  {
   "cell_type": "code",
   "execution_count": null,
   "id": "c0f4b3fa-747e-4be0-b4be-bd46679adf84",
   "metadata": {},
   "outputs": [],
   "source": [
    "resultseasonaljja['tpbias'] = resultseasonaljja['tp1'] - resultseasonaljja['tp']\n",
    "tpbias = (resultseasonaljja['tpbias'].sum())/(resultseasonaljja['tpbias'].notnull().sum())\n",
    "resultseasonaljja['mslbias'] = resultseasonaljja['msl1'] - resultseasonaljja['msl']\n",
    "mslbias = (resultseasonaljja['mslbias'].sum())/(resultseasonaljja['mslbias'].notnull().sum())\n",
    "resultseasonaljja['t2mbias'] = resultseasonaljja['t2m1'] - resultseasonaljja['t2m']\n",
    "t2mbias = (resultseasonaljja['t2mbias'].sum())/(resultseasonaljja['t2mbias'].notnull().sum())\n",
    "resultseasonaljja['sdmeanbias'] = resultseasonaljja['sd1mean'] - resultseasonaljja['sdadjmean']\n",
    "sdmeanbias = (resultseasonaljja['sdmeanbias'].sum())/(resultseasonaljja['sdmeanbias'].notnull().sum())\n",
    "resultseasonaljja['sdsumbias'] = resultseasonaljja['sd1sum'] - resultseasonaljja['sdadjsum']\n",
    "sdsumbias = (resultseasonaljja['sdsumbias'].sum())/(resultseasonaljja['sdsumbias'].notnull().sum())\n",
    "print(tpbias)\n",
    "print(mslbias)\n",
    "print(t2mbias)\n",
    "print(sdmeanbias)\n",
    "print(sdsumbias)"
   ]
  },
  {
   "cell_type": "code",
   "execution_count": null,
   "id": "cfe853a6-d2b0-4c1d-afdb-066cc235167a",
   "metadata": {},
   "outputs": [],
   "source": [
    "# find correlations\n",
    "print(resultseasonaljja['tp'].corr(resultseasonaljja['tp1']))\n",
    "print(resultseasonaljja['msl'].corr(resultseasonaljja['msl1']))\n",
    "print(resultseasonaljja['t2m'].corr(resultseasonaljja['t2m1']))\n",
    "print(resultseasonaljja['sdadjmean'].corr(resultseasonaljja['sd1mean']))\n",
    "print(resultseasonaljja['sdadjsum'].corr(resultseasonaljja['sd1sum']))"
   ]
  },
  {
   "cell_type": "code",
   "execution_count": null,
   "id": "c5def453-1486-45f1-8c20-ccbf5da4b678",
   "metadata": {},
   "outputs": [],
   "source": [
    "# find variance ratio\n",
    "print((resultseasonaljja['tp'].var())/(resultseasonaljja['tp1'].var()))\n",
    "print((resultseasonaljja['msl'].var())/(resultseasonaljja['msl1'].var()))\n",
    "print((resultseasonaljja['t2m'].var())/(resultseasonaljja['t2m1'].var()))\n",
    "print((resultseasonaljja['sdadjmean'].var())/(resultseasonaljja['sd1mean'].var()))\n",
    "print((resultseasonaljja['sdadjsum'].var())/(resultseasonaljja['sd1sum'].var()))"
   ]
  },
  {
   "cell_type": "code",
   "execution_count": null,
   "id": "e32a2fef-b334-4010-b27d-492ba6811b67",
   "metadata": {},
   "outputs": [],
   "source": [
    "# find rmse - actual then predicted\n",
    "resultseasonaljjamsl = resulte5seasonaljja[resulte5seasonaljja['msl1'].notna()]\n",
    "print(np.sqrt(mean_squared_error(resultseasonaljja['tp1'], resultseasonaljja['tp'])))\n",
    "print(np.sqrt(mean_squared_error(resulte5seasonaljjamsl['msl1'], resultseasonaljjamsl['msl'])))\n",
    "print(np.sqrt(mean_squared_error(resultseasonaljja['t2m1'], resultseasonaljja['t2m'])))\n",
    "print(np.sqrt(mean_squared_error(resultseasonaljja['sd1mean'], resultseasonaljja['sdadjmean'])))\n",
    "print(np.sqrt(mean_squared_error(resultseasonaljja['sd1sum'], resultseasonaljja['sdadjsum'])))"
   ]
  },
  {
   "cell_type": "code",
   "execution_count": null,
   "id": "a460837e-4df0-448b-82f9-741cfff4a203",
   "metadata": {},
   "outputs": [],
   "source": [
    "resultseasonalreducedjja = resultmonthlyreduced.copy()\n",
    "\n",
    "# apply function to database\n",
    "resultseasonalreducedjja['season'] = resultseasonalreducedjja.index.to_series()\n",
    "resultseasonalreducedjja['season'] = resultseasonalreducedjja['season'].dt.month\n",
    "resultseasonalreducedjja['season'] = resultseasonalreducedjja['season'].apply(month_to_season)\n",
    "\n",
    "# find only JJA\n",
    "resultseasonalreducedjja = resultseasonalreducedjja[resultseasonalreducedjja['season'] == 'JJA']\n",
    "resultseasonalreducedjja = resultseasonalreducedjja.drop('season', axis=1)\n",
    "resultseasonalreducedjja"
   ]
  },
  {
   "cell_type": "code",
   "execution_count": null,
   "id": "71dffd68-56d8-4b93-be4c-b77deec7df95",
   "metadata": {},
   "outputs": [],
   "source": [
    "# find correlations\n",
    "print(resultseasonalreducedjja['stl2'].corr(resultseasonalreducedjja['20cm']))\n",
    "print(resultseasonalreducedjja['stl3'].corr(resultseasonalreducedjja['40cm']))\n",
    "print(resultseasonalreducedjja['stl3'].corr(resultseasonalreducedjja['60cm']))\n",
    "print(resultseasonalreducedjja['stl3'].corr(resultseasonalreducedjja['80cm']))\n",
    "print(resultseasonalreducedjja['stl4'].corr(resultseasonalreducedjja['160cm']))\n",
    "print(resultseasonalreducedjja['stl4'].corr(resultseasonalreducedjja['320cm']))"
   ]
  },
  {
   "cell_type": "code",
   "execution_count": null,
   "id": "b63aea9e-52d9-4cc4-8d26-3f4e73002432",
   "metadata": {},
   "outputs": [],
   "source": [
    "# find variance ratio\n",
    "print((resultseasonalreducedjja['stl2'].var())/(resultseasonalreducedjja['20cm'].var()))\n",
    "print((resultseasonalreducedjja['stl3'].var())/(resultseasonalreducedjja['40cm'].var()))\n",
    "print((resultseasonalreducedjja['stl3'].var())/(resultseasonalreducedjja['60cm'].var()))\n",
    "print((resultseasonalreducedjja['stl3'].var())/(resultseasonalreducedjja['80cm'].var()))\n",
    "print((resultseasonalreducedjja['stl4'].var())/(resultseasonalreducedjja['160cm'].var()))\n",
    "print((resultseasonalreducedjja['stl4'].var())/(resultseasonalreducedjja['320cm'].var()))"
   ]
  },
  {
   "cell_type": "code",
   "execution_count": null,
   "id": "cf3a42de-4ac9-4a22-b2f7-732563f62f2e",
   "metadata": {},
   "outputs": [],
   "source": [
    "# find rmse - actual then predicted, using redacted datasets\n",
    "resultseasonalreducedjja20 = resultseasonalreducedjja[resultseasonalreducedjja['20cm'].notna()]\n",
    "resultseasonalreducedjja40 = resultseasonalreducedjja[resultseasonalreducedjja['40cm'].notna()]\n",
    "resultseasonalreducedjja60 = resultseasonalreducedjja[resultseasonalreducedjja['60cm'].notna()]\n",
    "resultseasonalreducedjja80 = resultseasonalreducedjja[resultseasonalreducedjja['80cm'].notna()]\n",
    "resultseasonalreducedjja160 = resultseasonalreducedjja[resultseasonalreducedjja['160cm'].notna()]\n",
    "resultseasonalreducedjja320 = resultseasonalreducedjja[resultseasonalreducedjja['320cm'].notna()]\n",
    "\n",
    "print(np.sqrt(mean_squared_error(resultseasonalreducedjja20['20cm'], resultseasonalreducedjja20['stl2'])))\n",
    "print(np.sqrt(mean_squared_error(resultseasonalreducedjja40['40cm'], resultseasonalreducedjja40['stl3'])))\n",
    "print(np.sqrt(mean_squared_error(resultseasonalreducedjja60['60cm'], resultseasonalreducedjja60['stl3'])))\n",
    "print(np.sqrt(mean_squared_error(resultseasonalreducedjja80['80cm'], resultseasonalreducedjja80['stl3'])))\n",
    "print(np.sqrt(mean_squared_error(resultseasonalreducedjja160['160cm'], resultseasonalreducedjja160['stl4'])))\n",
    "print(np.sqrt(mean_squared_error(resultseasonalreducedjja320['320cm'], resultseasonalreducedjja320['stl4'])))"
   ]
  },
  {
   "cell_type": "markdown",
   "id": "bdc88dfc-ec46-4850-8b3a-dd23416d5019",
   "metadata": {
    "jp-MarkdownHeadingCollapsed": true,
    "tags": []
   },
   "source": [
    "### Autumn"
   ]
  },
  {
   "cell_type": "code",
   "execution_count": null,
   "id": "eb4a0d9c-9483-44b2-b6bc-8ffec5327515",
   "metadata": {},
   "outputs": [],
   "source": [
    "resultseasonalsonwind = resultdaily.copy()\n",
    "resultseasonalsonwind = resultseasonalsonwind[['wspeed', 'wspeed1']]\n",
    "\n",
    "# apply function to database\n",
    "resultseasonalsonwind['season'] = resultseasonalsonwind.index.to_series()\n",
    "resultseasonalsonwind['season'] = resultseasonalsonwind['season'].dt.month\n",
    "resultseasonalsonwind['season'] = resultseasonalsonwind['season'].apply(month_to_season)\n",
    "\n",
    "# find only SON\n",
    "resultseasonalsonwind = resultseasonalsonwind[resultseasonalsonwind['season'] == 'SON']\n",
    "resultseasonalsonwind = resultseasonalsonwind.drop('season', axis=1)\n",
    "resultseasonalsonwind = resultseasonalsonwind['1966-01-01':]\n",
    "resultseasonalsonwind"
   ]
  },
  {
   "cell_type": "code",
   "execution_count": null,
   "id": "b156f73f-e86d-45c8-b974-f2ef83950a1f",
   "metadata": {},
   "outputs": [],
   "source": [
    "resultseasonalsonwind['wspbias'] = resultseasonalsonwind['wspeed1'] - resultseasonalsonwind['wspeed']\n",
    "wspbias = (resultseasonalsonwind['wspbias'].sum())/(resultseasonalsonwind['wspbias'].notnull().sum())\n",
    "wspbias"
   ]
  },
  {
   "cell_type": "code",
   "execution_count": null,
   "id": "9df5602a-7006-4b35-af25-7d9ffbb7a7bf",
   "metadata": {},
   "outputs": [],
   "source": [
    "resultseasonalsonwindrmse = resultseasonalsonwind[resultseasonalsonwind['wspeed1'].notna()]\n",
    "print(resultseasonalsonwind['wspeed'].corr(resultseasonalsonwind['wspeed1']))\n",
    "print((resultseasonalsonwind['wspeed'].var())/(resultseasonalsonwind['wspeed1'].var()))\n",
    "print(np.sqrt(mean_squared_error(resultseasonalsonwindrmse['wspeed1'], resultseasonalsonwindrmse['wspeed'])))"
   ]
  },
  {
   "cell_type": "code",
   "execution_count": null,
   "id": "2e53b495-08b5-49a7-9baf-a5bc7a0bb545",
   "metadata": {},
   "outputs": [],
   "source": [
    "resultseasonalson = resultmonthly.copy()\n",
    "\n",
    "# apply function to database\n",
    "resultseasonalson['season'] = resultseasonalson.index.to_series()\n",
    "resultseasonalson['season'] = resultseasonalson['season'].dt.month\n",
    "resultseasonalson['season'] = resultseasonalson['season'].apply(month_to_season)\n",
    "\n",
    "# find only SON\n",
    "resultseasonalson = resultseasonalson[resultseasonalson['season'] == 'SON']\n",
    "resultseasonalson = resultseasonalson.drop('season', axis=1)\n",
    "resultseasonalson"
   ]
  },
  {
   "cell_type": "code",
   "execution_count": null,
   "id": "99ba8bf4-37cf-4417-a41c-3acd58e2eb4f",
   "metadata": {},
   "outputs": [],
   "source": [
    "resultseasonalson['tpbias'] = resultseasonalson['tp1'] - resultseasonalson['tp']\n",
    "tpbias = (resultseasonalson['tpbias'].sum())/(resultseasonalson['tpbias'].notnull().sum())\n",
    "resultseasonalson['mslbias'] = resultseasonalson['msl1'] - resultseasonalson['msl']\n",
    "mslbias = (resultseasonalson['mslbias'].sum())/(resultseasonalson['mslbias'].notnull().sum())\n",
    "resultseasonalson['t2mbias'] = resultseasonalson['t2m1'] - resultseasonalson['t2m']\n",
    "t2mbias = (resultseasonalson['t2mbias'].sum())/(resultseasonalson['t2mbias'].notnull().sum())\n",
    "resultseasonalson['sdmeanbias'] = resultseasonalson['sd1mean'] - resultseasonalson['sdadjmean']\n",
    "sdmeanbias = (resultseasonalson['sdmeanbias'].sum())/(resultseasonalson['sdmeanbias'].notnull().sum())\n",
    "resultseasonalson['sdsumbias'] = resultseasonalson['sd1sum'] - resultseasonalson['sdadjsum']\n",
    "sdsumbias = (resultseasonalson['sdsumbias'].sum())/(resultseasonalson['sdsumbias'].notnull().sum())\n",
    "print(tpbias)\n",
    "print(mslbias)\n",
    "print(t2mbias)\n",
    "print(sdmeanbias)\n",
    "print(sdsumbias)"
   ]
  },
  {
   "cell_type": "code",
   "execution_count": null,
   "id": "ef0665be-1e8d-4e95-a400-74a187436742",
   "metadata": {},
   "outputs": [],
   "source": [
    "# find correlations\n",
    "print(resultseasonalson['tp'].corr(resultseasonalson['tp1']))\n",
    "print(resultseasonalson['msl'].corr(resultseasonalson['msl1']))\n",
    "print(resultseasonalson['t2m'].corr(resultseasonalson['t2m1']))\n",
    "print(resultseasonalson['sdadjmean'].corr(resultseasonalson['sd1mean']))\n",
    "print(resultseasonalson['sdadjsum'].corr(resultseasonalson['sd1sum']))"
   ]
  },
  {
   "cell_type": "code",
   "execution_count": null,
   "id": "6bf7ee9c-3bc3-443d-a30a-a6c73fb150b5",
   "metadata": {},
   "outputs": [],
   "source": [
    "# find variance ratio\n",
    "print((resultseasonalson['tp'].var())/(resultseasonalson['tp1'].var()))\n",
    "print((resultseasonalson['msl'].var())/(resultseasonalson['msl1'].var()))\n",
    "print((resultseasonalson['t2m'].var())/(resultseasonalson['t2m1'].var()))\n",
    "print((resultseasonalson['sdadjmean'].var())/(resultseasonalson['sd1mean'].var()))\n",
    "print((resultseasonalson['sdadjsum'].var())/(resultseasonalson['sd1sum'].var()))"
   ]
  },
  {
   "cell_type": "code",
   "execution_count": null,
   "id": "74c39e1d-54dd-4851-92da-bf3f1ccb9adc",
   "metadata": {},
   "outputs": [],
   "source": [
    "# find rmse - actual then predicted\n",
    "resultseasonalsontp = resultseasonalson[resultseasonalson['tp1'].notna()]\n",
    "resultseasonalsonmsl = resultseasonalson[resultseasonalson['msl1'].notna()]\n",
    "resultseasonalsont2m = resultseasonalson[resultseasonalson['t2m1'].notna()]\n",
    "resultseasonalsonsdmean = resultseasonalson[resultseasonalson['sd1mean'].notna()]\n",
    "resultseasonalsonsdsum = resultseasonalson[resultseasonalson['sd1sum'].notna()]\n",
    "print(np.sqrt(mean_squared_error(resultseasonalsontp['tp1'], resultseasonalsontp['tp'])))\n",
    "print(np.sqrt(mean_squared_error(resultseasonalsonmsl['msl1'], resultseasonalsonmsl['msl'])))\n",
    "print(np.sqrt(mean_squared_error(resultseasonalsont2m['t2m1'], resultseasonalsont2m['t2m'])))\n",
    "print(np.sqrt(mean_squared_error(resultseasonalsonsdmean['sd1mean'], resultseasonalsonsdmean['sdadjmean'])))\n",
    "print(np.sqrt(mean_squared_error(resultseasonalsonsdsum['sd1sum'], resultseasonalsonsdsum['sdadjsum'])))"
   ]
  },
  {
   "cell_type": "code",
   "execution_count": null,
   "id": "e2c8cab3-7984-42e0-9064-b95b049eecf2",
   "metadata": {},
   "outputs": [],
   "source": [
    "resultseasonalreducedson = resultmonthlyreduced.copy()\n",
    "\n",
    "# apply function to database\n",
    "resultseasonalreducedson['season'] = resultseasonalreducedson.index.to_series()\n",
    "resultseasonalreducedson['season'] = resultseasonalreducedson['season'].dt.month\n",
    "resultseasonalreducedson['season'] = resultseasonalreducedson['season'].apply(month_to_season)\n",
    "\n",
    "# find only SON\n",
    "resultseasonalreducedson = resultseasonalreducedson[resultseasonalreducedson['season'] == 'SON']\n",
    "resultseasonalreducedson = resultseasonalreducedson.drop('season', axis=1)\n",
    "resultseasonalreducedson"
   ]
  },
  {
   "cell_type": "code",
   "execution_count": null,
   "id": "ec6ec9dd-6151-4143-a842-a0212ad0573e",
   "metadata": {},
   "outputs": [],
   "source": [
    "# find correlations\n",
    "print(resultseasonalreducedson['stl2'].corr(resultseasonalreducedson['20cm']))\n",
    "print(resultseasonalreducedson['stl3'].corr(resultseasonalreducedson['40cm']))\n",
    "print(resultseasonalreducedson['stl3'].corr(resultseasonalreducedson['60cm']))\n",
    "print(resultseasonalreducedson['stl3'].corr(resultseasonalreducedson['80cm']))\n",
    "print(resultseasonalreducedson['stl4'].corr(resultseasonalreducedson['160cm']))\n",
    "print(resultseasonalreducedson['stl4'].corr(resultseasonalreducedson['320cm']))"
   ]
  },
  {
   "cell_type": "code",
   "execution_count": null,
   "id": "0d897136-88cf-4153-9be8-5fefdf8e7437",
   "metadata": {},
   "outputs": [],
   "source": [
    "# find variance ratio\n",
    "print((resultseasonalreducedson['stl2'].var())/(resultseasonalreducedson['20cm'].var()))\n",
    "print((resultseasonalreducedson['stl3'].var())/(resultseasonalreducedson['40cm'].var()))\n",
    "print((resultseasonalreducedson['stl3'].var())/(resultseasonalreducedson['60cm'].var()))\n",
    "print((resultseasonalreducedson['stl3'].var())/(resultseasonalreducedson['80cm'].var()))\n",
    "print((resultseasonalreducedson['stl4'].var())/(resultseasonalreducedson['160cm'].var()))\n",
    "print((resultseasonalreducedson['stl4'].var())/(resultseasonalreducedson['320cm'].var()))"
   ]
  },
  {
   "cell_type": "code",
   "execution_count": null,
   "id": "c3441de4-d170-4baa-97ae-493a0a0148eb",
   "metadata": {},
   "outputs": [],
   "source": [
    "# find rmse - actual then predicted, using redacted datasets\n",
    "resultseasonalreducedson20 = resultseasonalreducedson[resultseasonalreducedson['20cm'].notna()]\n",
    "resultseasonalreducedson40 = resultseasonalreducedson[resultseasonalreducedson['40cm'].notna()]\n",
    "resultseasonalreducedson60 = resultseasonalreducedson[resultseasonalreducedson['60cm'].notna()]\n",
    "resultseasonalreducedson80 = resultseasonalreducedson[resultseasonalreducedson['80cm'].notna()]\n",
    "resultseasonalreducedson160 = resultseasonalreducedson[resultseasonalreducedson['160cm'].notna()]\n",
    "resultseasonalreducedson320 = resultseasonalreducedson[resultseasonalreducedson['320cm'].notna()]\n",
    "\n",
    "print(np.sqrt(mean_squared_error(resultseasonalreducedson20['20cm'], resultseasonalreducedson20['stl2'])))\n",
    "print(np.sqrt(mean_squared_error(resultseasonalreducedson40['40cm'], resultseasonalreducedson40['stl3'])))\n",
    "print(np.sqrt(mean_squared_error(resultseasonalreducedson60['60cm'], resultseasonalreducedson60['stl3'])))\n",
    "print(np.sqrt(mean_squared_error(resultseasonalreducedson80['80cm'], resultseasonalreducedson80['stl3'])))\n",
    "print(np.sqrt(mean_squared_error(resultseasonalreducedson160['160cm'], resultseasonalreducedson160['stl4'])))\n",
    "print(np.sqrt(mean_squared_error(resultseasonalreducedson320['320cm'], resultseasonalreducedson320['stl4'])))"
   ]
  },
  {
   "cell_type": "markdown",
   "id": "632f8ade-11cd-44e6-ab6e-7ed4477dd1c7",
   "metadata": {
    "jp-MarkdownHeadingCollapsed": true,
    "tags": []
   },
   "source": [
    "## Annual data"
   ]
  },
  {
   "cell_type": "markdown",
   "id": "865612ab-f8c0-4f95-b957-6ef6fdb565ab",
   "metadata": {
    "jp-MarkdownHeadingCollapsed": true,
    "tags": []
   },
   "source": [
    "### The long way round - run each time"
   ]
  },
  {
   "cell_type": "code",
   "execution_count": null,
   "id": "b3481461-5704-472a-b8bc-21830a5135c4",
   "metadata": {},
   "outputs": [],
   "source": [
    "# Compile yearly from monthly\n",
    "# 1979-2020\n",
    "resultyearly = resultmonthly.copy()\n",
    "resultyearlymean = resultyearly[['t2m', 't2m1', 'sdadjmean', 'sd1mean']].resample('Y').mean()\n",
    "resultyearlysum = resultyearly[['tp', 'tp1', 'sdadjsum', 'sd1sum']].resample('Y').sum()\n",
    "resultyearly = pd.concat([resultyearlymean, resultyearlysum], axis=1)\n",
    "resultyearly[['t2mcorr', 'tpcorr', 'sdmeancorr', 'sdsumcorr', 't2mvr', 'tpvr', 'sdmeanvr', 'sdsumvr', 't2mrmse', 'tprmse', 'sdmeanrmse', 'sdsumrmse']] = np.nan\n",
    "\n",
    "resultyearlyt2m = resultmonthly[resultmonthly['t2m1'].notna()]\n",
    "resultyearlytp = resultmonthly[resultmonthly['tp1'].notna()]\n",
    "resultyearlysdmean = resultmonthly[resultmonthly['sd1mean'].notna()]\n",
    "resultyearlysdsum = resultmonthly[resultmonthly['sd1sum'].notna()]\n",
    "\n",
    "for year in range(1959, 2021):\n",
    "    try:\n",
    "        local = resultmonthly.loc[str(year)]\n",
    "\n",
    "        resultyearly['t2mcorr'].loc[str(year)] = local['t2m'].corr(local['t2m1'])\n",
    "        resultyearly['tpcorr'].loc[str(year)] = local['tp'].corr(local['tp1'])\n",
    "        resultyearly['sdmeancorr'].loc[str(year)] = local['sdadjmean'].corr(local['sd1mean'])\n",
    "        resultyearly['sdsumcorr'].loc[str(year)] = local['sdadjsum'].corr(local['sd1sum'])\n",
    "\n",
    "        resultyearly['t2mvr'].loc[str(year)] = local['t2m'].var() / local['t2m1'].var()\n",
    "        resultyearly['tpvr'].loc[str(year)] = local['tp'].var() / local['tp1'].var()\n",
    "        resultyearly['sdmeanvr'].loc[str(year)] = local['sdadjmean'].var() / local['sd1mean'].var()\n",
    "        resultyearly['sdsumvr'].loc[str(year)] = local['sdadjsum'].var() / local['sd1sum'].var()\n",
    "\n",
    "        resultyearly['t2mrmse'].loc[str(year)] = np.sqrt(mean_squared_error(local['t2m1'], local['t2m']))\n",
    "        resultyearly['tprmse'].loc[str(year)] = np.sqrt(mean_squared_error(local['tp1'], local['tp']))\n",
    "        resultyearly['sdmeanrmse'].loc[str(year)] = np.sqrt(mean_squared_error(local['sd1mean'], local['sdadjmean']))\n",
    "        resultyearly['sdsumrmse'].loc[str(year)] = np.sqrt(mean_squared_error(local['sd1sum'], local['sdadjsum']))\n",
    "\n",
    "    except (KeyError, ValueError, TypeError) as e:\n",
    "        print(f\"Skipping year {year} due to missing data or error: {e}\")\n",
    "        continue"
   ]
  },
  {
   "cell_type": "code",
   "execution_count": null,
   "id": "8cec4bf2-b51d-4801-b47b-7516c6a88e68",
   "metadata": {},
   "outputs": [],
   "source": [
    "# Treat soil separately\n",
    "resultyearlyreduced = resultmonthlyreduced.copy()\n",
    "resultyearlyreduced = resultyearlyreduced.resample('Y').mean()\n",
    "resultyearlyreduced[['20corr', '40corr', '60corr', '80corr', '160corr', '320corr', '20vr', '40vr', '60vr', '80vr', '160vr', '320vr', '20rmse', '40rmse', '60rmse', '80rmse', '160rmse', '320rmse']] = np.nan\n",
    "\n",
    "resultyearlyreduced20 = resultyearlyreduced[resultyearlyreduced['20cm'].notna()]\n",
    "resultyearlyreduced40 = resultyearlyreduced[resultyearlyreduced['40cm'].notna()]\n",
    "resultyearlyreduced60 = resultyearlyreduced[resultyearlyreduced['60cm'].notna()]\n",
    "resultyearlyreduced80 = resultyearlyreduced[resultyearlyreduced['80cm'].notna()]\n",
    "resultyearlyreduced160 = resultyearlyreduced[resultyearlyreduced['160cm'].notna()]\n",
    "resultyearlyreduced320 = resultyearlyreduced[resultyearlyreduced['320cm'].notna()]\n",
    "\n",
    "# Handle missing data\n",
    "#resultyearlyreduced = resultyearlyreduced.drop(['1997'])\n",
    "#resultyearlyreduced['160cm'].loc['1991', '1995'] = np.nan\n",
    "\n",
    "for year in range(1979, 2021):\n",
    "    try:\n",
    "        local = resultmonthlyreduced.loc[str(year)]\n",
    "\n",
    "        resultyearlyreduced['20corr'].loc[str(year)] = local['stl2'].corr(local['20cm'])\n",
    "        resultyearlyreduced['40corr'].loc[str(year)] = local['stl3'].corr(local['40cm'])\n",
    "        resultyearlyreduced['60corr'].loc[str(year)] = local['stl3'].corr(local['60cm'])\n",
    "        resultyearlyreduced['80corr'].loc[str(year)] = local['stl3'].corr(local['80cm'])\n",
    "        resultyearlyreduced['160corr'].loc[str(year)] = local['stl4'].corr(local['160cm'])\n",
    "        resultyearlyreduced['320corr'].loc[str(year)] = local['stl4'].corr(local['320cm'])\n",
    "        \n",
    "        resultyearlyreduced['20vr'].loc[str(year)] = local['stl2'].var() / local['20cm'].var()\n",
    "        resultyearlyreduced['40vr'].loc[str(year)] = local['stl3'].var() / local['40cm'].var()\n",
    "        resultyearlyreduced['60vr'].loc[str(year)] = local['stl3'].var() / local['60cm'].var()\n",
    "        resultyearlyreduced['80vr'].loc[str(year)] = local['stl3'].var() / local['80cm'].var()\n",
    "        resultyearlyreduced['160vr'].loc[str(year)] = local['stl4'].var() / local['160cm'].var()\n",
    "        resultyearlyreduced['320vr'].loc[str(year)] = local['stl4'].var() / local['320cm'].var()\n",
    "        \n",
    "        resultyearlyreduced['20rmse'].loc[str(year)] = np.sqrt(mean_squared_error(resultmonthlyreduced20['20cm'].loc[str(year)], resultmonthlyreduced20['stl2'].loc[str(year)]))\n",
    "        resultyearlyreduced['40rmse'].loc[str(year)] = np.sqrt(mean_squared_error(resultmonthlyreduced40['40cm'].loc[str(year)], resultmonthlyreduced40['stl3'].loc[str(year)]))\n",
    "        resultyearlyreduced['60rmse'].loc[str(year)] = np.sqrt(mean_squared_error(resultmonthlyreduced60['60cm'].loc[str(year)], resultmonthlyreduced60['stl3'].loc[str(year)]))\n",
    "        resultyearlyreduced['80rmse'].loc[str(year)] = np.sqrt(mean_squared_error(resultmonthlyreduced80['80cm'].loc[str(year)], resultmonthlyreduced80['stl3'].loc[str(year)]))\n",
    "        resultyearlyreduced['160rmse'].loc[str(year)] = np.sqrt(mean_squared_error(resultmonthlyreduced160['160cm'].loc[str(year)], resultmonthlyreduced160['stl4'].loc[str(year)]))\n",
    "        resultyearlyreduced['320rmse'].loc[str(year)] = np.sqrt(mean_squared_error(resultmonthlyreduced320['320cm'].loc[str(year)], resultmonthlyreduced320['stl4'].loc[str(year)]))\n",
    "        \n",
    "    except (KeyError, ValueError, TypeError) as e:\n",
    "        print(f\"Skipping year {year} due to missing data or error: {e}\")\n",
    "        continue"
   ]
  },
  {
   "cell_type": "markdown",
   "id": "8729d736-b003-4ab2-b4e0-767c7db9ac48",
   "metadata": {
    "jp-MarkdownHeadingCollapsed": true,
    "tags": []
   },
   "source": [
    "### Processed"
   ]
  },
  {
   "cell_type": "code",
   "execution_count": null,
   "id": "152d6ecd-8ea8-4bd1-b2f6-f83911628dc4",
   "metadata": {},
   "outputs": [],
   "source": [
    "resultyearly"
   ]
  },
  {
   "cell_type": "code",
   "execution_count": null,
   "id": "a1636cf9-6fb2-41bd-8b74-2de30888a883",
   "metadata": {},
   "outputs": [],
   "source": [
    "resultyearly['tpbias'] = resultyearly['tp1'] - resultyearly['tp']\n",
    "tpbias = (resultyearly['tpbias'].sum())/(resultyearly['tpbias'].notnull().sum())\n",
    "resultyearly['t2mbias'] = resultyearly['t2m1'] - resultyearly['t2m']\n",
    "t2mbias = (resultyearly['t2mbias'].sum())/(resultyearly['t2mbias'].notnull().sum())\n",
    "resultyearly['sdmeanbias'] = resultyearly['sd1mean'] - resultyearly['sdadjmean']\n",
    "sdmeanbias = (resultyearly['sdmeanbias'].sum())/(resultyearly['sdmeanbias'].notnull().sum())\n",
    "resultyearly['sdsumbias'] = resultyearly['sd1sum'] - resultyearly['sdadjsum']\n",
    "sdsumbias = (resultyearly['sdsumbias'].sum())/(resultyearly['sdsumbias'].notnull().sum())\n",
    "print(tpbias)\n",
    "print(t2mbias)\n",
    "print(sdmeanbias)\n",
    "print(sdsumbias)"
   ]
  },
  {
   "cell_type": "code",
   "execution_count": null,
   "id": "562fcc26-7b45-4d7b-be8e-1a4a8b32fa54",
   "metadata": {},
   "outputs": [],
   "source": [
    "# find correlations\n",
    "print(resultyearly['tp'].corr(resultyearly['tp1']))\n",
    "print(resultyearly['t2m'].corr(resultyearly['t2m1']))\n",
    "print(resultyearly['sdadjmean'].corr(resultyearly['sd1mean']))\n",
    "print(resultyearly['sdadjsum'].corr(resultyearly['sd1sum']))"
   ]
  },
  {
   "cell_type": "code",
   "execution_count": null,
   "id": "a50a3182-b08c-4b18-afbf-0cafd7595dc4",
   "metadata": {},
   "outputs": [],
   "source": [
    "# find variance ratio\n",
    "print((resultyearly['tp'].var())/(resultyearly['tp1'].var()))\n",
    "print((resultyearly['t2m'].var())/(resultyearly['t2m1'].var()))\n",
    "print((resultyearly['sdadjmean'].var())/(resultyearly['sd1mean'].var()))\n",
    "print((resultyearly['sdadjsum'].var())/(resultyearly['sd1sum'].var()))"
   ]
  },
  {
   "cell_type": "code",
   "execution_count": null,
   "id": "f2167ee9-0da3-4c4e-aa60-a992aa06eff8",
   "metadata": {},
   "outputs": [],
   "source": [
    "# find rmse - actual then predicted\n",
    "print(np.sqrt(mean_squared_error(resultyearly['tp1'], resultyearly['tp'])))\n",
    "print(np.sqrt(mean_squared_error(resultyearly['t2m1'], resultyearly['t2m'])))\n",
    "print(np.sqrt(mean_squared_error(resultyearly['sd1mean'], resultyearly['sdadjmean'])))\n",
    "print(np.sqrt(mean_squared_error(resultyearly['sd1sum'], resultyearly['sdadjsum'])))"
   ]
  },
  {
   "cell_type": "code",
   "execution_count": null,
   "id": "7024a111-3216-4198-bc10-acb5d825e9ba",
   "metadata": {},
   "outputs": [],
   "source": [
    "resultyearlyreduced"
   ]
  },
  {
   "cell_type": "code",
   "execution_count": null,
   "id": "add277cc-60ce-462d-b631-f4bd05756524",
   "metadata": {},
   "outputs": [],
   "source": [
    "# find correlations\n",
    "print(resultyearlyreduced['stl2'].corr(resultyearlyreduced['20cm']))\n",
    "print(resultyearlyreduced['stl3'].corr(resultyearlyreduced['40cm']))\n",
    "print(resultyearlyreduced['stl3'].corr(resultyearlyreduced['60cm']))\n",
    "print(resultyearlyreduced['stl3'].corr(resultyearlyreduced['80cm']))\n",
    "print(resultyearlyreduced['stl4'].corr(resultyearlyreduced['160cm']))\n",
    "print(resultyearlyreduced['stl4'].corr(resultyearlyreduced['320cm']))"
   ]
  },
  {
   "cell_type": "code",
   "execution_count": null,
   "id": "465ed339-e5f4-4db4-b072-3627abfc86e0",
   "metadata": {},
   "outputs": [],
   "source": [
    "# find variance ratio\n",
    "print((resultyearlyreduced['stl2'].var())/(resultyearlyreduced['20cm'].var()))\n",
    "print((resultyearlyreduced['stl3'].var())/(resultyearlyreduced['40cm'].var()))\n",
    "print((resultyearlyreduced['stl3'].var())/(resultyearlyreduced['60cm'].var()))\n",
    "print((resultyearlyreduced['stl3'].var())/(resultyearlyreduced['80cm'].var()))\n",
    "print((resultyearlyreduced['stl4'].var())/(resultyearlyreduced['160cm'].var()))\n",
    "print((resultyearlyreduced['stl4'].var())/(resultyearlyreduced['320cm'].var()))"
   ]
  },
  {
   "cell_type": "code",
   "execution_count": null,
   "id": "ec1f660f-8d7d-4d2d-abf2-aa345eddd2fd",
   "metadata": {},
   "outputs": [],
   "source": [
    "# find rmse - actual then predicted, using redacted datasets\n",
    "resultyearlyreduced20 = resultyearlyreduced[resultyearlyreduced['20cm'].notna()]\n",
    "resultyearlyreduced40 = resultyearlyreduced[resultyearlyreduced['40cm'].notna()]\n",
    "resultyearlyreduced60 = resultyearlyreduced[resultyearlyreduced['60cm'].notna()]\n",
    "resultyearlyreduced80 = resultyearlyreduced[resultyearlyreduced['80cm'].notna()]\n",
    "resultyearlyreduced160 = resultyearlyreduced[resultyearlyreduced['160cm'].notna()]\n",
    "resultyearlyreduced320 = resultyearlyreduced[resultyearlyreduced['320cm'].notna()]\n",
    "\n",
    "print(np.sqrt(mean_squared_error(resultyearlyreduced20['20cm'], resultyearlyreduced20['stl2'])))\n",
    "print(np.sqrt(mean_squared_error(resultyearlyreduced40['40cm'], resultyearlyreduced40['stl3'])))\n",
    "print(np.sqrt(mean_squared_error(resultyearlyreduced60['60cm'], resultyearlyreduced60['stl3'])))\n",
    "print(np.sqrt(mean_squared_error(resultyearlyreduced80['80cm'], resultyearlyreduced80['stl3'])))\n",
    "print(np.sqrt(mean_squared_error(resultyearlyreduced160['160cm'], resultyearlyreduced160['stl4'])))\n",
    "print(np.sqrt(mean_squared_error(resultyearlyreduced320['320cm'], resultyearlyreduced320['stl4'])))"
   ]
  },
  {
   "cell_type": "markdown",
   "id": "14e4c94d-dec8-4a41-bf14-fe72e9969f3f",
   "metadata": {
    "jp-MarkdownHeadingCollapsed": true,
    "tags": []
   },
   "source": [
    "## Decadal data"
   ]
  },
  {
   "cell_type": "code",
   "execution_count": null,
   "id": "5f8ed084-eb5b-429d-9a58-4d2284a0aadd",
   "metadata": {},
   "outputs": [],
   "source": [
    "# Resample to decadal from yearly\n",
    "# 'time' = end year\n",
    "resultdecadal = resultyearly.copy()\n",
    "resultdecadal = resultdecadal.rolling(10).mean()\n",
    "resultdecadal = resultdecadal.drop(resultdecadal.index[[0, 1, 2, 3, 4, 5, 6, 7, 8]])\n",
    "resultdecadal"
   ]
  },
  {
   "cell_type": "code",
   "execution_count": null,
   "id": "db6ec773-c917-4812-8134-dce661170a46",
   "metadata": {},
   "outputs": [],
   "source": [
    "# Treat soil separately\n",
    "# 'time' = end year\n",
    "resultdecadalreduced = resultyearlyreduced.copy()\n",
    "resultdecadalreduced = resultdecadalreduced.rolling(10, min_periods=8).mean()\n",
    "resultdecadalreduced = resultdecadalreduced.drop(resultdecadalreduced.index[[0, 1, 2, 3, 4, 5, 6, 7, 8]])\n",
    "resultdecadalreduced"
   ]
  },
  {
   "cell_type": "markdown",
   "id": "110c04d2-675a-458b-9016-789011914b0f",
   "metadata": {
    "jp-MarkdownHeadingCollapsed": true,
    "tags": []
   },
   "source": [
    "# Plots"
   ]
  },
  {
   "cell_type": "code",
   "execution_count": null,
   "id": "2d1f02da-dbd6-44e6-8231-7a7f6a6f90c5",
   "metadata": {},
   "outputs": [],
   "source": [
    "# Raw annual values\n",
    "# Edit for each variable\n",
    "data1 = resultyearly.assign(Dataset='ERA5')\n",
    "#data2 = resultyearly.assign(Dataset='ERA5-land')\n",
    "data3 = resultyearly.assign(Dataset='met station')\n",
    "\n",
    "#f = plt.figure(figsize=[4,6])\n",
    "ax = f.add_subplot(111)\n",
    "\n",
    "#cdf = pd.concat([data1, data2, data3])    \n",
    "cdf = pd.concat([data1, data3])    \n",
    "mdf = pd.melt(cdf, id_vars=['Dataset'], var_name=['Variable'])\n",
    "\n",
    "mdf = mdf[(mdf['Variable'] == 'sdadjmean') | (mdf['Variable'] == 'sd1mean')]\n",
    "\n",
    "ax = data1.plot(y='sdadjmean', use_index=True, label='ERA5')\n",
    "#data2.plot(ax=ax, y='sdadjmean', use_index=True, color='red', label='ERA5-land')\n",
    "data3.plot(ax=ax, y='sd1mean', use_index=True, color='green', label='station')\n",
    "\n",
    "#plt.ylim([7500, 23500])\n",
    "#ax.get_legend().remove()\n",
    "#plt.axhline(y=1, color='g', linestyle='--')\n",
    "\n",
    "plt.title(f'{station} snow depth yearly mean 1959-2020')\n",
    "plt.xlabel('year')\n",
    "plt.ylabel('snow depth yearly mean (cm)')\n",
    "\n",
    "#plt.savefig(f'{station}sd.png', dpi=300, bbox_inches='tight')\n",
    "plt.show()"
   ]
  },
  {
   "cell_type": "code",
   "execution_count": null,
   "id": "de23bf6c-70bd-496f-bf8e-52ddf6f33845",
   "metadata": {},
   "outputs": [],
   "source": [
    "# Correlation plots\n",
    "# Edit for each variable\n",
    "data1 = resultdecadal.assign(Dataset='ERA5')\n",
    "#data2 = resultdecadal.assign(Dataset='ERA5-land')\n",
    "\n",
    "#f = plt.figure(figsize=[4,6])\n",
    "ax = f.add_subplot(111)\n",
    "\n",
    "#cdf = pd.concat([data1, data2])    \n",
    "cdf = pd.concat([data1])    \n",
    "mdf = pd.melt(cdf, id_vars=['Dataset'], var_name=['Variable'])\n",
    "\n",
    "mdf = mdf[(mdf['Variable'] == 'sdmeancorr')]\n",
    "\n",
    "ax = data1.plot(y='sdmeancorr', use_index=True, label='ERA5 correlation')\n",
    "#ax = data2.plot(y='sdmeancorr', use_index=True, label='ERA5-Land correlation')\n",
    "\n",
    "#plt.ylim([7500, 23500])\n",
    "ax.get_legend().remove()\n",
    "plt.axhline(y=1, color='g', linestyle='--')\n",
    "\n",
    "plt.title(f'{station} decadal snow depth correlation 1959-2020')\n",
    "plt.xlabel('End year of decade')\n",
    "\n",
    "#plt.savefig(f'{station}sdcorr.png', dpi=300, bbox_inches='tight')\n",
    "plt.show()"
   ]
  },
  {
   "cell_type": "code",
   "execution_count": null,
   "id": "57d00ed9-d033-4dc3-87a8-b6e1dd3e2fc8",
   "metadata": {},
   "outputs": [],
   "source": [
    "# Seasonal boxplot\n",
    "# Edit for each variable\n",
    "data1 = resultseasonaldjf.assign(Season='Winter')\n",
    "data2 = resultseasonalmam.assign(Season='Spring')\n",
    "data3 = resultseasonaljja.assign(Season='Summer')\n",
    "data4 = resultseasonalson.assign(Season='Autumn')\n",
    "\n",
    "#f = plt.figure(figsize=[4,6])\n",
    "ax = f.add_subplot(111)\n",
    "\n",
    "cdf = pd.concat([data1, data2, data3, data4])    \n",
    "mdf = pd.melt(cdf, id_vars=['Season'], var_name=['Dataset'])\n",
    "\n",
    "mdf = mdf[(mdf['Dataset'] == 'sdadjmean') | (mdf['Dataset'] == 'sd1mean')]\n",
    "ax = sns.boxplot(x=\"Season\", y=\"value\", hue=\"Dataset\", data=mdf)\n",
    "\n",
    "#plt.ylim([-0.5, 10.9])\n",
    "#ax.get_legend().remove()\n",
    "\n",
    "plt.title(f'{station} seasonal snow depth boxplot 1959-2020')\n",
    "plt.ylabel('Average snow depth (cm)')\n",
    "\n",
    "handles, _ = ax.get_legend_handles_labels()\n",
    "ax.legend(handles, ['ERA5', 'Station'])\n",
    "\n",
    "#plt.savefig(f'{station}sdseas.png', dpi=300, bbox_inches='tight')\n",
    "plt.show()"
   ]
  },
  {
   "cell_type": "code",
   "execution_count": null,
   "id": "e470da84-77f4-4395-9e4b-8a1894744f2a",
   "metadata": {},
   "outputs": [],
   "source": [
    "# basic era5 vs met station obvs\n",
    "# set day/month/year/season to compare\n",
    "resulttime = result.copy()\n",
    "resulttime = resulttime.loc['2000':'2001']\n",
    "#resulttime.plot('t2m', 't2m1', kind='scatter')\n",
    "\n",
    "#sns.regplot(x='stl4', y='320cm', data=resultyearlyreduced, ci=95, line_kws={'color':'red'})\n",
    "#resultdecadal.plot(y='sdcorr', use_index=True)\n",
    "\n",
    "fig = plt.figure()\n",
    "ax1 = fig.add_subplot(111)\n",
    "pd.plotting.register_matplotlib_converters()\n",
    "#resultdecadal.index = resultdecadal.index.to_timestamp()\n",
    "\n",
    "ax1.scatter(x=resultdecadal.index, y=resultdecadal.t2mcorr, c='b', label='era5')\n",
    "plt.legend(loc='upper left');\n",
    "plt.show()"
   ]
  },
  {
   "cell_type": "code",
   "execution_count": null,
   "id": "c73fb446-c6f5-4240-9616-6c286c692e83",
   "metadata": {},
   "outputs": [],
   "source": [
    "# plot multiple columns in one graph\n",
    "resulttime.plot(use_index=True, y=['t2m', 'd2m'], color=['blue', 'orange'])\n",
    "plt.show()"
   ]
  },
  {
   "cell_type": "code",
   "execution_count": null,
   "id": "e3b84b2d-ad0e-47a9-b354-e587d4c30d54",
   "metadata": {},
   "outputs": [],
   "source": [
    "# boxplot\n",
    "resultdecadalreduced.boxplot(column=['20rmse', '40rmse', '60rmse', '80rmse', '160rmse', '320rmse'])\n",
    "plt.show()"
   ]
  },
  {
   "cell_type": "code",
   "execution_count": null,
   "id": "da97ffed-5eec-48d8-9d6c-8d897f112885",
   "metadata": {},
   "outputs": [],
   "source": [
    "# basic correlation heatmap\n",
    "corr = resultmonthlyreduced.corr()\n",
    "corr.style.background_gradient(cmap='coolwarm')"
   ]
  },
  {
   "cell_type": "code",
   "execution_count": null,
   "id": "b1835766-76ca-4fff-a535-2b403a8bfea4",
   "metadata": {},
   "outputs": [],
   "source": []
  }
 ],
 "metadata": {
  "kernelspec": {
   "display_name": "Python 3 + Jaspy",
   "language": "python",
   "name": "jaspy"
  },
  "language_info": {
   "codemirror_mode": {
    "name": "ipython",
    "version": 3
   },
   "file_extension": ".py",
   "mimetype": "text/x-python",
   "name": "python",
   "nbconvert_exporter": "python",
   "pygments_lexer": "ipython3",
   "version": "3.11.9"
  }
 },
 "nbformat": 4,
 "nbformat_minor": 5
}
