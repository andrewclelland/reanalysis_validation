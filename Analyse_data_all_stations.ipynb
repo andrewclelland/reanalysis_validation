{
 "cells": [
  {
   "cell_type": "markdown",
   "id": "7c4f05fc-e667-4fed-8f7b-d2d9b2af5812",
   "metadata": {
    "tags": []
   },
   "source": [
    "# Analyse processed reanalysis data at all stations"
   ]
  },
  {
   "cell_type": "markdown",
   "id": "62ce31c4-be81-4969-a3ec-b7b43d349c1e",
   "metadata": {
    "tags": []
   },
   "source": [
    "Analyse the previously-processed reanalysis data across all stations"
   ]
  },
  {
   "cell_type": "markdown",
   "id": "e35173e5-3632-4706-840e-146d2667e54d",
   "metadata": {
    "jp-MarkdownHeadingCollapsed": true,
    "tags": []
   },
   "source": [
    "## Imports - always run"
   ]
  },
  {
   "cell_type": "code",
   "execution_count": 1,
   "id": "96b0c435-2c8b-4fce-8944-58c605a21851",
   "metadata": {
    "tags": []
   },
   "outputs": [],
   "source": [
    "from datetime import datetime\n",
    "import numpy as np\n",
    "import os\n",
    "import pandas as pd\n",
    "from sklearn.metrics import mean_squared_error\n",
    "import matplotlib\n",
    "import matplotlib.pyplot as plt\n",
    "import matplotlib.dates as mdates\n",
    "import seaborn as sns\n",
    "\n",
    "def month_to_season(x):\n",
    "    if x == 3 or x == 4 or x == 5:\n",
    "        season = 'MAM'\n",
    "    elif x == 6 or x == 7 or x == 8:\n",
    "        season = 'JJA'\n",
    "    elif x == 9 or x == 10 or x == 11:\n",
    "        season = 'SON'\n",
    "    elif x == 12 or x == 1 or x == 2:\n",
    "        season = 'DJF'\n",
    "    else:\n",
    "        season = np.nan\n",
    "    return season"
   ]
  },
  {
   "cell_type": "markdown",
   "id": "4ad1bbf3-4844-40c3-b08c-53fa478c1392",
   "metadata": {
    "jp-MarkdownHeadingCollapsed": true,
    "tags": []
   },
   "source": [
    "# ERA5 data"
   ]
  },
  {
   "cell_type": "markdown",
   "id": "547fdfff-c466-4d69-bc3b-0d8678d2498c",
   "metadata": {
    "jp-MarkdownHeadingCollapsed": true,
    "tags": []
   },
   "source": [
    "## 3h data"
   ]
  },
  {
   "cell_type": "code",
   "execution_count": null,
   "id": "fc6adee6-209b-4cfe-b3be-ef72e8194021",
   "metadata": {},
   "outputs": [],
   "source": [
    "df236783h = pd.read_table('/home/users/clelland/era5/stations_pandas_files/23678/23678e53hadj.csv', sep=\";\", index_col='time')\n",
    "df236783h['station'] = 23678\n",
    "df238843h = pd.read_table('/home/users/clelland/era5/stations_pandas_files/23884/23884e53hadj.csv', sep=\";\", index_col='time')\n",
    "df238843h['station'] = 23884\n",
    "df239863h = pd.read_table('/home/users/clelland/era5/stations_pandas_files/23986/23986e53hadj.csv', sep=\";\", index_col='time')\n",
    "df239863h['station'] = 23986\n",
    "area13 = pd.concat([df236783h, df238843h, df239863h], axis=0)"
   ]
  },
  {
   "cell_type": "code",
   "execution_count": null,
   "id": "64df7e4a-dc1e-45a4-b6ad-c86cfc2e50eb",
   "metadata": {},
   "outputs": [],
   "source": [
    "df243293h = pd.read_table('/home/users/clelland/era5/stations_pandas_files/24329/24329e53hadj.csv', sep=\";\", index_col='time')\n",
    "df243293h['station'] = 24329\n",
    "df245383h = pd.read_table('/home/users/clelland/era5/stations_pandas_files/24538/24538e53hadj.csv', sep=\";\", index_col='time')\n",
    "df245383h['station'] = 24538\n",
    "df246413h = pd.read_table('/home/users/clelland/era5/stations_pandas_files/24641/24641e53hadj.csv', sep=\";\", index_col='time')\n",
    "df246413h['station'] = 24641\n",
    "df247263h = pd.read_table('/home/users/clelland/era5/stations_pandas_files/24726/24726e53hadj.csv', sep=\";\", index_col='time')\n",
    "df247263h['station'] = 24726\n",
    "df247383h = pd.read_table('/home/users/clelland/era5/stations_pandas_files/24738/24738e53hadj.csv', sep=\";\", index_col='time')\n",
    "df247383h['station'] = 24738\n",
    "area23 = pd.concat([df243293h, df245383h, df246413h, df247263h, df247383h], axis=0)"
   ]
  },
  {
   "cell_type": "code",
   "execution_count": null,
   "id": "d4f0d1e8-d268-442d-a25e-97fd64bc7622",
   "metadata": {},
   "outputs": [],
   "source": [
    "df247633h = pd.read_table('/home/users/clelland/era5/stations_pandas_files/24763/24763e53hadj.csv', sep=\";\", index_col='time')\n",
    "df247633h['station'] = 24763\n",
    "df249663h = pd.read_table('/home/users/clelland/era5/stations_pandas_files/24966/24966e53hadj.csv', sep=\";\", index_col='time')\n",
    "df249663h['station'] = 24966\n",
    "df249673h = pd.read_table('/home/users/clelland/era5/stations_pandas_files/24967/24967e53hadj.csv', sep=\";\", index_col='time')\n",
    "df249673h['station'] = 24967\n",
    "df310623h = pd.read_table('/home/users/clelland/era5/stations_pandas_files/31062/31062e53hadj.csv', sep=\";\", index_col='time')\n",
    "df310623h['station'] = 31062\n",
    "area33 = pd.concat([df247633h, df249663h, df249673h, df310623h], axis=0)"
   ]
  },
  {
   "cell_type": "code",
   "execution_count": null,
   "id": "42ccac2f-4e2b-452e-bf59-cb0e1aaa715b",
   "metadata": {},
   "outputs": [],
   "source": [
    "df304933h = pd.read_table('/home/users/clelland/era5/stations_pandas_files/30493/30493e53hadj.csv', sep=\";\", index_col='time')\n",
    "df304933h['station'] = 30493\n",
    "df306923h = pd.read_table('/home/users/clelland/era5/stations_pandas_files/30692/30692e53hadj.csv', sep=\";\", index_col='time')\n",
    "df306923h['station'] = 30692\n",
    "df311023h = pd.read_table('/home/users/clelland/era5/stations_pandas_files/31102/31102e53hadj.csv', sep=\";\", index_col='time')\n",
    "df311023h['station'] = 31102\n",
    "df311373h = pd.read_table('/home/users/clelland/era5/stations_pandas_files/31137/31137e53hadj.csv', sep=\";\", index_col='time')\n",
    "df311373h['station'] = 31137\n",
    "df312533h = pd.read_table('/home/users/clelland/era5/stations_pandas_files/31253/31253e53hadj.csv', sep=\";\", index_col='time')\n",
    "df312533h['station'] = 31253\n",
    "area43 = pd.concat([df304933h, df306923h, df311023h, df311373h, df312533h], axis=0)"
   ]
  },
  {
   "cell_type": "code",
   "execution_count": null,
   "id": "59b235f7-014c-4d7d-b185-06b9f0179209",
   "metadata": {},
   "outputs": [],
   "source": [
    "df296983h = pd.read_table('/home/users/clelland/era5/stations_pandas_files/29698/29698e53hadj.csv', sep=\";\", index_col='time')\n",
    "df296983h['station'] = 29698\n",
    "df297893h = pd.read_table('/home/users/clelland/era5/stations_pandas_files/29789/29789e53hadj.csv', sep=\";\", index_col='time')\n",
    "df297893h['station'] = 29789\n",
    "df305043h = pd.read_table('/home/users/clelland/era5/stations_pandas_files/30504/30504e53hadj.csv', sep=\";\", index_col='time')\n",
    "df305043h['station'] = 30504\n",
    "df361033h = pd.read_table('/home/users/clelland/era5/stations_pandas_files/36103/36103e53hadj.csv', sep=\";\", index_col='time')\n",
    "df361033h['station'] = 36103\n",
    "area53 = pd.concat([df296983h, df297893h, df305043h, df361033h], axis=0)"
   ]
  },
  {
   "cell_type": "code",
   "execution_count": null,
   "id": "58157ea7-6fce-4c97-b15b-619d63000624",
   "metadata": {},
   "outputs": [],
   "source": [
    "df242663h = pd.read_table('/home/users/clelland/era5/stations_pandas_files/24266/24266e53hadj.csv', sep=\";\", index_col='time')\n",
    "df242663h['station'] = 24266\n",
    "df243713h = pd.read_table('/home/users/clelland/era5/stations_pandas_files/24371/24371e53hadj.csv', sep=\";\", index_col='time')\n",
    "df243713h['station'] = 24371\n",
    "area63 = pd.concat([df242663h, df243713h], axis=0)"
   ]
  },
  {
   "cell_type": "code",
   "execution_count": null,
   "id": "3149bf77-ad3d-40d3-ba34-4c75c2b34c63",
   "metadata": {},
   "outputs": [],
   "source": [
    "df252063h = pd.read_table('/home/users/clelland/era5/stations_pandas_files/25206/25206e53hadj.csv', sep=\";\", index_col='time')\n",
    "df252063h['station'] = 25206\n",
    "df253253h = pd.read_table('/home/users/clelland/era5/stations_pandas_files/25325/25325e53hadj.csv', sep=\";\", index_col='time')\n",
    "df253253h['station'] = 25325\n",
    "df254003h = pd.read_table('/home/users/clelland/era5/stations_pandas_files/25400/25400e53hadj.csv', sep=\";\", index_col='time')\n",
    "df254003h['station'] = 25400\n",
    "df255033h = pd.read_table('/home/users/clelland/era5/stations_pandas_files/25503/25503e53hadj.csv', sep=\";\", index_col='time')\n",
    "df255033h['station'] = 25503\n",
    "area73 = pd.concat([df252063h, df253253h, df254003h, df255033h], axis=0)"
   ]
  },
  {
   "cell_type": "code",
   "execution_count": null,
   "id": "2e749b08-7c82-437a-b9d2-74d06019f876",
   "metadata": {},
   "outputs": [],
   "source": [
    "df = pd.concat([area13, area23, area33, area43, area53, area63, area73], axis=0)\n",
    "df.index = pd.to_datetime(df.index)\n",
    "df = df.set_index('station', append=True).sort_index(ascending=True)\n",
    "df"
   ]
  },
  {
   "cell_type": "code",
   "execution_count": null,
   "id": "99faab49-c1cb-4201-a41d-bc584f13ef27",
   "metadata": {},
   "outputs": [],
   "source": [
    "df23678e5 = pd.read_table('/home/users/clelland/era5/stations_pandas_files/23678/23678statione5.csv', sep=\";\", index_col='time')\n",
    "df23678e5['station'] = 23678\n",
    "df23884e5 = pd.read_table('/home/users/clelland/era5/stations_pandas_files/23884/23884statione5.csv', sep=\";\", index_col='time')\n",
    "df23884e5['station'] = 23884\n",
    "df23986e5 = pd.read_table('/home/users/clelland/era5/stations_pandas_files/23986/23986statione5.csv', sep=\";\", index_col='time')\n",
    "df23986e5['station'] = 23986\n",
    "area1s = pd.concat([df23678e5, df23884e5, df23986e5], axis=0)"
   ]
  },
  {
   "cell_type": "code",
   "execution_count": null,
   "id": "912ce60a-2a1b-44be-a28d-96fec9777547",
   "metadata": {},
   "outputs": [],
   "source": [
    "df24329e5 = pd.read_table('/home/users/clelland/era5/stations_pandas_files/24329/24329statione5.csv', sep=\";\", index_col='time')\n",
    "df24329e5['station'] = 24329\n",
    "df24538e5 = pd.read_table('/home/users/clelland/era5/stations_pandas_files/24538/24538statione5.csv', sep=\";\", index_col='time')\n",
    "df24538e5['station'] = 24538\n",
    "df24641e5 = pd.read_table('/home/users/clelland/era5/stations_pandas_files/24641/24641statione5.csv', sep=\";\", index_col='time')\n",
    "df24641e5['station'] = 24641\n",
    "df24726e5 = pd.read_table('/home/users/clelland/era5/stations_pandas_files/24726/24726statione5.csv', sep=\";\", index_col='time')\n",
    "df24726e5['station'] = 24726\n",
    "df24738e5 = pd.read_table('/home/users/clelland/era5/stations_pandas_files/24738/24738statione5.csv', sep=\";\", index_col='time')\n",
    "df24738e5['station'] = 24738\n",
    "area2s = pd.concat([df24329e5, df24538e5, df24641e5, df24726e5, df24738e5], axis=0)"
   ]
  },
  {
   "cell_type": "code",
   "execution_count": null,
   "id": "b70fc146-e86d-4e7c-b624-e5af6ba5b063",
   "metadata": {},
   "outputs": [],
   "source": [
    "df24763e5 = pd.read_table('/home/users/clelland/era5/stations_pandas_files/24763/24763statione5.csv', sep=\";\", index_col='time')\n",
    "df24763e5['station'] = 24763\n",
    "df24966e5 = pd.read_table('/home/users/clelland/era5/stations_pandas_files/24966/24966statione5.csv', sep=\";\", index_col='time')\n",
    "df24966e5['station'] = 24966\n",
    "df24967e5 = pd.read_table('/home/users/clelland/era5/stations_pandas_files/24967/24967statione5.csv', sep=\";\", index_col='time')\n",
    "df24967e5['station'] = 24967\n",
    "df31062e5 = pd.read_table('/home/users/clelland/era5/stations_pandas_files/31062/31062statione5.csv', sep=\";\", index_col='time')\n",
    "df31062e5['station'] = 31062\n",
    "area3s = pd.concat([df24763e5, df24966e5, df24967e5, df31062e5], axis=0)"
   ]
  },
  {
   "cell_type": "code",
   "execution_count": null,
   "id": "df8479d6-00ff-460a-ae32-1edbf4941e40",
   "metadata": {},
   "outputs": [],
   "source": [
    "df30493e5 = pd.read_table('/home/users/clelland/era5/stations_pandas_files/30493/30493statione5.csv', sep=\";\", index_col='time')\n",
    "df30493e5['station'] = 30493\n",
    "df30692e5 = pd.read_table('/home/users/clelland/era5/stations_pandas_files/30692/30692statione5.csv', sep=\";\", index_col='time')\n",
    "df30692e5['station'] = 30692\n",
    "df31102e5 = pd.read_table('/home/users/clelland/era5/stations_pandas_files/31102/31102statione5.csv', sep=\";\", index_col='time')\n",
    "df31102e5['station'] = 31102\n",
    "df31137e5 = pd.read_table('/home/users/clelland/era5/stations_pandas_files/31137/31137statione5.csv', sep=\";\", index_col='time')\n",
    "df31137e5['station'] = 31137\n",
    "df31253e5 = pd.read_table('/home/users/clelland/era5/stations_pandas_files/31253/31253statione5.csv', sep=\";\", index_col='time')\n",
    "df31253e5['station'] = 31253\n",
    "area4s = pd.concat([df30493e5, df30692e5, df31102e5, df31137e5, df31253e5], axis=0)"
   ]
  },
  {
   "cell_type": "code",
   "execution_count": null,
   "id": "f3ca1671-fee7-45e1-9904-6365000ad3c2",
   "metadata": {},
   "outputs": [],
   "source": [
    "df29698e5 = pd.read_table('/home/users/clelland/era5/stations_pandas_files/29698/29698statione5.csv', sep=\";\", index_col='time')\n",
    "df29698e5['station'] = 29698\n",
    "df29789e5 = pd.read_table('/home/users/clelland/era5/stations_pandas_files/29789/29789statione5.csv', sep=\";\", index_col='time')\n",
    "df29789e5['station'] = 29789\n",
    "df30504e5 = pd.read_table('/home/users/clelland/era5/stations_pandas_files/30504/30504statione5.csv', sep=\";\", index_col='time')\n",
    "df30504e5['station'] = 30504\n",
    "df36103e5 = pd.read_table('/home/users/clelland/era5/stations_pandas_files/36103/36103statione5.csv', sep=\";\", index_col='time')\n",
    "df36103e5['station'] = 36103\n",
    "area5s = pd.concat([df29698e5, df29789e5, df30504e5, df36103e5], axis=0)"
   ]
  },
  {
   "cell_type": "code",
   "execution_count": null,
   "id": "aa7b1647-638d-489e-a8c1-69d0cc33e1ce",
   "metadata": {},
   "outputs": [],
   "source": [
    "df24266e5 = pd.read_table('/home/users/clelland/era5/stations_pandas_files/24266/24266statione5.csv', sep=\";\", index_col='time')\n",
    "df24266e5['station'] = 24266\n",
    "df24371e5 = pd.read_table('/home/users/clelland/era5/stations_pandas_files/24371/24371statione5.csv', sep=\";\", index_col='time')\n",
    "df24371e5['station'] = 24371\n",
    "area6s = pd.concat([df24266e5, df24371e5], axis=0)"
   ]
  },
  {
   "cell_type": "code",
   "execution_count": null,
   "id": "d1b2c3ac-fbbe-4889-b375-edb2485bc72d",
   "metadata": {},
   "outputs": [],
   "source": [
    "df25206e5 = pd.read_table('/home/users/clelland/era5/stations_pandas_files/25206/25206statione5.csv', sep=\";\", index_col='time')\n",
    "df25206e5['station'] = 25206\n",
    "df25325e5 = pd.read_table('/home/users/clelland/era5/stations_pandas_files/25325/25325statione5.csv', sep=\";\", index_col='time')\n",
    "df25325e5['station'] = 25325\n",
    "df25400e5 = pd.read_table('/home/users/clelland/era5/stations_pandas_files/25400/25400statione5.csv', sep=\";\", index_col='time')\n",
    "df25400e5['station'] = 25400\n",
    "df25503e5 = pd.read_table('/home/users/clelland/era5/stations_pandas_files/25503/25503statione5.csv', sep=\";\", index_col='time')\n",
    "df25503e5['station'] = 25503\n",
    "area7s = pd.concat([df25206e5, df25325e5, df25400e5, df25503e5], axis=0)"
   ]
  },
  {
   "cell_type": "code",
   "execution_count": null,
   "id": "41cf1c3d-ba89-4110-b462-4aafd0aa03a7",
   "metadata": {},
   "outputs": [],
   "source": [
    "dfstation = pd.concat([area1s, area2s, area3s, area4s, area5s, area6s, area7s], axis=0)\n",
    "dfstation.index = pd.to_datetime(dfstation.index)\n",
    "dfstation = dfstation.set_index('station', append=True).sort_index(ascending=True)\n",
    "dfstation"
   ]
  },
  {
   "cell_type": "code",
   "execution_count": null,
   "id": "377b6c13-67dc-4643-bd65-d3052f85b992",
   "metadata": {},
   "outputs": [],
   "source": [
    "# merge the datasets\n",
    "result = pd.concat([df, dfstation], axis=1)\n",
    "result = result[['u10', 'u101', 'v10', 'v101', 'wspeed', 'wspeed1', 'bearing', 'bearing1', 'msl', 'msl1', 't2m', 't2m1', 'mn2t', 'mn2t1', 'mx2t', 'mx2t1', 'd2m', 'd2m1']]\n",
    "result"
   ]
  },
  {
   "cell_type": "code",
   "execution_count": null,
   "id": "117aa1d8-d404-4971-91ec-baddefa7fef1",
   "metadata": {},
   "outputs": [],
   "source": [
    "# find correlations\n",
    "print(result['t2m'].corr(result['t2m1']))\n",
    "print(result['mn2t'].corr(result['mn2t1']))\n",
    "print(result['mx2t'].corr(result['mx2t1']))\n",
    "print(result['d2m'].corr(result['d2m1']))\n",
    "print(result['msl'].corr(result['msl1'], method='spearman'))\n",
    "print(result['u10'].corr(result['u101'], method='spearman'))\n",
    "print(result['v10'].corr(result['v101'], method='spearman'))\n",
    "print(result['wspeed'].corr(result['wspeed1'], method='spearman'))\n",
    "print(result['bearing'].corr(result['bearing1'], method='spearman'))"
   ]
  },
  {
   "cell_type": "code",
   "execution_count": null,
   "id": "ae852e3b-27a6-4b9c-882c-6a07ebb4aa74",
   "metadata": {},
   "outputs": [],
   "source": [
    "# find variance ratio\n",
    "print((result['t2m'].var())/(result['t2m1'].var()))\n",
    "print((result['mn2t'].var())/(result['mn2t1'].var()))\n",
    "print((result['mx2t'].var())/(result['mx2t1'].var()))\n",
    "print((result['d2m'].var())/(result['d2m1'].var()))\n",
    "print((result['msl'].var())/(result['msl1'].var()))\n",
    "print((result['u10'].var())/(result['u101'].var()))\n",
    "print((result['v10'].var())/(result['v101'].var()))\n",
    "print((result['wspeed'].var())/(result['wspeed1'].var()))\n",
    "print((result['bearing'].var())/(result['bearing1'].var()))"
   ]
  },
  {
   "cell_type": "code",
   "execution_count": null,
   "id": "2132a5fe-4bdc-4486-b892-604f7db9f45b",
   "metadata": {},
   "outputs": [],
   "source": [
    "# find rmse, ignoring certain rows due to NaN values\n",
    "resultt2m = result[result['t2m1'].notna()]\n",
    "resultmn2t = result[result['mn2t1'].notna()]\n",
    "resultmn2t = resultmn2t[resultmn2t['mn2t'].notna()]\n",
    "resultmx2t = result[result['mx2t1'].notna()]\n",
    "resultmx2t = resultmx2t[resultmx2t['mx2t'].notna()]\n",
    "resultd2m = result[result['d2m1'].notna()]\n",
    "resultmsl = result[result['msl1'].notna()]\n",
    "resultu10 = result[result['u101'].notna()]\n",
    "resultv10 = result[result['v101'].notna()]\n",
    "resultwsp = result[result['wspeed1'].notna()]\n",
    "resultbea = result[result['bearing1'].notna()]\n",
    "\n",
    "print(np.sqrt(mean_squared_error(resultt2m['t2m1'], resultt2m['t2m'])))\n",
    "print(np.sqrt(mean_squared_error(resultmn2t['mn2t1'], resultmn2t['mn2t'])))\n",
    "print(np.sqrt(mean_squared_error(resultmx2t['mx2t1'], resultmx2t['mx2t'])))\n",
    "print(np.sqrt(mean_squared_error(resultd2m['d2m1'], resultd2m['d2m'])))\n",
    "print(np.sqrt(mean_squared_error(resultmsl['msl1'], resultmsl['msl'])))\n",
    "print(np.sqrt(mean_squared_error(resultu10['u101'], resultu10['u10'])))\n",
    "print(np.sqrt(mean_squared_error(resultv10['v101'], resultv10['v10'])))\n",
    "print(np.sqrt(mean_squared_error(resultwsp['wspeed1'], resultwsp['wspeed'])))\n",
    "print(np.sqrt(mean_squared_error(resultbea['bearing1'], resultbea['bearing'])))"
   ]
  },
  {
   "cell_type": "markdown",
   "id": "570fffb9-e9f3-4a05-91f2-24b89c31325d",
   "metadata": {
    "jp-MarkdownHeadingCollapsed": true,
    "tags": []
   },
   "source": [
    "## Daily data"
   ]
  },
  {
   "cell_type": "code",
   "execution_count": 2,
   "id": "04593e39-a367-4cb3-a5c7-bc36f84f5f11",
   "metadata": {},
   "outputs": [],
   "source": [
    "df23678result = pd.read_table('/home/users/clelland/era5/stations_pandas_files/23678/23678resulte5daily.csv', sep=\";\", index_col='time')\n",
    "df23678result['station'] = 23678\n",
    "df23884result = pd.read_table('/home/users/clelland/era5/stations_pandas_files/23884/23884resulte5daily.csv', sep=\";\", index_col='time')\n",
    "df23884result['station'] = 23884\n",
    "df23986result = pd.read_table('/home/users/clelland/era5/stations_pandas_files/23986/23986resulte5daily.csv', sep=\";\", index_col='time')\n",
    "df23986result['station'] = 23986\n",
    "area1d = pd.concat([df23678result, df23884result, df23986result], axis=0)"
   ]
  },
  {
   "cell_type": "code",
   "execution_count": 3,
   "id": "0f31d702-7e5c-4be9-aae2-6a5524b630e1",
   "metadata": {},
   "outputs": [],
   "source": [
    "df24329result = pd.read_table('/home/users/clelland/era5/stations_pandas_files/24329/24329resulte5daily.csv', sep=\";\", index_col='time')\n",
    "df24329result['station'] = 24329\n",
    "df24538result = pd.read_table('/home/users/clelland/era5/stations_pandas_files/24538/24538resulte5daily.csv', sep=\";\", index_col='time')\n",
    "df24538result['station'] = 24538\n",
    "df24639result = pd.read_table('/home/users/clelland/era5/stations_pandas_files/24639/24639resulte5daily.csv', sep=\";\", index_col='time')\n",
    "df24639result['station'] = 24639\n",
    "df24641result = pd.read_table('/home/users/clelland/era5/stations_pandas_files/24641/24641resulte5daily.csv', sep=\";\", index_col='time')\n",
    "df24641result['station'] = 24641\n",
    "df24726result = pd.read_table('/home/users/clelland/era5/stations_pandas_files/24726/24726resulte5daily.csv', sep=\";\", index_col='time')\n",
    "df24726result['station'] = 24726\n",
    "df24738result = pd.read_table('/home/users/clelland/era5/stations_pandas_files/24738/24738resulte5daily.csv', sep=\";\", index_col='time')\n",
    "df24738result['station'] = 24738\n",
    "area2d = pd.concat([df24329result, df24538result, df24639result, df24641result, df24726result, df24738result], axis=0)"
   ]
  },
  {
   "cell_type": "code",
   "execution_count": 4,
   "id": "f8d0b954-f734-4fe6-93bd-45db9cc89e1e",
   "metadata": {},
   "outputs": [],
   "source": [
    "df24763result = pd.read_table('/home/users/clelland/era5/stations_pandas_files/24763/24763resulte5daily.csv', sep=\";\", index_col='time')\n",
    "df24763result['station'] = 24763\n",
    "df24768result = pd.read_table('/home/users/clelland/era5/stations_pandas_files/24768/24768resulte5daily.csv', sep=\";\", index_col='time')\n",
    "df24768result['station'] = 24768\n",
    "df24966result = pd.read_table('/home/users/clelland/era5/stations_pandas_files/24966/24966resulte5daily.csv', sep=\";\", index_col='time')\n",
    "df24966result['station'] = 24966\n",
    "df24967result = pd.read_table('/home/users/clelland/era5/stations_pandas_files/24967/24967resulte5daily.csv', sep=\";\", index_col='time')\n",
    "df24967result['station'] = 24967\n",
    "df31062result = pd.read_table('/home/users/clelland/era5/stations_pandas_files/31062/31062resulte5daily.csv', sep=\";\", index_col='time')\n",
    "df31062result['station'] = 31062\n",
    "area3d = pd.concat([df24763result, df24768result, df24966result, df24967result, df31062result], axis=0)"
   ]
  },
  {
   "cell_type": "code",
   "execution_count": 5,
   "id": "924979d5-120f-497a-bf0b-2c7e5155b85e",
   "metadata": {},
   "outputs": [],
   "source": [
    "df30493result = pd.read_table('/home/users/clelland/era5/stations_pandas_files/30493/30493resulte5daily.csv', sep=\";\", index_col='time')\n",
    "df30493result['station'] = 30493\n",
    "df30692result = pd.read_table('/home/users/clelland/era5/stations_pandas_files/30692/30692resulte5daily.csv', sep=\";\", index_col='time')\n",
    "df30692result['station'] = 30692\n",
    "df31102result = pd.read_table('/home/users/clelland/era5/stations_pandas_files/31102/31102resulte5daily.csv', sep=\";\", index_col='time')\n",
    "df31102result['station'] = 31102\n",
    "df31137result = pd.read_table('/home/users/clelland/era5/stations_pandas_files/31137/31137resulte5daily.csv', sep=\";\", index_col='time')\n",
    "df31137result['station'] = 31137\n",
    "df31253result = pd.read_table('/home/users/clelland/era5/stations_pandas_files/31253/31253resulte5daily.csv', sep=\";\", index_col='time')\n",
    "df31253result['station'] = 31253\n",
    "area4d = pd.concat([df30493result, df30692result, df31102result, df31137result, df31253result], axis=0)"
   ]
  },
  {
   "cell_type": "code",
   "execution_count": 6,
   "id": "c07a9619-447c-4f4a-abf3-a4f70bdcce17",
   "metadata": {},
   "outputs": [],
   "source": [
    "df29698result = pd.read_table('/home/users/clelland/era5/stations_pandas_files/29698/29698resulte5daily.csv', sep=\";\", index_col='time')\n",
    "df29698result['station'] = 29698\n",
    "df29789result = pd.read_table('/home/users/clelland/era5/stations_pandas_files/29789/29789resulte5daily.csv', sep=\";\", index_col='time')\n",
    "df29789result['station'] = 29789\n",
    "df30504result = pd.read_table('/home/users/clelland/era5/stations_pandas_files/30504/30504resulte5daily.csv', sep=\";\", index_col='time')\n",
    "df30504result['station'] = 30504\n",
    "df36103result = pd.read_table('/home/users/clelland/era5/stations_pandas_files/36103/36103resulte5daily.csv', sep=\";\", index_col='time')\n",
    "df36103result['station'] = 36103\n",
    "area5d = pd.concat([df29698result, df29789result, df30504result, df36103result], axis=0)"
   ]
  },
  {
   "cell_type": "code",
   "execution_count": 7,
   "id": "278e6df7-b23e-43ec-837d-8024354f1b2d",
   "metadata": {},
   "outputs": [],
   "source": [
    "df24266result = pd.read_table('/home/users/clelland/era5/stations_pandas_files/24266/24266resulte5daily.csv', sep=\";\", index_col='time')\n",
    "df24266result['station'] = 24266\n",
    "df24371result = pd.read_table('/home/users/clelland/era5/stations_pandas_files/24371/24371resulte5daily.csv', sep=\";\", index_col='time')\n",
    "df24371result['station'] = 24371\n",
    "area6d = pd.concat([df24266result, df24371result], axis=0)"
   ]
  },
  {
   "cell_type": "code",
   "execution_count": 8,
   "id": "7733d715-977e-4e6a-8448-404b6e942aaa",
   "metadata": {},
   "outputs": [],
   "source": [
    "df25206result = pd.read_table('/home/users/clelland/era5/stations_pandas_files/25206/25206resulte5daily.csv', sep=\";\", index_col='time')\n",
    "df25206result['station'] = 25206\n",
    "df25325result = pd.read_table('/home/users/clelland/era5/stations_pandas_files/25325/25325resulte5daily.csv', sep=\";\", index_col='time')\n",
    "df25325result['station'] = 25325\n",
    "df25400result = pd.read_table('/home/users/clelland/era5/stations_pandas_files/25400/25400resulte5daily.csv', sep=\";\", index_col='time')\n",
    "df25400result['station'] = 25400\n",
    "df25503result = pd.read_table('/home/users/clelland/era5/stations_pandas_files/25503/25503resulte5daily.csv', sep=\";\", index_col='time')\n",
    "df25503result['station'] = 25503\n",
    "area7d = pd.concat([df25206result, df25325result, df25400result, df25503result], axis=0)"
   ]
  },
  {
   "cell_type": "markdown",
   "id": "44584d58-0e50-4166-96fc-8fb9f4ef9855",
   "metadata": {
    "jp-MarkdownHeadingCollapsed": true
   },
   "source": [
    "### Individual station"
   ]
  },
  {
   "cell_type": "code",
   "execution_count": null,
   "id": "dc2a5cb0-dcf6-4629-8df8-e0b79b252917",
   "metadata": {},
   "outputs": [],
   "source": [
    "resultdaily = df25503result\n",
    "resultdaily['tpbias'] = resultdaily['tp'] - resultdaily['tp1']\n",
    "resultdaily['t2mbias'] = resultdaily['t2m'] - resultdaily['t2m1']\n",
    "resultdaily['mn2tbias'] = resultdaily['mn2t'] - resultdaily['mn2t1']\n",
    "resultdaily['mx2tbias'] = resultdaily['mx2t'] - resultdaily['mx2t1']\n",
    "resultdaily['sdbias'] = resultdaily['sdadj'] - resultdaily['sd1']\n",
    "resultdaily['wspbias'] = resultdaily['wspeed'] - resultdaily['wspeed1']\n",
    "resultdaily['mslbias'] = resultdaily['msl'] - resultdaily['msl1']\n",
    "resultdaily = resultdaily['1959-01-01':'1978-12-31']\n",
    "#resultdaily = resultdaily['1992-01-01':]\n",
    "resultdaily"
   ]
  },
  {
   "cell_type": "code",
   "execution_count": null,
   "id": "90d0e228-261c-4070-b960-7782bfcd24dc",
   "metadata": {},
   "outputs": [],
   "source": [
    "tpbias = (resultdaily['tpbias'].sum())/(resultdaily['tpbias'].notnull().sum())\n",
    "t2mbias = (resultdaily['t2mbias'].sum())/(resultdaily['t2mbias'].notnull().sum())\n",
    "mn2tbias = (resultdaily['mn2tbias'].sum())/(resultdaily['mn2tbias'].notnull().sum())\n",
    "mx2tbias = (resultdaily['mx2tbias'].sum())/(resultdaily['mx2tbias'].notnull().sum())\n",
    "sdbias = (resultdaily['sdbias'].sum())/(resultdaily['sdbias'].notnull().sum())\n",
    "wspbias = (resultdaily['wspbias'].sum())/(resultdaily['wspbias'].notnull().sum())\n",
    "mslbias = (resultdaily['mslbias'].sum())/(resultdaily['mslbias'].notnull().sum())\n",
    "print(tpbias)\n",
    "print(t2mbias)\n",
    "print(mn2tbias)\n",
    "print(mx2tbias)\n",
    "print(sdbias)\n",
    "print(wspbias)\n",
    "print(mslbias)"
   ]
  },
  {
   "cell_type": "code",
   "execution_count": null,
   "id": "bc56dce9-9baf-429e-ba3b-0a3293ab9ebb",
   "metadata": {},
   "outputs": [],
   "source": [
    "# find correlations\n",
    "print(resultdaily['tp'].corr(resultdaily['tp1'], method='spearman'))\n",
    "print(resultdaily['t2m'].corr(resultdaily['t2m1']))\n",
    "print(resultdaily['mn2t'].corr(resultdaily['mn2t1']))\n",
    "print(resultdaily['mx2t'].corr(resultdaily['mx2t1']))\n",
    "print(resultdaily['sdadj'].corr(resultdaily['sd1'], method='spearman'))\n",
    "print(resultdaily['wspeed'].corr(resultdaily['wspeed1'], method='spearman'))\n",
    "print(resultdaily['msl'].corr(resultdaily['msl1'], method='spearman'))"
   ]
  },
  {
   "cell_type": "code",
   "execution_count": null,
   "id": "756713c6-5f5b-4b50-9abf-3f0a6fc21075",
   "metadata": {},
   "outputs": [],
   "source": [
    "# find variance ratio\n",
    "print((resultdaily['tp'].var())/(resultdaily['tp1'].var()))\n",
    "print((resultdaily['t2m'].var())/(resultdaily['t2m1'].var()))\n",
    "print((resultdaily['mn2t'].var())/(resultdaily['mn2t1'].var()))\n",
    "print((resultdaily['mx2t'].var())/(resultdaily['mx2t1'].var()))\n",
    "print((resultdaily['sdadj'].var())/(resultdaily['sd1'].var()))\n",
    "print((resultdaily['wspeed'].var())/(resultdaily['wspeed1'].var()))\n",
    "print((resultdaily['msl'].var())/(resultdaily['msl1'].var()))"
   ]
  },
  {
   "cell_type": "code",
   "execution_count": null,
   "id": "2c39e4a4-874d-4055-8469-2973704a18ce",
   "metadata": {},
   "outputs": [],
   "source": [
    "# find rmse - actual then predicted\n",
    "resultdailytp = resultdaily[resultdaily['tp1'].notna()]\n",
    "resultdailytp = resultdailytp[resultdailytp['tp'].notna()]\n",
    "resultdailyt2m = resultdaily[resultdaily['t2m1'].notna()]\n",
    "resultdailymn2t = resultdaily[resultdaily['mn2t1'].notna()]\n",
    "resultdailymn2t = resultdailymn2t[resultdailymn2t['mn2t'].notna()]\n",
    "resultdailymx2t = resultdaily[resultdaily['mx2t1'].notna()]\n",
    "resultdailymx2t = resultdailymx2t[resultdailymx2t['mx2t'].notna()]\n",
    "resultdailysd = resultdaily[resultdaily['sd1'].notna()]\n",
    "resultdailywsp = resultdaily[resultdaily['wspeed1'].notna()]\n",
    "resultdailymsl = resultdaily[resultdaily['msl1'].notna()]\n",
    "\n",
    "print(np.sqrt(mean_squared_error(resultdailytp['tp1'], resultdailytp['tp'])))\n",
    "print(np.sqrt(mean_squared_error(resultdailyt2m['t2m1'], resultdailyt2m['t2m'])))\n",
    "print(np.sqrt(mean_squared_error(resultdailymn2t['mn2t1'], resultdailymn2t['mn2t'])))\n",
    "print(np.sqrt(mean_squared_error(resultdailymx2t['mx2t1'], resultdailymx2t['mx2t'])))\n",
    "print(np.sqrt(mean_squared_error(resultdailysd['sd1'], resultdailysd['sdadj'])))\n",
    "print(np.sqrt(mean_squared_error(resultdailywsp['wspeed1'], resultdailywsp['wspeed'])))\n",
    "print(np.sqrt(mean_squared_error(resultdailymsl['msl1'], resultdailymsl['msl'])))"
   ]
  },
  {
   "cell_type": "markdown",
   "id": "ceacfc32-9ef2-410c-8c39-1ba0ba128970",
   "metadata": {
    "jp-MarkdownHeadingCollapsed": true
   },
   "source": [
    "### All"
   ]
  },
  {
   "cell_type": "code",
   "execution_count": 9,
   "id": "16d9a177-dab5-4ff6-bb61-e170cda7fd90",
   "metadata": {},
   "outputs": [
    {
     "data": {
      "text/html": [
       "<div>\n",
       "<style scoped>\n",
       "    .dataframe tbody tr th:only-of-type {\n",
       "        vertical-align: middle;\n",
       "    }\n",
       "\n",
       "    .dataframe tbody tr th {\n",
       "        vertical-align: top;\n",
       "    }\n",
       "\n",
       "    .dataframe thead th {\n",
       "        text-align: right;\n",
       "    }\n",
       "</style>\n",
       "<table border=\"1\" class=\"dataframe\">\n",
       "  <thead>\n",
       "    <tr style=\"text-align: right;\">\n",
       "      <th></th>\n",
       "      <th></th>\n",
       "      <th>sdadj</th>\n",
       "      <th>sd1</th>\n",
       "      <th>t2m</th>\n",
       "      <th>t2m1</th>\n",
       "      <th>mx2t</th>\n",
       "      <th>mx2t1</th>\n",
       "      <th>mn2t</th>\n",
       "      <th>mn2t1</th>\n",
       "      <th>tp</th>\n",
       "      <th>tp1</th>\n",
       "      <th>wspeed</th>\n",
       "      <th>wspeed1</th>\n",
       "      <th>msl</th>\n",
       "      <th>msl1</th>\n",
       "    </tr>\n",
       "    <tr>\n",
       "      <th>time</th>\n",
       "      <th>station</th>\n",
       "      <th></th>\n",
       "      <th></th>\n",
       "      <th></th>\n",
       "      <th></th>\n",
       "      <th></th>\n",
       "      <th></th>\n",
       "      <th></th>\n",
       "      <th></th>\n",
       "      <th></th>\n",
       "      <th></th>\n",
       "      <th></th>\n",
       "      <th></th>\n",
       "      <th></th>\n",
       "      <th></th>\n",
       "    </tr>\n",
       "  </thead>\n",
       "  <tbody>\n",
       "    <tr>\n",
       "      <th rowspan=\"5\" valign=\"top\">1979-01-01</th>\n",
       "      <th>23678</th>\n",
       "      <td>82.927932</td>\n",
       "      <td>49.0</td>\n",
       "      <td>-44.04209</td>\n",
       "      <td>-41.7</td>\n",
       "      <td>NaN</td>\n",
       "      <td>-34.0</td>\n",
       "      <td>NaN</td>\n",
       "      <td>-45.3</td>\n",
       "      <td>NaN</td>\n",
       "      <td>0.2</td>\n",
       "      <td>2.895163</td>\n",
       "      <td>2.625</td>\n",
       "      <td>1017.20390</td>\n",
       "      <td>1016.3750</td>\n",
       "    </tr>\n",
       "    <tr>\n",
       "      <th>23884</th>\n",
       "      <td>96.562358</td>\n",
       "      <td>61.0</td>\n",
       "      <td>-42.42519</td>\n",
       "      <td>-38.2</td>\n",
       "      <td>NaN</td>\n",
       "      <td>-26.3</td>\n",
       "      <td>NaN</td>\n",
       "      <td>-44.5</td>\n",
       "      <td>NaN</td>\n",
       "      <td>0.0</td>\n",
       "      <td>1.175339</td>\n",
       "      <td>0.000</td>\n",
       "      <td>1019.40110</td>\n",
       "      <td>1019.5250</td>\n",
       "    </tr>\n",
       "    <tr>\n",
       "      <th>23986</th>\n",
       "      <td>62.188598</td>\n",
       "      <td>49.0</td>\n",
       "      <td>-37.16718</td>\n",
       "      <td>-28.8</td>\n",
       "      <td>NaN</td>\n",
       "      <td>-5.7</td>\n",
       "      <td>NaN</td>\n",
       "      <td>-38.3</td>\n",
       "      <td>NaN</td>\n",
       "      <td>0.7</td>\n",
       "      <td>1.681431</td>\n",
       "      <td>1.875</td>\n",
       "      <td>1016.74450</td>\n",
       "      <td>NaN</td>\n",
       "    </tr>\n",
       "    <tr>\n",
       "      <th>24266</th>\n",
       "      <td>18.933496</td>\n",
       "      <td>19.0</td>\n",
       "      <td>-28.17190</td>\n",
       "      <td>-42.9</td>\n",
       "      <td>NaN</td>\n",
       "      <td>-37.9</td>\n",
       "      <td>NaN</td>\n",
       "      <td>-46.1</td>\n",
       "      <td>NaN</td>\n",
       "      <td>0.4</td>\n",
       "      <td>2.842742</td>\n",
       "      <td>0.500</td>\n",
       "      <td>988.43420</td>\n",
       "      <td>990.9750</td>\n",
       "    </tr>\n",
       "    <tr>\n",
       "      <th>24329</th>\n",
       "      <td>44.333177</td>\n",
       "      <td>19.0</td>\n",
       "      <td>-27.24483</td>\n",
       "      <td>-21.5</td>\n",
       "      <td>NaN</td>\n",
       "      <td>-12.1</td>\n",
       "      <td>NaN</td>\n",
       "      <td>-31.3</td>\n",
       "      <td>NaN</td>\n",
       "      <td>1.2</td>\n",
       "      <td>4.904190</td>\n",
       "      <td>9.375</td>\n",
       "      <td>986.63720</td>\n",
       "      <td>984.4875</td>\n",
       "    </tr>\n",
       "    <tr>\n",
       "      <th>...</th>\n",
       "      <th>...</th>\n",
       "      <td>...</td>\n",
       "      <td>...</td>\n",
       "      <td>...</td>\n",
       "      <td>...</td>\n",
       "      <td>...</td>\n",
       "      <td>...</td>\n",
       "      <td>...</td>\n",
       "      <td>...</td>\n",
       "      <td>...</td>\n",
       "      <td>...</td>\n",
       "      <td>...</td>\n",
       "      <td>...</td>\n",
       "      <td>...</td>\n",
       "      <td>...</td>\n",
       "    </tr>\n",
       "    <tr>\n",
       "      <th rowspan=\"5\" valign=\"top\">2020-12-31</th>\n",
       "      <th>23884</th>\n",
       "      <td>46.150869</td>\n",
       "      <td>45.0</td>\n",
       "      <td>-26.64033</td>\n",
       "      <td>-24.2</td>\n",
       "      <td>-24.22057</td>\n",
       "      <td>-23.0</td>\n",
       "      <td>-28.30308</td>\n",
       "      <td>-26.2</td>\n",
       "      <td>0.247234</td>\n",
       "      <td>0.4</td>\n",
       "      <td>3.544625</td>\n",
       "      <td>1.125</td>\n",
       "      <td>1040.96030</td>\n",
       "      <td>1040.8250</td>\n",
       "    </tr>\n",
       "    <tr>\n",
       "      <th>23986</th>\n",
       "      <td>57.466752</td>\n",
       "      <td>58.0</td>\n",
       "      <td>-28.06927</td>\n",
       "      <td>-24.8</td>\n",
       "      <td>-25.88035</td>\n",
       "      <td>-21.6</td>\n",
       "      <td>-31.71963</td>\n",
       "      <td>-27.1</td>\n",
       "      <td>0.587901</td>\n",
       "      <td>0.2</td>\n",
       "      <td>2.496837</td>\n",
       "      <td>1.750</td>\n",
       "      <td>1042.21336</td>\n",
       "      <td>1041.7500</td>\n",
       "    </tr>\n",
       "    <tr>\n",
       "      <th>30692</th>\n",
       "      <td>18.137232</td>\n",
       "      <td>16.0</td>\n",
       "      <td>-25.59731</td>\n",
       "      <td>-24.3</td>\n",
       "      <td>-24.08231</td>\n",
       "      <td>-21.3</td>\n",
       "      <td>-28.57595</td>\n",
       "      <td>-27.1</td>\n",
       "      <td>0.020962</td>\n",
       "      <td>0.0</td>\n",
       "      <td>3.776255</td>\n",
       "      <td>2.000</td>\n",
       "      <td>1022.80620</td>\n",
       "      <td>1022.9375</td>\n",
       "    </tr>\n",
       "    <tr>\n",
       "      <th>31253</th>\n",
       "      <td>15.119443</td>\n",
       "      <td>16.0</td>\n",
       "      <td>-31.67844</td>\n",
       "      <td>-28.1</td>\n",
       "      <td>-27.15366</td>\n",
       "      <td>-24.3</td>\n",
       "      <td>-34.50953</td>\n",
       "      <td>-33.0</td>\n",
       "      <td>0.000000</td>\n",
       "      <td>0.0</td>\n",
       "      <td>1.743962</td>\n",
       "      <td>0.750</td>\n",
       "      <td>1017.93190</td>\n",
       "      <td>1018.1750</td>\n",
       "    </tr>\n",
       "    <tr>\n",
       "      <th>36103</th>\n",
       "      <td>16.453997</td>\n",
       "      <td>16.0</td>\n",
       "      <td>-26.08819</td>\n",
       "      <td>-29.7</td>\n",
       "      <td>-21.13239</td>\n",
       "      <td>-23.3</td>\n",
       "      <td>-29.64544</td>\n",
       "      <td>-35.7</td>\n",
       "      <td>1.284638</td>\n",
       "      <td>0.3</td>\n",
       "      <td>0.654956</td>\n",
       "      <td>0.125</td>\n",
       "      <td>1039.93290</td>\n",
       "      <td>1045.6250</td>\n",
       "    </tr>\n",
       "  </tbody>\n",
       "</table>\n",
       "<p>439747 rows × 14 columns</p>\n",
       "</div>"
      ],
      "text/plain": [
       "                        sdadj   sd1       t2m  t2m1      mx2t  mx2t1  \\\n",
       "time       station                                                     \n",
       "1979-01-01 23678    82.927932  49.0 -44.04209 -41.7       NaN  -34.0   \n",
       "           23884    96.562358  61.0 -42.42519 -38.2       NaN  -26.3   \n",
       "           23986    62.188598  49.0 -37.16718 -28.8       NaN   -5.7   \n",
       "           24266    18.933496  19.0 -28.17190 -42.9       NaN  -37.9   \n",
       "           24329    44.333177  19.0 -27.24483 -21.5       NaN  -12.1   \n",
       "...                       ...   ...       ...   ...       ...    ...   \n",
       "2020-12-31 23884    46.150869  45.0 -26.64033 -24.2 -24.22057  -23.0   \n",
       "           23986    57.466752  58.0 -28.06927 -24.8 -25.88035  -21.6   \n",
       "           30692    18.137232  16.0 -25.59731 -24.3 -24.08231  -21.3   \n",
       "           31253    15.119443  16.0 -31.67844 -28.1 -27.15366  -24.3   \n",
       "           36103    16.453997  16.0 -26.08819 -29.7 -21.13239  -23.3   \n",
       "\n",
       "                        mn2t  mn2t1        tp  tp1    wspeed  wspeed1  \\\n",
       "time       station                                                      \n",
       "1979-01-01 23678         NaN  -45.3       NaN  0.2  2.895163    2.625   \n",
       "           23884         NaN  -44.5       NaN  0.0  1.175339    0.000   \n",
       "           23986         NaN  -38.3       NaN  0.7  1.681431    1.875   \n",
       "           24266         NaN  -46.1       NaN  0.4  2.842742    0.500   \n",
       "           24329         NaN  -31.3       NaN  1.2  4.904190    9.375   \n",
       "...                      ...    ...       ...  ...       ...      ...   \n",
       "2020-12-31 23884   -28.30308  -26.2  0.247234  0.4  3.544625    1.125   \n",
       "           23986   -31.71963  -27.1  0.587901  0.2  2.496837    1.750   \n",
       "           30692   -28.57595  -27.1  0.020962  0.0  3.776255    2.000   \n",
       "           31253   -34.50953  -33.0  0.000000  0.0  1.743962    0.750   \n",
       "           36103   -29.64544  -35.7  1.284638  0.3  0.654956    0.125   \n",
       "\n",
       "                           msl       msl1  \n",
       "time       station                         \n",
       "1979-01-01 23678    1017.20390  1016.3750  \n",
       "           23884    1019.40110  1019.5250  \n",
       "           23986    1016.74450        NaN  \n",
       "           24266     988.43420   990.9750  \n",
       "           24329     986.63720   984.4875  \n",
       "...                        ...        ...  \n",
       "2020-12-31 23884    1040.96030  1040.8250  \n",
       "           23986    1042.21336  1041.7500  \n",
       "           30692    1022.80620  1022.9375  \n",
       "           31253    1017.93190  1018.1750  \n",
       "           36103    1039.93290  1045.6250  \n",
       "\n",
       "[439747 rows x 14 columns]"
      ]
     },
     "execution_count": 9,
     "metadata": {},
     "output_type": "execute_result"
    }
   ],
   "source": [
    "# original\n",
    "resultdaily = pd.concat([area1d, area2d, area3d, area4d, area5d, area6d, area7d], axis=0)\n",
    "resultdaily.index = pd.to_datetime(resultdaily.index)\n",
    "resultdaily = resultdaily.set_index('station', append=True).sort_index(ascending=True)\n",
    "resultdaily = resultdaily['1979-01-01':]\n",
    "resultdaily"
   ]
  },
  {
   "cell_type": "code",
   "execution_count": null,
   "id": "b17d098d-ed3f-43d7-8243-cb0e9cd99e7e",
   "metadata": {},
   "outputs": [],
   "source": [
    "resultdaily['tpbias'] = resultdaily['tp'] - resultdaily['tp1']\n",
    "tpbias = (resultdaily['tpbias'].sum())/(resultdaily['tpbias'].notnull().sum())\n",
    "resultdaily['t2mbias'] = resultdaily['t2m'] - resultdaily['t2m1']\n",
    "t2mbias = (resultdaily['t2mbias'].sum())/(resultdaily['t2mbias'].notnull().sum())\n",
    "resultdaily['mn2tbias'] = resultdaily['mn2t'] - resultdaily['mn2t1']\n",
    "mn2tbias = (resultdaily['mn2tbias'].sum())/(resultdaily['mn2tbias'].notnull().sum())\n",
    "resultdaily['mx2tbias'] = resultdaily['mx2t'] - resultdaily['mx2t1']\n",
    "mx2tbias = (resultdaily['mx2tbias'].sum())/(resultdaily['mx2tbias'].notnull().sum())\n",
    "resultdaily['sdbias'] = resultdaily['sdadj'] - resultdaily['sd1']\n",
    "sdbias = (resultdaily['sdbias'].sum())/(resultdaily['sdbias'].notnull().sum())\n",
    "resultdaily['wspbias'] = resultdaily['wspeed'] - resultdaily['wspeed1']\n",
    "wspbias = (resultdaily['wspbias'].sum())/(resultdaily['wspbias'].notnull().sum())\n",
    "resultdaily['mslbias'] = resultdaily['msl'] - resultdaily['msl1']\n",
    "mslbias = (resultdaily['mslbias'].sum())/(resultdaily['mslbias'].notnull().sum())\n",
    "print(tpbias)\n",
    "print(t2mbias)\n",
    "print(mn2tbias)\n",
    "print(mx2tbias)\n",
    "print(sdbias)\n",
    "print(wspbias)\n",
    "print(mslbias)"
   ]
  },
  {
   "cell_type": "code",
   "execution_count": null,
   "id": "45e5e129-8982-4059-966f-0b0dc0614c79",
   "metadata": {},
   "outputs": [],
   "source": [
    "# find correlations\n",
    "print(resultdaily['tp'].corr(resultdaily['tp1'], method='spearman'))\n",
    "print(resultdaily['t2m'].corr(resultdaily['t2m1']))\n",
    "print(resultdaily['mn2t'].corr(resultdaily['mn2t1']))\n",
    "print(resultdaily['mx2t'].corr(resultdaily['mx2t1']))\n",
    "print(resultdaily['sdadj'].corr(resultdaily['sd1', method='spearman']))\n",
    "print(resultdaily['wspeed'].corr(resultdaily['wspeed1', method='spearman']))\n",
    "print(resultdaily['msl'].corr(resultdaily['msl1', method='spearman']))"
   ]
  },
  {
   "cell_type": "code",
   "execution_count": null,
   "id": "1f5118fd-3d3f-4f33-bdf1-359da874d564",
   "metadata": {},
   "outputs": [],
   "source": [
    "# find variance ratio\n",
    "print((resultdaily['tp'].var())/(resultdaily['tp1'].var()))\n",
    "print((resultdaily['t2m'].var())/(resultdaily['t2m1'].var()))\n",
    "print((resultdaily['mn2t'].var())/(resultdaily['mn2t1'].var()))\n",
    "print((resultdaily['mx2t'].var())/(resultdaily['mx2t1'].var()))\n",
    "print((resultdaily['sdadj'].var())/(resultdaily['sd1'].var()))\n",
    "print((resultdaily['wspeed'].var())/(resultdaily['wspeed1'].var()))\n",
    "print((resultdaily['msl'].var())/(resultdaily['msl1'].var()))"
   ]
  },
  {
   "cell_type": "code",
   "execution_count": null,
   "id": "7f3db2e7-c61f-4d1c-b2ae-f2ddb7600744",
   "metadata": {},
   "outputs": [],
   "source": [
    "# find rmse - actual then predicted\n",
    "resultdailytp = resultdaily[resultdaily['tp1'].notna()]\n",
    "resultdailytp = resultdailytp[resultdailytp['tp'].notna()]\n",
    "resultdailyt2m = resultdaily[resultdaily['t2m1'].notna()]\n",
    "resultdailymn2t = resultdailytp[resultdailytp['mn2t1'].notna()]\n",
    "resultdailymx2t = resultdailytp[resultdailytp['mx2t1'].notna()]\n",
    "resultdailysd = resultdaily[resultdaily['sd1'].notna()]\n",
    "resultdailywsp = resultdaily[resultdaily['wspeed1'].notna()]\n",
    "resultdailymsl = resultdaily[resultdaily['msl1'].notna()]\n",
    "\n",
    "print(np.sqrt(mean_squared_error(resultdailytp['tp1'], resultdailytp['tp'])))\n",
    "print(np.sqrt(mean_squared_error(resultdailyt2m['t2m1'], resultdailyt2m['t2m'])))\n",
    "print(np.sqrt(mean_squared_error(resultdailymn2t['mn2t1'], resultdailymn2t['mn2t'])))\n",
    "print(np.sqrt(mean_squared_error(resultdailymx2t['mx2t1'], resultdailymx2t['mx2t'])))\n",
    "print(np.sqrt(mean_squared_error(resultdailysd['sd1'], resultdailysd['sdadj'])))\n",
    "print(np.sqrt(mean_squared_error(resultdailywsp['wspeed1'], resultdailywsp['wspeed'])))\n",
    "print(np.sqrt(mean_squared_error(resultdailymsl['msl1'], resultdailymsl['msl'])))"
   ]
  },
  {
   "cell_type": "markdown",
   "id": "adb8c327-682f-4fac-ba0e-56600f5e5246",
   "metadata": {
    "jp-MarkdownHeadingCollapsed": true,
    "tags": []
   },
   "source": [
    "## Monthly data"
   ]
  },
  {
   "cell_type": "code",
   "execution_count": null,
   "id": "d90d76a6-8efc-42eb-aac6-dfe46b28f489",
   "metadata": {},
   "outputs": [],
   "source": [
    "df23678monthly = pd.read_table('/home/users/clelland/era5/stations_pandas_files/23678/23678resulte5monthly.csv', sep=\";\", index_col='time')\n",
    "df23678monthly['station'] = 23678\n",
    "df23884monthly = pd.read_table('/home/users/clelland/era5/stations_pandas_files/23884/23884resulte5monthly.csv', sep=\";\", index_col='time')\n",
    "df23884monthly['station'] = 23884\n",
    "df23986monthly = pd.read_table('/home/users/clelland/era5/stations_pandas_files/23986/23986resulte5monthly.csv', sep=\";\", index_col='time')\n",
    "df23986monthly['station'] = 23986\n",
    "area1m = pd.concat([df23678monthly, df23884monthly, df23986monthly], axis=0)"
   ]
  },
  {
   "cell_type": "code",
   "execution_count": null,
   "id": "6712faad-fc40-4fac-ba55-3e9ff0893a54",
   "metadata": {},
   "outputs": [],
   "source": [
    "df24329monthly = pd.read_table('/home/users/clelland/era5/stations_pandas_files/24329/24329resulte5monthly.csv', sep=\";\", index_col='time')\n",
    "df24329monthly['station'] = 24329\n",
    "df24538monthly = pd.read_table('/home/users/clelland/era5/stations_pandas_files/24538/24538resulte5monthly.csv', sep=\";\", index_col='time')\n",
    "df24538monthly['station'] = 24538\n",
    "df24639monthly = pd.read_table('/home/users/clelland/era5/stations_pandas_files/24639/24639resulte5monthly.csv', sep=\";\", index_col='time')\n",
    "df24639monthly['station'] = 24639\n",
    "df24641monthly = pd.read_table('/home/users/clelland/era5/stations_pandas_files/24641/24641resulte5monthly.csv', sep=\";\", index_col='time')\n",
    "df24641monthly['station'] = 24641\n",
    "df24726monthly = pd.read_table('/home/users/clelland/era5/stations_pandas_files/24726/24726resulte5monthly.csv', sep=\";\", index_col='time')\n",
    "df24726monthly['station'] = 24726\n",
    "df24738monthly = pd.read_table('/home/users/clelland/era5/stations_pandas_files/24738/24738resulte5monthly.csv', sep=\";\", index_col='time')\n",
    "df24738monthly['station'] = 24738\n",
    "area2m = pd.concat([df24329monthly, df24538monthly, df24639monthly, df24641monthly, df24726monthly, df24738monthly], axis=0)"
   ]
  },
  {
   "cell_type": "code",
   "execution_count": null,
   "id": "ad59009f-6a45-4c77-bd35-1097bb84e702",
   "metadata": {},
   "outputs": [],
   "source": [
    "df24763monthly = pd.read_table('/home/users/clelland/era5/stations_pandas_files/24763/24763resulte5monthly.csv', sep=\";\", index_col='time')\n",
    "df24763monthly['station'] = 24763\n",
    "df24768monthly = pd.read_table('/home/users/clelland/era5/stations_pandas_files/24768/24768resulte5monthly.csv', sep=\";\", index_col='time')\n",
    "df24768monthly['station'] = 24768\n",
    "df24966monthly = pd.read_table('/home/users/clelland/era5/stations_pandas_files/24966/24966resulte5monthly.csv', sep=\";\", index_col='time')\n",
    "df24966monthly['station'] = 24966\n",
    "df24967monthly = pd.read_table('/home/users/clelland/era5/stations_pandas_files/24967/24967resulte5monthly.csv', sep=\";\", index_col='time')\n",
    "df24967monthly['station'] = 24967\n",
    "df31062monthly = pd.read_table('/home/users/clelland/era5/stations_pandas_files/31062/31062resulte5monthly.csv', sep=\";\", index_col='time')\n",
    "df31062monthly['station'] = 31062\n",
    "area3m = pd.concat([df24763monthly, df24768monthly, df24966monthly, df24967monthly, df31062monthly], axis=0)"
   ]
  },
  {
   "cell_type": "code",
   "execution_count": null,
   "id": "8145a4a1-06e2-40f6-81dc-21c40ef79870",
   "metadata": {},
   "outputs": [],
   "source": [
    "df30493monthly = pd.read_table('/home/users/clelland/era5/stations_pandas_files/30493/30493resulte5monthly.csv', sep=\";\", index_col='time')\n",
    "df30493monthly['station'] = 30493\n",
    "df30692monthly = pd.read_table('/home/users/clelland/era5/stations_pandas_files/30692/30692resulte5monthly.csv', sep=\";\", index_col='time')\n",
    "df30692monthly['station'] = 30692\n",
    "df31102monthly = pd.read_table('/home/users/clelland/era5/stations_pandas_files/31102/31102resulte5monthly.csv', sep=\";\", index_col='time')\n",
    "df31102monthly['station'] = 31102\n",
    "df31137monthly = pd.read_table('/home/users/clelland/era5/stations_pandas_files/31137/31137resulte5monthly.csv', sep=\";\", index_col='time')\n",
    "df31137monthly['station'] = 31137\n",
    "df31253monthly = pd.read_table('/home/users/clelland/era5/stations_pandas_files/31253/31253resulte5monthly.csv', sep=\";\", index_col='time')\n",
    "df31253monthly['station'] = 31253\n",
    "area4m = pd.concat([df30493monthly, df30692monthly, df31102monthly, df31137monthly, df31253monthly], axis=0)"
   ]
  },
  {
   "cell_type": "code",
   "execution_count": null,
   "id": "1a02920b-af04-418d-836c-8e7098c6ffd0",
   "metadata": {},
   "outputs": [],
   "source": [
    "df29698monthly = pd.read_table('/home/users/clelland/era5/stations_pandas_files/29698/29698resulte5monthly.csv', sep=\";\", index_col='time')\n",
    "df29698monthly['station'] = 29698\n",
    "df29789monthly = pd.read_table('/home/users/clelland/era5/stations_pandas_files/29789/29789resulte5monthly.csv', sep=\";\", index_col='time')\n",
    "df29789monthly['station'] = 29789\n",
    "df30504monthly = pd.read_table('/home/users/clelland/era5/stations_pandas_files/30504/30504resulte5monthly.csv', sep=\";\", index_col='time')\n",
    "df30504monthly['station'] = 30504\n",
    "df36103monthly = pd.read_table('/home/users/clelland/era5/stations_pandas_files/36103/36103resulte5monthly.csv', sep=\";\", index_col='time')\n",
    "df36103monthly['station'] = 36103\n",
    "area5m = pd.concat([df29698monthly, df29789monthly, df30504monthly, df36103monthly], axis=0)"
   ]
  },
  {
   "cell_type": "code",
   "execution_count": null,
   "id": "b54365a3-cc63-4e67-a04f-27f93da3b164",
   "metadata": {},
   "outputs": [],
   "source": [
    "df24266monthly = pd.read_table('/home/users/clelland/era5/stations_pandas_files/24266/24266resulte5monthly.csv', sep=\";\", index_col='time')\n",
    "df24266monthly['station'] = 24266\n",
    "df24371monthly = pd.read_table('/home/users/clelland/era5/stations_pandas_files/24371/24371resulte5monthly.csv', sep=\";\", index_col='time')\n",
    "df24371monthly['station'] = 24371\n",
    "area6m = pd.concat([df24266monthly, df24371monthly], axis=0)"
   ]
  },
  {
   "cell_type": "code",
   "execution_count": null,
   "id": "c04aa4a6-da60-4088-8762-687628e9737c",
   "metadata": {},
   "outputs": [],
   "source": [
    "df25206monthly = pd.read_table('/home/users/clelland/era5/stations_pandas_files/25206/25206resulte5monthly.csv', sep=\";\", index_col='time')\n",
    "df25206monthly['station'] = 25206\n",
    "df25325monthly = pd.read_table('/home/users/clelland/era5/stations_pandas_files/25325/25325resulte5monthly.csv', sep=\";\", index_col='time')\n",
    "df25325monthly['station'] = 25325\n",
    "df25400monthly = pd.read_table('/home/users/clelland/era5/stations_pandas_files/25400/25400resulte5monthly.csv', sep=\";\", index_col='time')\n",
    "df25400monthly['station'] = 25400\n",
    "df25503monthly = pd.read_table('/home/users/clelland/era5/stations_pandas_files/25503/25503resulte5monthly.csv', sep=\";\", index_col='time')\n",
    "df25503monthly['station'] = 25503\n",
    "area7m = pd.concat([df25206monthly, df25325monthly, df25400monthly, df25503monthly], axis=0)"
   ]
  },
  {
   "cell_type": "code",
   "execution_count": null,
   "id": "243304f6-46e2-4912-8ce0-0d4cace70c2d",
   "metadata": {},
   "outputs": [],
   "source": [
    "resultmonthly = pd.concat([area1m, area2m, area3m, area4m, area5m, area6m, area7m], axis=0)\n",
    "resultmonthly = resultmonthly.set_index('station', append=True).sort_index(ascending=True)\n",
    "resultmonthly = resultmonthly['1979-01':]\n",
    "resultmonthly"
   ]
  },
  {
   "cell_type": "code",
   "execution_count": null,
   "id": "bc517450-a36a-4259-b89a-f188d2edc3f1",
   "metadata": {},
   "outputs": [],
   "source": [
    "resultmonthly['tpbias'] = resultmonthly['tp'] - resultmonthly['tp1']\n",
    "tpbias = (resultmonthly['tpbias'].sum())/(resultmonthly['tpbias'].notnull().sum())\n",
    "resultmonthly['mslbias'] = resultmonthly['msl'] - resultmonthly['msl1']\n",
    "mslbias = (resultmonthly['mslbias'].sum())/(resultmonthly['mslbias'].notnull().sum())\n",
    "resultmonthly['t2mbias'] = resultmonthly['t2m'] - resultmonthly['t2m1']\n",
    "t2mbias = (resultmonthly['t2mbias'].sum())/(resultmonthly['t2mbias'].notnull().sum())\n",
    "resultmonthly['sdmeanbias'] = resultmonthly['sdadjmean'] - resultmonthly['sd1mean']\n",
    "sdmeanbias = (resultmonthly['sdmeanbias'].sum())/(resultmonthly['sdmeanbias'].notnull().sum())\n",
    "resultmonthly['sdsumbias'] = resultmonthly['sdadjsum'] - resultmonthly['sd1sum']\n",
    "sdsumbias = (resultmonthly['sdsumbias'].sum())/(resultmonthly['sdsumbias'].notnull().sum())\n",
    "print(tpbias)\n",
    "print(mslbias)\n",
    "print(t2mbias)\n",
    "print(sdmeanbias)\n",
    "print(sdsumbias)"
   ]
  },
  {
   "cell_type": "code",
   "execution_count": null,
   "id": "d13f95e0-7f62-4e8a-9460-e7d6fc65d0eb",
   "metadata": {},
   "outputs": [],
   "source": [
    "# find correlations\n",
    "print(resultmonthly['tp'].corr(resultmonthly['tp1'], method='spearman'))\n",
    "print(resultmonthly['msl'].corr(resultmonthly['msl1'], method='spearman'))\n",
    "print(resultmonthly['t2m'].corr(resultmonthly['t2m1']))\n",
    "print(resultmonthly['sdadjmean'].corr(resultmonthly['sd1mean'], method='spearman'))\n",
    "print(resultmonthly['sdadjsum'].corr(resultmonthly['sd1sum'], method='spearman'))"
   ]
  },
  {
   "cell_type": "code",
   "execution_count": null,
   "id": "639ff9c9-244d-4577-aacb-79305834e847",
   "metadata": {},
   "outputs": [],
   "source": [
    "# find variance ratio\n",
    "print((resultmonthly['tp'].var())/(resultmonthly['tp1'].var()))\n",
    "print((resultmonthly['msl'].var())/(resultmonthly['msl1'].var()))\n",
    "print((resultmonthly['t2m'].var())/(resultmonthly['t2m1'].var()))\n",
    "print((resultmonthly['sdadjmean'].var())/(resultmonthly['sd1mean'].var()))\n",
    "print((resultmonthly['sdadjsum'].var())/(resultmonthly['sd1sum'].var()))"
   ]
  },
  {
   "cell_type": "code",
   "execution_count": null,
   "id": "45f456ae-44bf-4631-bf85-b80e478e9f49",
   "metadata": {},
   "outputs": [],
   "source": [
    "# find rmse - actual then predicted\n",
    "resultmonthlytp = resultmonthly[resultmonthly['tp1'].notna()]\n",
    "resultmonthlymsl = resultmonthly[resultmonthly['msl1'].notna()]\n",
    "resultmonthlyt2m = resultmonthly[resultmonthly['t2m1'].notna()]\n",
    "resultmonthlysdmean = resultmonthly[resultmonthly['sd1mean'].notna()]\n",
    "resultmonthlysdsum = resultmonthly[resultmonthly['sd1sum'].notna()]\n",
    "print(np.sqrt(mean_squared_error(resultmonthlytp['tp1'], resultmonthlytp['tp'])))\n",
    "print(np.sqrt(mean_squared_error(resultmonthlymsl['msl1'], resultmonthlymsl['msl'])))\n",
    "print(np.sqrt(mean_squared_error(resultmonthlyt2m['t2m1'], resultmonthlyt2m['t2m'])))\n",
    "print(np.sqrt(mean_squared_error(resultmonthlysdmean['sd1mean'], resultmonthlysdmean['sdadjmean'])))\n",
    "print(np.sqrt(mean_squared_error(resultmonthlysdsum['sd1sum'], resultmonthlysdsum['sdadjsum'])))"
   ]
  },
  {
   "cell_type": "markdown",
   "id": "c9390c5b-db43-4ab9-ad6a-1dac85784c17",
   "metadata": {
    "jp-MarkdownHeadingCollapsed": true,
    "tags": []
   },
   "source": [
    "## Seasonal data"
   ]
  },
  {
   "cell_type": "code",
   "execution_count": null,
   "id": "15d7f282-be67-4d0f-9834-ddc4fbfbfdab",
   "metadata": {},
   "outputs": [],
   "source": [
    "resultseasonal = resultdaily.copy()\n",
    "resultseasonal = resultseasonal.reset_index('station')\n",
    "resultseasonal.index = pd.to_datetime(resultseasonal.index)\n",
    "\n",
    "# apply function to database\n",
    "resultseasonal['season'] = resultseasonal.index.to_series()\n",
    "resultseasonal['season'] = resultseasonal['season'].dt.month\n",
    "resultseasonal['season'] = resultseasonal['season'].apply(month_to_season)\n",
    "\n",
    "resultseasonalmean = resultseasonal[['season', 'station', 't2m', 't2m1', 'msl', 'msl1', 'sdadj', 'sd1']]\n",
    "resultseasonalmean = resultseasonalmean.groupby([resultseasonal.index.year, 'season', 'station'], sort=False).resample('Y').mean()\n",
    "resultseasonalmean = resultseasonalmean.reset_index(level=3)\n",
    "resultseasonalmean = resultseasonalmean.drop(['time', 'station'], axis=1)\n",
    "\n",
    "resultseasonalsum = resultseasonal[['season', 'station', 'tp', 'tp1']]\n",
    "resultseasonalsum = resultseasonalsum.groupby([resultseasonal.index.year, 'season', 'station'], sort=False).resample('Y')['tp', 'tp1'].sum()\n",
    "resultseasonalsum = resultseasonalsum.reset_index(level=3)\n",
    "resultseasonalsum = resultseasonalsum.drop(['time'], axis=1)\n",
    "\n",
    "resultseasonal = pd.concat([resultseasonalmean, resultseasonalsum], axis=1)\n",
    "resultseasonal"
   ]
  },
  {
   "cell_type": "code",
   "execution_count": null,
   "id": "a6c67606-fbf7-48eb-8d05-bdbafa8210af",
   "metadata": {},
   "outputs": [],
   "source": [
    "# find correlations\n",
    "print(resultseasonal['tp'].corr(resultseasonal['tp1'], method='spearman'))\n",
    "print(resultseasonal['msl'].corr(resultseasonal['msl1'], method='spearman'))\n",
    "print(resultseasonal['t2m'].corr(resultseasonal['t2m1']))\n",
    "print(resultseasonal['sdadjmean'].corr(resultseasonal['sd1mean'], method='spearman'))\n",
    "print(resultseasonal['sdadjsum'].corr(resultseasonal['sd1sum'], method='spearman'))"
   ]
  },
  {
   "cell_type": "code",
   "execution_count": null,
   "id": "3365fd6a-3abf-4c01-bfad-473fda090c53",
   "metadata": {},
   "outputs": [],
   "source": [
    "# find variance ratio\n",
    "print((resultseasonal['tp'].var())/(resultseasonal['tp1'].var()))\n",
    "print((resultseasonal['msl'].var())/(resultseasonal['msl1'].var()))\n",
    "print((resultseasonal['t2m'].var())/(resultseasonal['t2m1'].var()))\n",
    "print((resultseasonal['sdadjmean'].var())/(resultseasonal['sd1mean'].var()))\n",
    "print((resultseasonal['sdadjsum'].var())/(resultseasonal['sd1sum'].var()))"
   ]
  },
  {
   "cell_type": "code",
   "execution_count": null,
   "id": "4e13bded-9cc4-4e7c-b99c-e3c757e0d239",
   "metadata": {},
   "outputs": [],
   "source": [
    "# find rmse - actual then predicted\n",
    "resultseasonalmsl = resultseasonal[resultseasonal['msl1'].notna()]\n",
    "resultseasonalt2m = resultseasonal[resultseasonal['t2m1'].notna()]\n",
    "resultseasonalsdmean = resultseasonal[resultseasonal['sd1mean'].notna()]\n",
    "resultseasonalsdsum = resultseasonal[resultseasonal['sd1sum'].notna()]\n",
    "print(np.sqrt(mean_squared_error(resultseasonal['tp1'], resultseasonal['tp'])))\n",
    "print(np.sqrt(mean_squared_error(resultseasonalmsl['msl1'], resultseasonalmsl['msl'])))\n",
    "print(np.sqrt(mean_squared_error(resultseasonalt2m['t2m1'], resultseasonalt2m['t2m'])))\n",
    "print(np.sqrt(mean_squared_error(resultseasonalsdmean['sd1mean'], resultseasonalsdmean['sdadjmean'])))\n",
    "print(np.sqrt(mean_squared_error(resultseasonalsdsum['sd1sum'], resultseasonalsdsum['sdadjsum'])))"
   ]
  },
  {
   "cell_type": "markdown",
   "id": "bc01b72b-7d85-4bd9-95ff-a77a7b14575b",
   "metadata": {
    "jp-MarkdownHeadingCollapsed": true
   },
   "source": [
    "### SD assimilation"
   ]
  },
  {
   "cell_type": "code",
   "execution_count": null,
   "id": "5e025300-a5c2-44d1-b7c2-56613b08a27d",
   "metadata": {},
   "outputs": [],
   "source": [
    "sdassim = pd.read_table('/home/users/clelland/era5/stations_pandas_files/seasonal_stats/sd_assimilations.csv', sep=\",\", index_col=0)\n",
    "sdassim = sdassim.replace(to_replace='-', value = 0)\n",
    "sdassim"
   ]
  },
  {
   "cell_type": "code",
   "execution_count": null,
   "id": "673477fe-fd6d-46e4-91bd-b64ed53d67fe",
   "metadata": {},
   "outputs": [],
   "source": [
    "sdassimt = sdassim.T\n",
    "sdassimt = sdassimt.astype(str).astype(int)\n",
    "\n",
    "fig = plt.figure()\n",
    "ax = plt.subplot()\n",
    "ax.bar(sdassimt.index, sdassimt[30493], color='bisque')\n",
    "\n",
    "start, end = ax.get_xlim()\n",
    "ax.xaxis.set_ticks(np.arange(start+3, end+3, 5))\n",
    "ax.axes.get_xaxis().set_visible(False)\n",
    "ax.set_ylim([0, 240])\n",
    "ax.yaxis.tick_right()\n",
    "\n",
    "#plt.title('23884 snow depth assimilation counts 1979-2020')\n",
    "plt.xlabel('year')\n",
    "plt.ylabel('sd assimilation counts')\n",
    "ax.yaxis.set_label_position(\"right\")\n",
    "\n",
    "#plt.savefig('30493sdassim.png', dpi=300, bbox_inches='tight', transparent=True)\n",
    "plt.show()"
   ]
  },
  {
   "cell_type": "markdown",
   "id": "c3de79fc-1cc6-4a9c-8b90-6dbbd85da879",
   "metadata": {
    "jp-MarkdownHeadingCollapsed": true
   },
   "source": [
    "### Seasonal variable stats"
   ]
  },
  {
   "cell_type": "code",
   "execution_count": null,
   "id": "07e84626-b4d7-4414-984f-f7ab7018baf1",
   "metadata": {},
   "outputs": [],
   "source": [
    "header = [['corr', 'corr', 'corr', 'corr', 'corr', 'corr', 'corr', 'corr', 'corr', 'corr', 'corr', 'corr', 'rmse', 'rmse', 'rmse', 'rmse', 'rmse', 'rmse', 'rmse', 'rmse', 'rmse', 'rmse', 'rmse', 'rmse', 'bias', 'bias', 'bias', 'bias', 'bias', 'bias', 'bias', 'bias', 'bias', 'bias', 'bias', 'bias', 'vr', 'vr', 'vr', 'vr', 'vr', 'vr', 'vr', 'vr', 'vr', 'vr', 'vr', 'vr'], \n",
    "         ['winter', 'winter', 'winter', 'spring', 'spring', 'spring', 'summer', 'summer', 'summer', 'autumn', 'autumn', 'autumn', 'winter', 'winter', 'winter', 'spring', 'spring', 'spring', 'summer', 'summer', 'summer', 'autumn', 'autumn', 'autumn', 'winter', 'winter', 'winter', 'spring', 'spring', 'spring', 'summer', 'summer', 'summer', 'autumn', 'autumn', 'autumn', 'winter', 'winter', 'winter', 'spring', 'spring', 'spring', 'summer', 'summer', 'summer', 'autumn', 'autumn', 'autumn'],\n",
    "         ['EI', 'E5', 'E5L', 'EI', 'E5', 'E5L', 'EI', 'E5', 'E5L', 'EI', 'E5', 'E5L', 'EI', 'E5', 'E5L', 'EI', 'E5', 'E5L', 'EI', 'E5', 'E5L', 'EI', 'E5', 'E5L', 'EI', 'E5', 'E5L', 'EI', 'E5', 'E5L', 'EI', 'E5', 'E5L', 'EI', 'E5', 'E5L', 'EI', 'E5', 'E5L', 'EI', 'E5', 'E5L', 'EI', 'E5', 'E5L', 'EI', 'E5', 'E5L']]\n",
    "t2mstats = pd.read_table('/home/users/clelland/era5/stations_pandas_files/seasonal_stats/t2m_stats.csv', sep=\",\", index_col=0)\n",
    "t2mstats.columns = header\n",
    "t2mstats.index.rename('station', inplace=True)\n",
    "t2mstats"
   ]
  },
  {
   "cell_type": "code",
   "execution_count": null,
   "id": "f7658b7e-960d-4e37-a2f3-4640a27df2d8",
   "metadata": {},
   "outputs": [],
   "source": [
    "header = [['corr', 'corr', 'corr', 'corr', 'corr', 'corr', 'corr', 'corr', 'corr', 'corr', 'corr', 'corr', 'rmse', 'rmse', 'rmse', 'rmse', 'rmse', 'rmse', 'rmse', 'rmse', 'rmse', 'rmse', 'rmse', 'rmse', 'bias', 'bias', 'bias', 'bias', 'bias', 'bias', 'bias', 'bias', 'bias', 'bias', 'bias', 'bias', 'vr', 'vr', 'vr', 'vr', 'vr', 'vr', 'vr', 'vr', 'vr', 'vr', 'vr', 'vr'], \n",
    "         ['winter', 'winter', 'winter', 'spring', 'spring', 'spring', 'summer', 'summer', 'summer', 'autumn', 'autumn', 'autumn', 'winter', 'winter', 'winter', 'spring', 'spring', 'spring', 'summer', 'summer', 'summer', 'autumn', 'autumn', 'autumn', 'winter', 'winter', 'winter', 'spring', 'spring', 'spring', 'summer', 'summer', 'summer', 'autumn', 'autumn', 'autumn', 'winter', 'winter', 'winter', 'spring', 'spring', 'spring', 'summer', 'summer', 'summer', 'autumn', 'autumn', 'autumn'],\n",
    "         ['EI', 'E5', 'E5L', 'EI', 'E5', 'E5L', 'EI', 'E5', 'E5L', 'EI', 'E5', 'E5L', 'EI', 'E5', 'E5L', 'EI', 'E5', 'E5L', 'EI', 'E5', 'E5L', 'EI', 'E5', 'E5L', 'EI', 'E5', 'E5L', 'EI', 'E5', 'E5L', 'EI', 'E5', 'E5L', 'EI', 'E5', 'E5L', 'EI', 'E5', 'E5L', 'EI', 'E5', 'E5L', 'EI', 'E5', 'E5L', 'EI', 'E5', 'E5L']]\n",
    "mn2tstats = pd.read_table('/home/users/clelland/era5/stations_pandas_files/seasonal_stats/mn2t_stats.csv', sep=\",\", index_col=0)\n",
    "mn2tstats.columns = header\n",
    "mn2tstats.index.rename('station', inplace=True)\n",
    "mn2tstats"
   ]
  },
  {
   "cell_type": "code",
   "execution_count": null,
   "id": "ebb2b1a1-e5c3-4dfc-aea3-b12ac5d215c6",
   "metadata": {},
   "outputs": [],
   "source": [
    "header = [['corr', 'corr', 'corr', 'corr', 'corr', 'corr', 'corr', 'corr', 'corr', 'corr', 'corr', 'corr', 'rmse', 'rmse', 'rmse', 'rmse', 'rmse', 'rmse', 'rmse', 'rmse', 'rmse', 'rmse', 'rmse', 'rmse', 'bias', 'bias', 'bias', 'bias', 'bias', 'bias', 'bias', 'bias', 'bias', 'bias', 'bias', 'bias', 'vr', 'vr', 'vr', 'vr', 'vr', 'vr', 'vr', 'vr', 'vr', 'vr', 'vr', 'vr'], \n",
    "         ['winter', 'winter', 'winter', 'spring', 'spring', 'spring', 'summer', 'summer', 'summer', 'autumn', 'autumn', 'autumn', 'winter', 'winter', 'winter', 'spring', 'spring', 'spring', 'summer', 'summer', 'summer', 'autumn', 'autumn', 'autumn', 'winter', 'winter', 'winter', 'spring', 'spring', 'spring', 'summer', 'summer', 'summer', 'autumn', 'autumn', 'autumn', 'winter', 'winter', 'winter', 'spring', 'spring', 'spring', 'summer', 'summer', 'summer', 'autumn', 'autumn', 'autumn'],\n",
    "         ['EI', 'E5', 'E5L', 'EI', 'E5', 'E5L', 'EI', 'E5', 'E5L', 'EI', 'E5', 'E5L', 'EI', 'E5', 'E5L', 'EI', 'E5', 'E5L', 'EI', 'E5', 'E5L', 'EI', 'E5', 'E5L', 'EI', 'E5', 'E5L', 'EI', 'E5', 'E5L', 'EI', 'E5', 'E5L', 'EI', 'E5', 'E5L', 'EI', 'E5', 'E5L', 'EI', 'E5', 'E5L', 'EI', 'E5', 'E5L', 'EI', 'E5', 'E5L']]\n",
    "mx2tstats = pd.read_table('/home/users/clelland/era5/stations_pandas_files/seasonal_stats/mx2t_stats.csv', sep=\",\", index_col=0)\n",
    "mx2tstats.columns = header\n",
    "mx2tstats.index.rename('station', inplace=True)\n",
    "mx2tstats"
   ]
  },
  {
   "cell_type": "code",
   "execution_count": null,
   "id": "2bad6d25-157b-4845-b73c-6b1b0a46df17",
   "metadata": {},
   "outputs": [],
   "source": [
    "header = [['corr', 'corr', 'corr', 'corr', 'corr', 'corr', 'corr', 'corr', 'corr', 'corr', 'corr', 'corr', 'rmse', 'rmse', 'rmse', 'rmse', 'rmse', 'rmse', 'rmse', 'rmse', 'rmse', 'rmse', 'rmse', 'rmse', 'bias', 'bias', 'bias', 'bias', 'bias', 'bias', 'bias', 'bias', 'bias', 'bias', 'bias', 'bias', 'vr', 'vr', 'vr', 'vr', 'vr', 'vr', 'vr', 'vr', 'vr', 'vr', 'vr', 'vr'], \n",
    "         ['winter', 'winter', 'winter', 'spring', 'spring', 'spring', 'summer', 'summer', 'summer', 'autumn', 'autumn', 'autumn', 'winter', 'winter', 'winter', 'spring', 'spring', 'spring', 'summer', 'summer', 'summer', 'autumn', 'autumn', 'autumn', 'winter', 'winter', 'winter', 'spring', 'spring', 'spring', 'summer', 'summer', 'summer', 'autumn', 'autumn', 'autumn', 'winter', 'winter', 'winter', 'spring', 'spring', 'spring', 'summer', 'summer', 'summer', 'autumn', 'autumn', 'autumn'],\n",
    "         ['EI', 'E5', 'E5L', 'EI', 'E5', 'E5L', 'EI', 'E5', 'E5L', 'EI', 'E5', 'E5L', 'EI', 'E5', 'E5L', 'EI', 'E5', 'E5L', 'EI', 'E5', 'E5L', 'EI', 'E5', 'E5L', 'EI', 'E5', 'E5L', 'EI', 'E5', 'E5L', 'EI', 'E5', 'E5L', 'EI', 'E5', 'E5L', 'EI', 'E5', 'E5L', 'EI', 'E5', 'E5L', 'EI', 'E5', 'E5L', 'EI', 'E5', 'E5L']]\n",
    "mslstats = pd.read_table('/home/users/clelland/era5/stations_pandas_files/seasonal_stats/msl_stats.csv', sep=\",\", index_col=0)\n",
    "mslstats.columns = header\n",
    "mslstats.index.rename('station', inplace=True)\n",
    "mslstats"
   ]
  },
  {
   "cell_type": "code",
   "execution_count": null,
   "id": "8af7541a-370f-4aea-9148-057218526bbc",
   "metadata": {},
   "outputs": [],
   "source": [
    "header = [['corr', 'corr', 'corr', 'corr', 'corr', 'corr', 'corr', 'corr', 'corr', 'corr', 'corr', 'corr', 'rmse', 'rmse', 'rmse', 'rmse', 'rmse', 'rmse', 'rmse', 'rmse', 'rmse', 'rmse', 'rmse', 'rmse', 'bias', 'bias', 'bias', 'bias', 'bias', 'bias', 'bias', 'bias', 'bias', 'bias', 'bias', 'bias', 'vr', 'vr', 'vr', 'vr', 'vr', 'vr', 'vr', 'vr', 'vr', 'vr', 'vr', 'vr'], \n",
    "         ['winter', 'winter', 'winter', 'spring', 'spring', 'spring', 'summer', 'summer', 'summer', 'autumn', 'autumn', 'autumn', 'winter', 'winter', 'winter', 'spring', 'spring', 'spring', 'summer', 'summer', 'summer', 'autumn', 'autumn', 'autumn', 'winter', 'winter', 'winter', 'spring', 'spring', 'spring', 'summer', 'summer', 'summer', 'autumn', 'autumn', 'autumn', 'winter', 'winter', 'winter', 'spring', 'spring', 'spring', 'summer', 'summer', 'summer', 'autumn', 'autumn', 'autumn'],\n",
    "         ['EI', 'E5', 'E5L', 'EI', 'E5', 'E5L', 'EI', 'E5', 'E5L', 'EI', 'E5', 'E5L', 'EI', 'E5', 'E5L', 'EI', 'E5', 'E5L', 'EI', 'E5', 'E5L', 'EI', 'E5', 'E5L', 'EI', 'E5', 'E5L', 'EI', 'E5', 'E5L', 'EI', 'E5', 'E5L', 'EI', 'E5', 'E5L', 'EI', 'E5', 'E5L', 'EI', 'E5', 'E5L', 'EI', 'E5', 'E5L', 'EI', 'E5', 'E5L']]\n",
    "wspstats = pd.read_table('/home/users/clelland/era5/stations_pandas_files/seasonal_stats/wsp_stats.csv', sep=\",\", index_col=0)\n",
    "wspstats.columns = header\n",
    "wspstats.index.rename('station', inplace=True)\n",
    "wspstats"
   ]
  },
  {
   "cell_type": "code",
   "execution_count": null,
   "id": "b4fa9ef5-4d9b-4201-a200-10030052f582",
   "metadata": {},
   "outputs": [],
   "source": [
    "header = [['corr', 'corr', 'corr', 'corr', 'corr', 'corr', 'corr', 'corr', 'corr', 'corr', 'corr', 'corr', 'corr', 'corr', 'corr', 'corr', 'corr', 'corr', 'corr', 'corr', 'corr', 'corr', 'corr', 'corr', 'rmse', 'rmse', 'rmse', 'rmse', 'rmse', 'rmse', 'rmse', 'rmse', 'rmse', 'rmse', 'rmse', 'rmse', 'rmse', 'rmse', 'rmse', 'rmse', 'rmse', 'rmse', 'rmse', 'rmse', 'rmse', 'rmse', 'rmse', 'rmse', 'bias', 'bias', 'bias', 'bias', 'bias', 'bias', 'bias', 'bias', 'bias', 'bias', 'bias', 'bias', 'bias', 'bias', 'bias', 'bias', 'bias', 'bias', 'bias', 'bias', 'bias', 'bias', 'bias', 'bias', 'vr', 'vr', 'vr', 'vr', 'vr', 'vr', 'vr', 'vr', 'vr', 'vr', 'vr', 'vr', 'vr', 'vr', 'vr', 'vr', 'vr', 'vr', 'vr', 'vr', 'vr', 'vr', 'vr', 'vr'], \n",
    "         ['winter', 'winter', 'winter', 'winter', 'winter', 'winter', 'spring', 'spring', 'spring', 'spring', 'spring', 'spring', 'summer', 'summer', 'summer', 'summer', 'summer', 'summer', 'autumn', 'autumn', 'autumn', 'autumn', 'autumn', 'autumn', 'winter', 'winter', 'winter', 'winter', 'winter', 'winter', 'spring', 'spring', 'spring', 'spring', 'spring', 'spring', 'summer', 'summer', 'summer', 'summer', 'summer', 'summer', 'autumn', 'autumn', 'autumn', 'autumn', 'autumn', 'autumn', 'winter', 'winter', 'winter', 'winter', 'winter', 'winter', 'spring', 'spring', 'spring', 'spring', 'spring', 'spring', 'summer', 'summer', 'summer', 'summer', 'summer', 'summer', 'autumn', 'autumn', 'autumn', 'autumn', 'autumn', 'autumn', 'winter', 'winter', 'winter', 'winter', 'winter', 'winter', 'spring', 'spring', 'spring', 'spring', 'spring', 'spring', 'summer', 'summer', 'summer', 'summer', 'summer', 'summer', 'autumn', 'autumn', 'autumn', 'autumn', 'autumn', 'autumn'],\n",
    "         ['EI 79-91', 'E5 79-91', 'E5L 79-91', 'EI 92-19', 'E5 92-20', 'E5L 92-20', 'EI 79-91', 'E5 79-91', 'E5L 79-91', 'EI 92-19', 'E5 92-20', 'E5L 92-20', 'EI 79-91', 'E5 79-91', 'E5L 79-91', 'EI 92-19', 'E5 92-20', 'E5L 92-20', 'EI 79-91', 'E5 79-91', 'E5L 79-91', 'EI 92-19', 'E5 92-20', 'E5L 92-20', 'EI 79-91', 'E5 79-91', 'E5L 79-91', 'EI 92-19', 'E5 92-20', 'E5L 92-20', 'EI 79-91', 'E5 79-91', 'E5L 79-91', 'EI 92-19', 'E5 92-20', 'E5L 92-20', 'EI 79-91', 'E5 79-91', 'E5L 79-91', 'EI 92-19', 'E5 92-20', 'E5L 92-20', 'EI 79-91', 'E5 79-91', 'E5L 79-91', 'EI 92-19', 'E5 92-20', 'E5L 92-20', 'EI 79-91', 'E5 79-91', 'E5L 79-91', 'EI 92-19', 'E5 92-20', 'E5L 92-20', 'EI 79-91', 'E5 79-91', 'E5L 79-91', 'EI 92-19', 'E5 92-20', 'E5L 92-20', 'EI 79-91', 'E5 79-91', 'E5L 79-91', 'EI 92-19', 'E5 92-20', 'E5L 92-20', 'EI 79-91', 'E5 79-91', 'E5L 79-91', 'EI 92-19', 'E5 92-20', 'E5L 92-20', 'EI 79-91', 'E5 79-91', 'E5L 79-91', 'EI 92-19', 'E5 92-20', 'E5L 92-20', 'EI 79-91', 'E5 79-91', 'E5L 79-91', 'EI 92-19', 'E5 92-20', 'E5L 92-20', 'EI 79-91', 'E5 79-91', 'E5L 79-91', 'EI 92-19', 'E5 92-20', 'E5L 92-20', 'EI 79-91', 'E5 79-91', 'E5L 79-91', 'EI 92-19', 'E5 92-20', 'E5L 92-20']]\n",
    "sdstats = pd.read_table('/home/users/clelland/era5/stations_pandas_files/seasonal_stats/sd_stats.csv', sep=\",\", index_col=0)\n",
    "sdstats.columns = header\n",
    "sdstats.index.rename('station', inplace=True)\n",
    "sdstats"
   ]
  },
  {
   "cell_type": "code",
   "execution_count": null,
   "id": "4dfc06ab-e134-40d7-b2a5-34b60ca96069",
   "metadata": {},
   "outputs": [],
   "source": [
    "header = [['corr', 'corr', 'corr', 'corr', 'corr', 'corr', 'corr', 'corr', 'corr', 'corr', 'corr', 'corr', 'rmse', 'rmse', 'rmse', 'rmse', 'rmse', 'rmse', 'rmse', 'rmse', 'rmse', 'rmse', 'rmse', 'rmse', 'bias', 'bias', 'bias', 'bias', 'bias', 'bias', 'bias', 'bias', 'bias', 'bias', 'bias', 'bias', 'vr', 'vr', 'vr', 'vr', 'vr', 'vr', 'vr', 'vr', 'vr', 'vr', 'vr', 'vr'], \n",
    "         ['winter', 'winter', 'winter', 'spring', 'spring', 'spring', 'summer', 'summer', 'summer', 'autumn', 'autumn', 'autumn', 'winter', 'winter', 'winter', 'spring', 'spring', 'spring', 'summer', 'summer', 'summer', 'autumn', 'autumn', 'autumn', 'winter', 'winter', 'winter', 'spring', 'spring', 'spring', 'summer', 'summer', 'summer', 'autumn', 'autumn', 'autumn', 'winter', 'winter', 'winter', 'spring', 'spring', 'spring', 'summer', 'summer', 'summer', 'autumn', 'autumn', 'autumn'],\n",
    "         ['EI', 'E5', 'E5L', 'EI', 'E5', 'E5L', 'EI', 'E5', 'E5L', 'EI', 'E5', 'E5L', 'EI', 'E5', 'E5L', 'EI', 'E5', 'E5L', 'EI', 'E5', 'E5L', 'EI', 'E5', 'E5L', 'EI', 'E5', 'E5L', 'EI', 'E5', 'E5L', 'EI', 'E5', 'E5L', 'EI', 'E5', 'E5L', 'EI', 'E5', 'E5L', 'EI', 'E5', 'E5L', 'EI', 'E5', 'E5L', 'EI', 'E5', 'E5L']]\n",
    "tpstats = pd.read_table('/home/users/clelland/era5/stations_pandas_files/seasonal_stats/tp_stats.csv', sep=\",\", index_col=0)\n",
    "tpstats.columns = header\n",
    "tpstats.index.rename('station', inplace=True)\n",
    "tpstats"
   ]
  },
  {
   "cell_type": "markdown",
   "id": "59318a25-2813-455f-a539-6bc54e52928a",
   "metadata": {
    "jp-MarkdownHeadingCollapsed": true,
    "tags": []
   },
   "source": [
    "## Separated seasonal datasets"
   ]
  },
  {
   "cell_type": "markdown",
   "id": "4d98345f-6b68-4db1-8a9d-53bf74816499",
   "metadata": {
    "jp-MarkdownHeadingCollapsed": true,
    "tags": []
   },
   "source": [
    "### Winter"
   ]
  },
  {
   "cell_type": "code",
   "execution_count": null,
   "id": "3ad4a745-92cb-42c8-a233-1ea36cbef1c9",
   "metadata": {},
   "outputs": [],
   "source": [
    "resultseasonaldjf = resultdaily.copy()\n",
    "#resultseasonaldjf = resultseasonaldjf.reset_index('station')\n",
    "resultseasonaldjf.index = pd.to_datetime(resultseasonaldjf.index)\n",
    "\n",
    "# apply function to database\n",
    "resultseasonaldjf['season'] = resultseasonaldjf.index.to_series()\n",
    "resultseasonaldjf['season'] = resultseasonaldjf['season'].dt.month\n",
    "resultseasonaldjf['season'] = resultseasonaldjf['season'].apply(month_to_season)\n",
    "\n",
    "# find only DJF \n",
    "resultseasonaldjf = resultseasonaldjf[resultseasonaldjf['season'] == 'DJF']\n",
    "resultseasonaldjf = resultseasonaldjf.reset_index()\n",
    "resultseasonaldjf['time'] = resultseasonaldjf['time'].apply(lambda x: x.strftime('%Y-%m-%d'))\n",
    "resultseasonaldjf.set_index('time', inplace=True)\n",
    "resultseasonaldjf = resultseasonaldjf.set_index('station', append=True).sort_index(ascending=True)\n",
    "resultseasonaldjf = resultseasonaldjf.drop('season', axis=1)\n",
    "resultseasonaldjf"
   ]
  },
  {
   "cell_type": "code",
   "execution_count": null,
   "id": "4d63a128-8db4-4480-b930-aa77245f8534",
   "metadata": {},
   "outputs": [],
   "source": [
    "resultseasonaldjf['wspbias'] = resultseasonaldjf['wspeed'] - resultseasonaldjf['wspeed1']\n",
    "wspbias = (resultseasonaldjf['wspbias'].sum())/(resultseasonaldjf['wspbias'].notnull().sum())\n",
    "resultseasonaldjf['tpbias'] = resultseasonaldjf['tp'] - resultseasonaldjf['tp1']\n",
    "tpbias = (resultseasonaldjf['tpbias'].sum())/(resultseasonaldjf['tpbias'].notnull().sum())\n",
    "resultseasonaldjf['mslbias'] = resultseasonaldjf['msl'] - resultseasonaldjf['msl1']\n",
    "mslbias = (resultseasonaldjf['mslbias'].sum())/(resultseasonaldjf['mslbias'].notnull().sum())\n",
    "resultseasonaldjf['t2mbias'] = resultseasonaldjf['t2m'] - resultseasonaldjf['t2m1']\n",
    "t2mbias = (resultseasonaldjf['t2mbias'].sum())/(resultseasonaldjf['t2mbias'].notnull().sum())\n",
    "resultseasonaldjf['mn2tbias'] = resultseasonaldjf['mn2t'] - resultseasonaldjf['mn2t1']\n",
    "mn2tbias = (resultseasonaldjf['mn2tbias'].sum())/(resultseasonaldjf['mn2tbias'].notnull().sum())\n",
    "resultseasonaldjf['mx2tbias'] = resultseasonaldjf['mx2t'] - resultseasonaldjf['mx2t1']\n",
    "mx2tbias = (resultseasonaldjf['mx2tbias'].sum())/(resultseasonaldjf['mx2tbias'].notnull().sum())\n",
    "resultseasonaldjf['sdbias'] = resultseasonaldjf['sdadj'] - resultseasonaldjf['sd1']\n",
    "sdbias = (resultseasonaldjf['sdbias'].sum())/(resultseasonaldjf['sdbias'].notnull().sum())\n",
    "print(wspbias)\n",
    "print(tpbias)\n",
    "print(mslbias)\n",
    "print(t2mbias)\n",
    "print(mn2tbias)\n",
    "print(mx2tbias)\n",
    "print(sdbias)"
   ]
  },
  {
   "cell_type": "code",
   "execution_count": null,
   "id": "3446251a-ad8a-4556-b711-913ef976ae0a",
   "metadata": {},
   "outputs": [],
   "source": [
    "# find correlations\n",
    "print(resultseasonaldjf['wspeed'].corr(resultseasonaldjf['wspeed1'], method='spearman'))\n",
    "print(resultseasonaldjf['tp'].corr(resultseasonaldjf['tp1'], method='spearman'))\n",
    "print(resultseasonaldjf['msl'].corr(resultseasonaldjf['msl1'], method='spearman'))\n",
    "print(resultseasonaldjf['t2m'].corr(resultseasonaldjf['t2m1']))\n",
    "print(resultseasonaldjf['mn2t'].corr(resultseasonaldjf['mn2t1']))\n",
    "print(resultseasonaldjf['mx2t'].corr(resultseasonaldjf['mx2t1']))\n",
    "print(resultseasonaldjf['sdadj'].corr(resultseasonaldjf['sd1'], method='spearman'))"
   ]
  },
  {
   "cell_type": "code",
   "execution_count": null,
   "id": "a9905c32-a5d7-4990-83fb-a368d16ad1ad",
   "metadata": {},
   "outputs": [],
   "source": [
    "# find variance ratio\n",
    "print((resultseasonaldjf['wspeed'].var())/(resultseasonaldjf['wspeed1'].var()))\n",
    "print((resultseasonaldjf['tp'].var())/(resultseasonaldjf['tp1'].var()))\n",
    "print((resultseasonaldjf['msl'].var())/(resultseasonaldjf['msl1'].var()))\n",
    "print((resultseasonaldjf['t2m'].var())/(resultseasonaldjf['t2m1'].var()))\n",
    "print((resultseasonaldjf['mn2t'].var())/(resultseasonaldjf['mn2t1'].var()))\n",
    "print((resultseasonaldjf['mx2t'].var())/(resultseasonaldjf['mx2t1'].var()))\n",
    "print((resultseasonaldjf['sdadj'].var())/(resultseasonaldjf['sd1'].var()))"
   ]
  },
  {
   "cell_type": "code",
   "execution_count": null,
   "id": "826a5025-4944-4ac9-aaed-fcd58bb04707",
   "metadata": {},
   "outputs": [],
   "source": [
    "# find rmse - actual then predicted\n",
    "resultseasonaldjfwsp = resultseasonaldjf[resultseasonaldjf['wspeed1'].notna()]\n",
    "resultseasonaldjftp = resultseasonaldjf[resultseasonaldjf['tp1'].notna()]\n",
    "resultseasonaldjftp = resultseasonaldjftp[resultseasonaldjftp['tp'].notna()]\n",
    "resultseasonaldjfmsl = resultseasonaldjf[resultseasonaldjf['msl1'].notna()]\n",
    "resultseasonaldjft2m = resultseasonaldjf[resultseasonaldjf['t2m1'].notna()]\n",
    "resultseasonaldjfmn2t = resultseasonaldjf[resultseasonaldjf['mn2t1'].notna()]\n",
    "resultseasonaldjfmn2t = resultseasonaldjfmn2t[resultseasonaldjfmn2t['mn2t'].notna()]\n",
    "resultseasonaldjfmx2t = resultseasonaldjf[resultseasonaldjf['mx2t1'].notna()]\n",
    "resultseasonaldjfmx2t = resultseasonaldjfmx2t[resultseasonaldjfmx2t['mx2t'].notna()]\n",
    "resultseasonaldjfsdmean = resultseasonaldjf[resultseasonaldjf['sd1'].notna()]\n",
    "print(np.sqrt(mean_squared_error(resultseasonaldjfwsp['wspeed1'], resultseasonaldjfwsp['wspeed'])))\n",
    "print(np.sqrt(mean_squared_error(resultseasonaldjftp['tp1'], resultseasonaldjftp['tp'])))\n",
    "print(np.sqrt(mean_squared_error(resultseasonaldjfmsl['msl1'], resultseasonaldjfmsl['msl'])))\n",
    "print(np.sqrt(mean_squared_error(resultseasonaldjft2m['t2m1'], resultseasonaldjft2m['t2m'])))\n",
    "print(np.sqrt(mean_squared_error(resultseasonaldjfmn2t['mn2t1'], resultseasonaldjfmn2t['mn2t'])))\n",
    "print(np.sqrt(mean_squared_error(resultseasonaldjfmx2t['mx2t1'], resultseasonaldjfmx2t['mx2t'])))\n",
    "print(np.sqrt(mean_squared_error(resultseasonaldjfsdmean['sd1'], resultseasonaldjfsdmean['sdadj'])))"
   ]
  },
  {
   "cell_type": "markdown",
   "id": "177287a0-d94e-48bd-8f30-50fe92c91037",
   "metadata": {
    "jp-MarkdownHeadingCollapsed": true,
    "tags": []
   },
   "source": [
    "### Spring"
   ]
  },
  {
   "cell_type": "code",
   "execution_count": null,
   "id": "0d4a0670-ce13-4e82-b91a-627e236ae517",
   "metadata": {},
   "outputs": [],
   "source": [
    "resultseasonalmam = resultdaily.copy()\n",
    "#resultseasonalmam = resultseasonalmam.reset_index('station')\n",
    "resultseasonalmam.index = pd.to_datetime(resultseasonalmam.index)\n",
    "\n",
    "# apply function to database\n",
    "resultseasonalmam['season'] = resultseasonalmam.index.to_series()\n",
    "resultseasonalmam['season'] = resultseasonalmam['season'].dt.month\n",
    "resultseasonalmam['season'] = resultseasonalmam['season'].apply(month_to_season)\n",
    "\n",
    "# find only MAM\n",
    "resultseasonalmam = resultseasonalmam[resultseasonalmam['season'] == 'MAM']\n",
    "resultseasonalmam = resultseasonalmam.reset_index()\n",
    "resultseasonalmam['time'] = resultseasonalmam['time'].apply(lambda x: x.strftime('%Y-%m-%d'))\n",
    "resultseasonalmam.set_index('time', inplace=True)\n",
    "resultseasonalmam = resultseasonalmam.set_index('station', append=True).sort_index(ascending=True)\n",
    "resultseasonalmam = resultseasonalmam.drop('season', axis=1)\n",
    "resultseasonalmam"
   ]
  },
  {
   "cell_type": "code",
   "execution_count": null,
   "id": "c5c32042-d882-4c58-906c-057ef5d86bfe",
   "metadata": {},
   "outputs": [],
   "source": [
    "resultseasonalmam['wspbias'] = resultseasonalmam['wspeed'] - resultseasonalmam['wspeed1']\n",
    "wspbias = (resultseasonalmam['wspbias'].sum())/(resultseasonalmam['wspbias'].notnull().sum())\n",
    "resultseasonalmam['tpbias'] = resultseasonalmam['tp'] - resultseasonalmam['tp1']\n",
    "tpbias = (resultseasonalmam['tpbias'].sum())/(resultseasonalmam['tpbias'].notnull().sum())\n",
    "resultseasonalmam['mslbias'] = resultseasonalmam['msl'] - resultseasonalmam['msl1']\n",
    "mslbias = (resultseasonalmam['mslbias'].sum())/(resultseasonalmam['mslbias'].notnull().sum())\n",
    "resultseasonalmam['t2mbias'] = resultseasonalmam['t2m'] - resultseasonalmam['t2m1']\n",
    "t2mbias = (resultseasonalmam['t2mbias'].sum())/(resultseasonalmam['t2mbias'].notnull().sum())\n",
    "resultseasonalmam['mn2tbias'] = resultseasonalmam['mn2t'] - resultseasonalmam['mn2t1']\n",
    "mn2tbias = (resultseasonalmam['mn2tbias'].sum())/(resultseasonalmam['mn2tbias'].notnull().sum())\n",
    "resultseasonalmam['mx2tbias'] = resultseasonalmam['mx2t'] - resultseasonalmam['mx2t1']\n",
    "mx2tbias = (resultseasonalmam['mx2tbias'].sum())/(resultseasonalmam['mx2tbias'].notnull().sum())\n",
    "resultseasonalmam['sdbias'] = resultseasonalmam['sdadj'] - resultseasonalmam['sd1']\n",
    "sdbias = (resultseasonalmam['sdbias'].sum())/(resultseasonalmam['sdbias'].notnull().sum())\n",
    "print(wspbias)\n",
    "print(tpbias)\n",
    "print(mslbias)\n",
    "print(t2mbias)\n",
    "print(mn2tbias)\n",
    "print(mx2tbias)\n",
    "print(sdbias)"
   ]
  },
  {
   "cell_type": "code",
   "execution_count": null,
   "id": "8f15bf4e-6452-438c-a014-88d3a1152cf2",
   "metadata": {},
   "outputs": [],
   "source": [
    "# find correlations\n",
    "print(resultseasonalmam['wspeed'].corr(resultseasonalmam['wspeed1'], method='spearman'))\n",
    "print(resultseasonalmam['tp'].corr(resultseasonalmam['tp1'], method='spearman'))\n",
    "print(resultseasonalmam['msl'].corr(resultseasonalmam['msl1'], method='spearman'))\n",
    "print(resultseasonalmam['t2m'].corr(resultseasonalmam['t2m1']))\n",
    "print(resultseasonalmam['mn2t'].corr(resultseasonalmam['mn2t1']))\n",
    "print(resultseasonalmam['mx2t'].corr(resultseasonalmam['mx2t1']))\n",
    "print(resultseasonalmam['sdadj'].corr(resultseasonalmam['sd1'], method='spearman'))"
   ]
  },
  {
   "cell_type": "code",
   "execution_count": null,
   "id": "7be83e7e-c1fd-45b3-b9c4-d9f99f08291f",
   "metadata": {},
   "outputs": [],
   "source": [
    "# find variance ratio\n",
    "print((resultseasonalmam['wspeed'].var())/(resultseasonalmam['wspeed1'].var()))\n",
    "print((resultseasonalmam['tp'].var())/(resultseasonalmam['tp1'].var()))\n",
    "print((resultseasonalmam['msl'].var())/(resultseasonalmam['msl1'].var()))\n",
    "print((resultseasonalmam['t2m'].var())/(resultseasonalmam['t2m1'].var()))\n",
    "print((resultseasonalmam['mn2t'].var())/(resultseasonalmam['mn2t1'].var()))\n",
    "print((resultseasonalmam['mx2t'].var())/(resultseasonalmam['mx2t1'].var()))\n",
    "print((resultseasonalmam['sdadj'].var())/(resultseasonalmam['sd1'].var()))"
   ]
  },
  {
   "cell_type": "code",
   "execution_count": null,
   "id": "02450a7e-332b-4f3f-bf11-e5a62dc504b0",
   "metadata": {},
   "outputs": [],
   "source": [
    "# find rmse - actual then predicted\n",
    "resultseasonalmamwsp = resultseasonalmam[resultseasonalmam['wspeed1'].notna()]\n",
    "resultseasonalmamtp = resultseasonalmam[resultseasonalmam['tp1'].notna()]\n",
    "resultseasonalmamtp = resultseasonalmamtp[resultseasonalmamtp['tp'].notna()]\n",
    "resultseasonalmammsl = resultseasonalmam[resultseasonalmam['msl1'].notna()]\n",
    "resultseasonalmamt2m = resultseasonalmam[resultseasonalmam['t2m1'].notna()]\n",
    "resultseasonalmammn2t = resultseasonalmam[resultseasonalmam['mn2t1'].notna()]\n",
    "resultseasonalmammn2t = resultseasonalmammn2t[resultseasonalmammn2t['mn2t'].notna()]\n",
    "resultseasonalmammx2t = resultseasonalmam[resultseasonalmam['mx2t1'].notna()]\n",
    "resultseasonalmammx2t = resultseasonalmammx2t[resultseasonalmammx2t['mx2t'].notna()]\n",
    "resultseasonalmamsdmean = resultseasonalmam[resultseasonalmam['sd1'].notna()]\n",
    "print(np.sqrt(mean_squared_error(resultseasonalmamwsp['wspeed1'], resultseasonalmamwsp['wspeed'])))\n",
    "print(np.sqrt(mean_squared_error(resultseasonalmamtp['tp1'], resultseasonalmamtp['tp'])))\n",
    "print(np.sqrt(mean_squared_error(resultseasonalmammsl['msl1'], resultseasonalmammsl['msl'])))\n",
    "print(np.sqrt(mean_squared_error(resultseasonalmamt2m['t2m1'], resultseasonalmamt2m['t2m'])))\n",
    "print(np.sqrt(mean_squared_error(resultseasonalmammn2t['mn2t1'], resultseasonalmammn2t['mn2t'])))\n",
    "print(np.sqrt(mean_squared_error(resultseasonalmammx2t['mx2t1'], resultseasonalmammx2t['mx2t'])))\n",
    "print(np.sqrt(mean_squared_error(resultseasonalmamsdmean['sd1'], resultseasonalmamsdmean['sdadj'])))"
   ]
  },
  {
   "cell_type": "markdown",
   "id": "fd4d46ce-057a-4b29-89b9-1c75f9d35925",
   "metadata": {
    "jp-MarkdownHeadingCollapsed": true,
    "tags": []
   },
   "source": [
    "### Summer"
   ]
  },
  {
   "cell_type": "code",
   "execution_count": null,
   "id": "4cb37ba9-dbd5-43d6-8b29-4195b97b50b4",
   "metadata": {},
   "outputs": [],
   "source": [
    "resultseasonaljja = resultdaily.copy()\n",
    "#resultseasonaljja = resultseasonaljja.reset_index('station')\n",
    "resultseasonaljja.index = pd.to_datetime(resultseasonaljja.index)\n",
    "\n",
    "# apply function to database\n",
    "resultseasonaljja['season'] = resultseasonaljja.index.to_series()\n",
    "resultseasonaljja['season'] = resultseasonaljja['season'].dt.month\n",
    "resultseasonaljja['season'] = resultseasonaljja['season'].apply(month_to_season)\n",
    "\n",
    "# find only JJA\n",
    "resultseasonaljja = resultseasonaljja[resultseasonaljja['season'] == 'JJA']\n",
    "resultseasonaljja = resultseasonaljja.reset_index()\n",
    "resultseasonaljja['time'] = resultseasonaljja['time'].apply(lambda x: x.strftime('%Y-%m-%d'))\n",
    "resultseasonaljja.set_index('time', inplace=True)\n",
    "resultseasonaljja = resultseasonaljja.set_index('station', append=True).sort_index(ascending=True)\n",
    "resultseasonaljja = resultseasonaljja.drop('season', axis=1)\n",
    "resultseasonaljja"
   ]
  },
  {
   "cell_type": "code",
   "execution_count": null,
   "id": "fc63a7b7-2dbd-49f5-88ca-9e3836d0e6ff",
   "metadata": {},
   "outputs": [],
   "source": [
    "resultseasonaljja['wspbias'] = resultseasonaljja['wspeed'] - resultseasonaljja['wspeed1']\n",
    "wspbias = (resultseasonaljja['wspbias'].sum())/(resultseasonaljja['wspbias'].notnull().sum())\n",
    "resultseasonaljja['tpbias'] = resultseasonaljja['tp'] - resultseasonaljja['tp1']\n",
    "tpbias = (resultseasonaljja['tpbias'].sum())/(resultseasonaljja['tpbias'].notnull().sum())\n",
    "resultseasonaljja['mslbias'] = resultseasonaljja['msl'] - resultseasonaljja['msl1']\n",
    "mslbias = (resultseasonaljja['mslbias'].sum())/(resultseasonaljja['mslbias'].notnull().sum())\n",
    "resultseasonaljja['t2mbias'] = resultseasonaljja['t2m'] - resultseasonaljja['t2m1']\n",
    "t2mbias = (resultseasonaljja['t2mbias'].sum())/(resultseasonaljja['t2mbias'].notnull().sum())\n",
    "resultseasonaljja['mn2tbias'] = resultseasonaljja['mn2t'] - resultseasonaljja['mn2t1']\n",
    "mn2tbias = (resultseasonaljja['mn2tbias'].sum())/(resultseasonaljja['mn2tbias'].notnull().sum())\n",
    "resultseasonaljja['mx2tbias'] = resultseasonaljja['mx2t'] - resultseasonaljja['mx2t1']\n",
    "mx2tbias = (resultseasonaljja['mx2tbias'].sum())/(resultseasonaljja['mx2tbias'].notnull().sum())\n",
    "resultseasonaljja['sdbias'] = resultseasonaljja['sdadj'] - resultseasonaljja['sd1']\n",
    "sdbias = (resultseasonaljja['sdbias'].sum())/(resultseasonaljja['sdbias'].notnull().sum())\n",
    "print(wspbias)\n",
    "print(tpbias)\n",
    "print(mslbias)\n",
    "print(t2mbias)\n",
    "print(mn2tbias)\n",
    "print(mx2tbias)\n",
    "print(sdbias)"
   ]
  },
  {
   "cell_type": "code",
   "execution_count": null,
   "id": "cfe853a6-d2b0-4c1d-afdb-066cc235167a",
   "metadata": {},
   "outputs": [],
   "source": [
    "# find correlations\n",
    "print(resultseasonaljja['wspeed'].corr(resultseasonaljja['wspeed1'], method='spearman'))\n",
    "print(resultseasonaljja['tp'].corr(resultseasonaljja['tp1'], method='spearman'))\n",
    "print(resultseasonaljja['msl'].corr(resultseasonaljja['msl1'], method='spearman'))\n",
    "print(resultseasonaljja['t2m'].corr(resultseasonaljja['t2m1']))\n",
    "print(resultseasonaljja['mn2t'].corr(resultseasonaljja['mn2t1']))\n",
    "print(resultseasonaljja['mx2t'].corr(resultseasonaljja['mx2t1']))\n",
    "print(resultseasonaljja['sdadj'].corr(resultseasonaljja['sd1'], method='spearman'))"
   ]
  },
  {
   "cell_type": "code",
   "execution_count": null,
   "id": "c5def453-1486-45f1-8c20-ccbf5da4b678",
   "metadata": {},
   "outputs": [],
   "source": [
    "# find variance ratio\n",
    "print((resultseasonaljja['wspeed'].var())/(resultseasonaljja['wspeed1'].var()))\n",
    "print((resultseasonaljja['tp'].var())/(resultseasonaljja['tp1'].var()))\n",
    "print((resultseasonaljja['msl'].var())/(resultseasonaljja['msl1'].var()))\n",
    "print((resultseasonaljja['t2m'].var())/(resultseasonaljja['t2m1'].var()))\n",
    "print((resultseasonaljja['mn2t'].var())/(resultseasonaljja['mn2t1'].var()))\n",
    "print((resultseasonaljja['mx2t'].var())/(resultseasonaljja['mx2t1'].var()))\n",
    "print((resultseasonaljja['sdadj'].var())/(resultseasonaljja['sd1'].var()))"
   ]
  },
  {
   "cell_type": "code",
   "execution_count": null,
   "id": "e32a2fef-b334-4010-b27d-492ba6811b67",
   "metadata": {},
   "outputs": [],
   "source": [
    "# find rmse - actual then predicted\n",
    "resultseasonaljjawsp = resultseasonaljja[resultseasonaljja['wspeed1'].notna()]\n",
    "resultseasonaljjatp = resultseasonaljja[resultseasonaljja['tp1'].notna()]\n",
    "resultseasonaljjatp = resultseasonaljjatp[resultseasonaljjatp['tp'].notna()]\n",
    "resultseasonaljjamsl = resultseasonaljja[resultseasonaljja['msl1'].notna()]\n",
    "resultseasonaljjat2m = resultseasonaljja[resultseasonaljja['t2m1'].notna()]\n",
    "resultseasonaljjamn2t = resultseasonaljja[resultseasonaljja['mn2t1'].notna()]\n",
    "resultseasonaljjamn2t = resultseasonaljjamn2t[resultseasonaljjamn2t['mn2t'].notna()]\n",
    "resultseasonaljjamx2t = resultseasonaljja[resultseasonaljja['mx2t1'].notna()]\n",
    "resultseasonaljjamx2t = resultseasonaljjamx2t[resultseasonaljjamx2t['mx2t'].notna()]\n",
    "resultseasonaljjasdmean = resultseasonaljja[resultseasonaljja['sd1'].notna()]\n",
    "print(np.sqrt(mean_squared_error(resultseasonaljjawsp['wspeed1'], resultseasonaljjawsp['wspeed'])))\n",
    "print(np.sqrt(mean_squared_error(resultseasonaljjatp['tp1'], resultseasonaljjatp['tp'])))\n",
    "print(np.sqrt(mean_squared_error(resultseasonaljjamsl['msl1'], resultseasonaljjamsl['msl'])))\n",
    "print(np.sqrt(mean_squared_error(resultseasonaljjat2m['t2m1'], resultseasonaljjat2m['t2m'])))\n",
    "print(np.sqrt(mean_squared_error(resultseasonaljjamn2t['mn2t1'], resultseasonaljjamn2t['mn2t'])))\n",
    "print(np.sqrt(mean_squared_error(resultseasonaljjamx2t['mx2t1'], resultseasonaljjamx2t['mx2t'])))\n",
    "print(np.sqrt(mean_squared_error(resultseasonaljjasdmean['sd1'], resultseasonaljjasdmean['sdadj'])))"
   ]
  },
  {
   "cell_type": "markdown",
   "id": "bdc88dfc-ec46-4850-8b3a-dd23416d5019",
   "metadata": {
    "jp-MarkdownHeadingCollapsed": true,
    "tags": []
   },
   "source": [
    "### Autumn"
   ]
  },
  {
   "cell_type": "code",
   "execution_count": null,
   "id": "2e53b495-08b5-49a7-9baf-a5bc7a0bb545",
   "metadata": {},
   "outputs": [],
   "source": [
    "resultseasonalson = resultdaily.copy()\n",
    "#resultseasonalson = resultseasonalson.reset_index('station')\n",
    "resultseasonalson.index = pd.to_datetime(resultseasonalson.index)\n",
    "\n",
    "# apply function to database\n",
    "resultseasonalson['season'] = resultseasonalson.index.to_series()\n",
    "resultseasonalson['season'] = resultseasonalson['season'].dt.month\n",
    "resultseasonalson['season'] = resultseasonalson['season'].apply(month_to_season)\n",
    "\n",
    "# find only SON\n",
    "resultseasonalson = resultseasonalson[resultseasonalson['season'] == 'SON']\n",
    "resultseasonalson = resultseasonalson.reset_index()\n",
    "resultseasonalson['time'] = resultseasonalson['time'].apply(lambda x: x.strftime('%Y-%m-%d'))\n",
    "resultseasonalson.set_index('time', inplace=True)\n",
    "resultseasonalson = resultseasonalson.set_index('station', append=True).sort_index(ascending=True)\n",
    "resultseasonalson = resultseasonalson.drop('season', axis=1)\n",
    "resultseasonalson"
   ]
  },
  {
   "cell_type": "code",
   "execution_count": null,
   "id": "8f946499-a398-4e5e-9576-8786106a98b2",
   "metadata": {},
   "outputs": [],
   "source": [
    "resultseasonalson['wspbias'] = resultseasonalson['wspeed'] - resultseasonalson['wspeed1']\n",
    "wspbias = (resultseasonalson['wspbias'].sum())/(resultseasonalson['wspbias'].notnull().sum())\n",
    "resultseasonalson['tpbias'] = resultseasonalson['tp'] - resultseasonalson['tp1']\n",
    "tpbias = (resultseasonalson['tpbias'].sum())/(resultseasonalson['tpbias'].notnull().sum())\n",
    "resultseasonalson['mslbias'] = resultseasonalson['msl'] - resultseasonalson['msl1']\n",
    "mslbias = (resultseasonalson['mslbias'].sum())/(resultseasonalson['mslbias'].notnull().sum())\n",
    "resultseasonalson['t2mbias'] = resultseasonalson['t2m'] - resultseasonalson['t2m1']\n",
    "t2mbias = (resultseasonalson['t2mbias'].sum())/(resultseasonalson['t2mbias'].notnull().sum())\n",
    "resultseasonalson['mn2tbias'] = resultseasonalson['mn2t'] - resultseasonalson['mn2t1']\n",
    "mn2tbias = (resultseasonalson['mn2tbias'].sum())/(resultseasonalson['mn2tbias'].notnull().sum())\n",
    "resultseasonalson['mx2tbias'] = resultseasonalson['mx2t'] - resultseasonalson['mx2t1']\n",
    "mx2tbias = (resultseasonalson['mx2tbias'].sum())/(resultseasonalson['mx2tbias'].notnull().sum())\n",
    "resultseasonalson['sdbias'] = resultseasonalson['sdadj'] - resultseasonalson['sd1']\n",
    "sdbias = (resultseasonalson['sdbias'].sum())/(resultseasonalson['sdbias'].notnull().sum())\n",
    "print(wspbias)\n",
    "print(tpbias)\n",
    "print(mslbias)\n",
    "print(t2mbias)\n",
    "print(mn2tbias)\n",
    "print(mx2tbias)\n",
    "print(sdbias)"
   ]
  },
  {
   "cell_type": "code",
   "execution_count": null,
   "id": "ef0665be-1e8d-4e95-a400-74a187436742",
   "metadata": {
    "tags": []
   },
   "outputs": [],
   "source": [
    "# find correlations\n",
    "print(resultseasonalson['wspeed'].corr(resultseasonalson['wspeed1'], method='spearman'))\n",
    "print(resultseasonalson['tp'].corr(resultseasonalson['tp1'], method='spearman'))\n",
    "print(resultseasonalson['msl'].corr(resultseasonalson['msl1'], method='spearman'))\n",
    "print(resultseasonalson['t2m'].corr(resultseasonalson['t2m1']))\n",
    "print(resultseasonalson['mn2t'].corr(resultseasonalson['mn2t1']))\n",
    "print(resultseasonalson['mx2t'].corr(resultseasonalson['mx2t1']))\n",
    "print(resultseasonalson['sdadj'].corr(resultseasonalson['sd1'], method='spearman'))"
   ]
  },
  {
   "cell_type": "code",
   "execution_count": null,
   "id": "6bf7ee9c-3bc3-443d-a30a-a6c73fb150b5",
   "metadata": {},
   "outputs": [],
   "source": [
    "# find variance ratio\n",
    "print((resultseasonalson['wspeed'].var())/(resultseasonalson['wspeed1'].var()))\n",
    "print((resultseasonalson['tp'].var())/(resultseasonalson['tp1'].var()))\n",
    "print((resultseasonalson['msl'].var())/(resultseasonalson['msl1'].var()))\n",
    "print((resultseasonalson['t2m'].var())/(resultseasonalson['t2m1'].var()))\n",
    "print((resultseasonalson['mn2t'].var())/(resultseasonalson['mn2t1'].var()))\n",
    "print((resultseasonalson['mx2t'].var())/(resultseasonalson['mx2t1'].var()))\n",
    "print((resultseasonalson['sdadj'].var())/(resultseasonalson['sd1'].var()))"
   ]
  },
  {
   "cell_type": "code",
   "execution_count": null,
   "id": "74c39e1d-54dd-4851-92da-bf3f1ccb9adc",
   "metadata": {},
   "outputs": [],
   "source": [
    "# find rmse - actual then predicted\n",
    "resultseasonalsonwsp = resultseasonalson[resultseasonalson['wspeed1'].notna()]\n",
    "resultseasonalsontp = resultseasonalson[resultseasonalson['tp1'].notna()]\n",
    "resultseasonalsonmsl = resultseasonalson[resultseasonalson['msl1'].notna()]\n",
    "resultseasonalsont2m = resultseasonalson[resultseasonalson['t2m1'].notna()]\n",
    "resultseasonalsonmn2t = resultseasonalson[resultseasonalson['mn2t1'].notna()]\n",
    "resultseasonalsonmn2t = resultseasonalsonmn2t[resultseasonalsonmn2t['mn2t'].notna()]\n",
    "resultseasonalsonmx2t = resultseasonalson[resultseasonalson['mx2t1'].notna()]\n",
    "resultseasonalsonmx2t = resultseasonalsonmx2t[resultseasonalsonmx2t['mx2t'].notna()]\n",
    "resultseasonalsonsdmean = resultseasonalson[resultseasonalson['sd1'].notna()]\n",
    "print(np.sqrt(mean_squared_error(resultseasonalsonwsp['wspeed1'], resultseasonalsonwsp['wspeed'])))\n",
    "print(np.sqrt(mean_squared_error(resultseasonalsontp['tp1'], resultseasonalsontp['tp'])))\n",
    "print(np.sqrt(mean_squared_error(resultseasonalsonmsl['msl1'], resultseasonalsonmsl['msl'])))\n",
    "print(np.sqrt(mean_squared_error(resultseasonalsont2m['t2m1'], resultseasonalsont2m['t2m'])))\n",
    "print(np.sqrt(mean_squared_error(resultseasonalsonmn2t['mn2t1'], resultseasonalsonmn2t['mn2t'])))\n",
    "print(np.sqrt(mean_squared_error(resultseasonalsonmx2t['mx2t1'], resultseasonalsonmx2t['mx2t'])))\n",
    "print(np.sqrt(mean_squared_error(resultseasonalsonsdmean['sd1'], resultseasonalsonsdmean['sdadj'])))"
   ]
  },
  {
   "cell_type": "markdown",
   "id": "632f8ade-11cd-44e6-ab6e-7ed4477dd1c7",
   "metadata": {
    "jp-MarkdownHeadingCollapsed": true,
    "tags": []
   },
   "source": [
    "## Annual data"
   ]
  },
  {
   "cell_type": "code",
   "execution_count": null,
   "id": "2f4c2582-7e3e-4c8e-b91f-49f95e821769",
   "metadata": {},
   "outputs": [],
   "source": [
    "df23678yearly = pd.read_table('/home/users/clelland/era5/stations_pandas_files/23678/23678e5yearly.csv', sep=\";\", index_col='time')\n",
    "df23678yearly['station'] = 23678\n",
    "df23884yearly = pd.read_table('/home/users/clelland/era5/stations_pandas_files/23884/23884e5yearly.csv', sep=\";\", index_col='time')\n",
    "df23884yearly['station'] = 23884\n",
    "df23986yearly = pd.read_table('/home/users/clelland/era5/stations_pandas_files/23986/23986e5yearly.csv', sep=\";\", index_col='time')\n",
    "df23986yearly['station'] = 23986\n",
    "area1a = pd.concat([df23678yearly, df23884yearly, df23986yearly])"
   ]
  },
  {
   "cell_type": "code",
   "execution_count": null,
   "id": "9b18ed99-1b10-4f0f-b216-86d78094a0a9",
   "metadata": {},
   "outputs": [],
   "source": [
    "df24329yearly = pd.read_table('/home/users/clelland/era5/stations_pandas_files/24329/24329e5yearly.csv', sep=\";\", index_col='time')\n",
    "df24329yearly['station'] = 24329\n",
    "df24538yearly = pd.read_table('/home/users/clelland/era5/stations_pandas_files/24538/24538e5yearly.csv', sep=\";\", index_col='time')\n",
    "df24538yearly['station'] = 24538\n",
    "df24639yearly = pd.read_table('/home/users/clelland/era5/stations_pandas_files/24639/24639e5yearly.csv', sep=\";\", index_col='time')\n",
    "df24639yearly['station'] = 24639\n",
    "df24641yearly = pd.read_table('/home/users/clelland/era5/stations_pandas_files/24641/24641e5yearly.csv', sep=\";\", index_col='time')\n",
    "df24641yearly['station'] = 24641\n",
    "df24726yearly = pd.read_table('/home/users/clelland/era5/stations_pandas_files/24726/24726e5yearly.csv', sep=\";\", index_col='time')\n",
    "df24726yearly['station'] = 24726\n",
    "df24738yearly = pd.read_table('/home/users/clelland/era5/stations_pandas_files/24738/24738e5yearly.csv', sep=\";\", index_col='time')\n",
    "df24738yearly['station'] = 24738\n",
    "area2a = pd.concat([df24329yearly, df24538yearly, df24639yearly, df24641yearly, df24726yearly, df24738yearly])"
   ]
  },
  {
   "cell_type": "code",
   "execution_count": null,
   "id": "8ebc32a4-b42c-4eb1-b2ec-d79012d59364",
   "metadata": {},
   "outputs": [],
   "source": [
    "df24763yearly = pd.read_table('/home/users/clelland/era5/stations_pandas_files/24763/24763e5yearly.csv', sep=\";\", index_col='time')\n",
    "df24763yearly['station'] = 24763\n",
    "df24768yearly = pd.read_table('/home/users/clelland/era5/stations_pandas_files/24768/24768e5yearly.csv', sep=\";\", index_col='time')\n",
    "df24768yearly['station'] = 24768\n",
    "df24966yearly = pd.read_table('/home/users/clelland/era5/stations_pandas_files/24966/24966e5yearly.csv', sep=\";\", index_col='time')\n",
    "df24966yearly['station'] = 24966\n",
    "df24967yearly = pd.read_table('/home/users/clelland/era5/stations_pandas_files/24967/24967e5yearly.csv', sep=\";\", index_col='time')\n",
    "df24967yearly['station'] = 24967\n",
    "df31062yearly = pd.read_table('/home/users/clelland/era5/stations_pandas_files/31062/31062e5yearly.csv', sep=\";\", index_col='time')\n",
    "df31062yearly['station'] = 31062\n",
    "area3a = pd.concat([df24763yearly, df24768yearly, df24966yearly, df24967yearly, df31062yearly])"
   ]
  },
  {
   "cell_type": "code",
   "execution_count": null,
   "id": "0ab86ed2-b37f-4e3e-92e0-2ad8d35d90e4",
   "metadata": {},
   "outputs": [],
   "source": [
    "df30493yearly = pd.read_table('/home/users/clelland/era5/stations_pandas_files/30493/30493e5yearly.csv', sep=\";\", index_col='time')\n",
    "df30493yearly['station'] = 30493\n",
    "df30692yearly = pd.read_table('/home/users/clelland/era5/stations_pandas_files/30692/30692e5yearly.csv', sep=\";\", index_col='time')\n",
    "df30692yearly['station'] = 30692\n",
    "df31102yearly = pd.read_table('/home/users/clelland/era5/stations_pandas_files/31102/31102e5yearly.csv', sep=\";\", index_col='time')\n",
    "df31102yearly['station'] = 31102\n",
    "df31137yearly = pd.read_table('/home/users/clelland/era5/stations_pandas_files/31137/31137e5yearly.csv', sep=\";\", index_col='time')\n",
    "df31137yearly['station'] = 31137\n",
    "df31253yearly = pd.read_table('/home/users/clelland/era5/stations_pandas_files/31253/31253e5yearly.csv', sep=\";\", index_col='time')\n",
    "df31253yearly['station'] = 31253\n",
    "area4a = pd.concat([df30493yearly, df30692yearly, df31102yearly, df31137yearly, df31253yearly])"
   ]
  },
  {
   "cell_type": "code",
   "execution_count": null,
   "id": "ef8ac6d0-cb1a-44f2-bf58-838dff6ea9f9",
   "metadata": {},
   "outputs": [],
   "source": [
    "df29698yearly = pd.read_table('/home/users/clelland/era5/stations_pandas_files/29698/29698e5yearly.csv', sep=\";\", index_col='time')\n",
    "df29698yearly['station'] = 29698\n",
    "df29789yearly = pd.read_table('/home/users/clelland/era5/stations_pandas_files/29789/29789e5yearly.csv', sep=\";\", index_col='time')\n",
    "df29789yearly['station'] = 29789\n",
    "df30504yearly = pd.read_table('/home/users/clelland/era5/stations_pandas_files/30504/30504e5yearly.csv', sep=\";\", index_col='time')\n",
    "df30504yearly['station'] = 30504\n",
    "df36103yearly = pd.read_table('/home/users/clelland/era5/stations_pandas_files/36103/36103e5yearly.csv', sep=\";\", index_col='time')\n",
    "df36103yearly['station'] = 36103\n",
    "area5a = pd.concat([df29698yearly, df29789yearly, df30504yearly, df36103yearly])"
   ]
  },
  {
   "cell_type": "code",
   "execution_count": null,
   "id": "c95ba184-0eb8-490d-9a60-237a6240a447",
   "metadata": {},
   "outputs": [],
   "source": [
    "df24266yearly = pd.read_table('/home/users/clelland/era5/stations_pandas_files/24266/24266e5yearly.csv', sep=\";\", index_col='time')\n",
    "df24266yearly['station'] = 24266\n",
    "df24371yearly = pd.read_table('/home/users/clelland/era5/stations_pandas_files/24371/24371e5yearly.csv', sep=\";\", index_col='time')\n",
    "df24371yearly['station'] = 24371\n",
    "area6a = pd.concat([df24266yearly, df24371yearly])"
   ]
  },
  {
   "cell_type": "code",
   "execution_count": null,
   "id": "a79e8f6e-49ef-4892-9a45-414872c731fa",
   "metadata": {},
   "outputs": [],
   "source": [
    "df25206yearly = pd.read_table('/home/users/clelland/era5/stations_pandas_files/25206/25206e5yearly.csv', sep=\";\", index_col='time')\n",
    "df25206yearly['station'] = 25206\n",
    "df25325yearly = pd.read_table('/home/users/clelland/era5/stations_pandas_files/25325/25325e5yearly.csv', sep=\";\", index_col='time')\n",
    "df25325yearly['station'] = 25325\n",
    "df25400yearly = pd.read_table('/home/users/clelland/era5/stations_pandas_files/25400/25400e5yearly.csv', sep=\";\", index_col='time')\n",
    "df25400yearly['station'] = 25400\n",
    "df25503yearly = pd.read_table('/home/users/clelland/era5/stations_pandas_files/25503/25503e5yearly.csv', sep=\";\", index_col='time')\n",
    "df25503yearly['station'] = 25503\n",
    "area7a = pd.concat([df25206yearly, df25325yearly, df25400yearly, df25503yearly])"
   ]
  },
  {
   "cell_type": "code",
   "execution_count": null,
   "id": "3ee9d01f-4996-4888-84fd-b81edbce87f1",
   "metadata": {},
   "outputs": [],
   "source": [
    "resultyearly = pd.concat([area1a, area2a, area3a, area4a, area5a, area6a, area7a])\n",
    "resultyearly = resultyearly.set_index('station', append=True).sort_index(ascending=True)\n",
    "resultyearly = resultyearly['1959':]\n",
    "resultyearly = resultyearly[['sdadjmean', 'sd1mean']]\n",
    "resultyearly['sdmeanbias'] = resultyearly['sdadjmean'] - resultyearly['sd1mean']\n",
    "resultyearly"
   ]
  },
  {
   "cell_type": "code",
   "execution_count": null,
   "id": "562fcc26-7b45-4d7b-be8e-1a4a8b32fa54",
   "metadata": {},
   "outputs": [],
   "source": [
    "# find correlations\n",
    "print(resultyearly['tp'].corr(resultyearly['tp1'], method='spearman'))\n",
    "print(resultyearly['t2m'].corr(resultyearly['t2m1']))\n",
    "print(resultyearly['sdadjmean'].corr(resultyearly['sd1mean'], method='spearman'))\n",
    "print(resultyearly['sdadjsum'].corr(resultyearly['sd1sum'], method='spearman'))"
   ]
  },
  {
   "cell_type": "code",
   "execution_count": null,
   "id": "a50a3182-b08c-4b18-afbf-0cafd7595dc4",
   "metadata": {},
   "outputs": [],
   "source": [
    "# find variance ratio\n",
    "print((resultyearly['tp'].var())/(resultyearly['tp1'].var()))\n",
    "print((resultyearly['t2m'].var())/(resultyearly['t2m1'].var()))\n",
    "print((resultyearly['sdadjmean'].var())/(resultyearly['sd1mean'].var()))\n",
    "print((resultyearly['sdadjsum'].var())/(resultyearly['sd1sum'].var()))"
   ]
  },
  {
   "cell_type": "code",
   "execution_count": null,
   "id": "f2167ee9-0da3-4c4e-aa60-a992aa06eff8",
   "metadata": {},
   "outputs": [],
   "source": [
    "# find rmse - actual then predicted\n",
    "resultyearlytp = resultyearly[resultyearly['tp1'].notna()]\n",
    "resultyearlyt2m = resultyearly[resultyearly['t2m1'].notna()]\n",
    "resultyearlysdmean = resultyearly[resultyearly['sd1mean'].notna()]\n",
    "resultyearlysdsum = resultyearly[resultyearly['sd1sum'].notna()]\n",
    "print(np.sqrt(mean_squared_error(resultyearlytp['tp1'], resultyearlytp['tp'])))\n",
    "print(np.sqrt(mean_squared_error(resultyearlyt2m['t2m1'], resultyearlyt2m['t2m'])))\n",
    "print(np.sqrt(mean_squared_error(resultyearlysdmean['sd1mean'], resultyearlysdmean['sdadjmean'])))\n",
    "print(np.sqrt(mean_squared_error(resultyearlysdsum['sd1sum'], resultyearlysdsum['sdadjsum'])))"
   ]
  },
  {
   "cell_type": "markdown",
   "id": "14e4c94d-dec8-4a41-bf14-fe72e9969f3f",
   "metadata": {
    "jp-MarkdownHeadingCollapsed": true,
    "tags": []
   },
   "source": [
    "## Decadal data"
   ]
  },
  {
   "cell_type": "code",
   "execution_count": null,
   "id": "5f8ed084-eb5b-429d-9a58-4d2284a0aadd",
   "metadata": {},
   "outputs": [],
   "source": [
    "# 'time' = end year\n",
    "resultdecadal = resultyearly.copy()\n",
    "resultdecadal = resultdecadal.rolling(10).mean()\n",
    "resultdecadal = resultdecadal.drop(resultdecadal.index[[0, 1, 2, 3, 4, 5, 6, 7, 8]])\n",
    "resultdecadal"
   ]
  },
  {
   "cell_type": "markdown",
   "id": "d1911917-28cc-4686-9007-36dbc8f9ab06",
   "metadata": {
    "tags": []
   },
   "source": [
    "# Plots"
   ]
  },
  {
   "cell_type": "markdown",
   "id": "568a7e78-d530-4f98-ac28-e5c588316b26",
   "metadata": {
    "jp-MarkdownHeadingCollapsed": true
   },
   "source": [
    "### Individual variable plots"
   ]
  },
  {
   "cell_type": "code",
   "execution_count": null,
   "id": "29bd8b1e-bf3d-43e1-b0aa-52ca26d05fe4",
   "metadata": {},
   "outputs": [],
   "source": [
    "# Single station\n",
    "resultnew = df30504yearly.copy()\n",
    "resultnew = resultnew.iloc[20:]\n",
    "\n",
    "data1 = resultnew.assign(Dataset='ERA5')\n",
    "data3 = resultnew.assign(Dataset='met station')\n",
    "\n",
    "#f = plt.figure(figsize=[4,6])\n",
    "ax = f.add_subplot(111)\n",
    "\n",
    "cdf = pd.concat([data1, data3])    \n",
    "mdf = pd.melt(cdf, id_vars=['Dataset'], var_name=['Variable'])\n",
    "\n",
    "mdf = mdf[(mdf['Variable'] == 'sdadjmean') | (mdf['Variable'] == 'sd1mean')]\n",
    "\n",
    "ax = data1.plot(y='sdadjmean', use_index=True, label='ERA5')\n",
    "data3.plot(ax=ax, y='sd1mean', use_index=True, color='red', label='station')\n",
    "#data1.plot(ax=ax, y='assim', use_index=True, color='green', secondary_y=True, kind='bar')\n",
    "\n",
    "#plt.ylim([7500, 23500])\n",
    "#ax.get_legend().remove()\n",
    "#plt.axhline(y=1, color='g', linestyle='--')\n",
    "\n",
    "ax.set_title('30504 snow depth yearly mean 1979-2020')\n",
    "ax.set_xlabel('year')\n",
    "ax.set_ylabel('snow depth yearly mean (cm)')\n",
    "ax.get_legend().remove()\n",
    "\n",
    "#plt.savefig('30504avgsd.png', dpi=300, bbox_inches='tight', transparent=True)\n",
    "plt.show()"
   ]
  },
  {
   "cell_type": "code",
   "execution_count": null,
   "id": "86c26796-9c87-479c-91af-fd96b1a59537",
   "metadata": {},
   "outputs": [],
   "source": [
    "# Annual bias boxplot\n",
    "resultyearly.boxplot(column=['sdmeanbias'], by='time', showfliers=False, \n",
    "                       patch_artist=True, whiskerprops=dict(color='Gray'), medianprops=dict(color='Black'), showcaps=False)\n",
    "ax = plt.subplot()\n",
    "start, end = ax.get_xlim()\n",
    "ax.xaxis.set_ticks(np.arange(start+1, end+1, 10), labels=['1960', '1970', '1980', '1990', '2000', '2010', '2020'])\n",
    "ax.set_xlim([start-1, end+1])\n",
    "plt.grid(linewidth = 1, alpha = 0.25)\n",
    "plt.grid(visible=None, axis='x')\n",
    "plt.xlabel('year')\n",
    "plt.axvline(x=start+20, color='red')\n",
    "plt.axvline(x=start+33, color='red')\n",
    "plt.axvline(x=start+45, color='red')\n",
    "plt.ylabel('sd bias (cm)')\n",
    "plt.title('')\n",
    "#plt.savefig('e5sdbiasall.png', dpi=600, bbox_inches='tight')\n",
    "plt.show()"
   ]
  },
  {
   "cell_type": "code",
   "execution_count": null,
   "id": "6d4cd8cd-910d-4da1-b777-4da147ce4067",
   "metadata": {},
   "outputs": [],
   "source": [
    "# Monthly raw value plot\n",
    "data1 = resultmonthly.assign(Dataset='ERA5')\n",
    "data2 = resultmonthly.assign(Dataset='ERA5-land')\n",
    "data3 = resultmonthly.assign(Dataset='met station')\n",
    "\n",
    "#f = plt.figure(figsize=[4,6])\n",
    "ax = f.add_subplot(111)\n",
    "\n",
    "cdf = pd.concat([data1, data2, data3])    \n",
    "#cdf = pd.concat([data1, data3])    \n",
    "mdf = pd.melt(cdf, id_vars=['Dataset'], var_name=['Variable'])\n",
    "\n",
    "mdf = mdf[(mdf['Variable'] == 'sdadjmean') | (mdf['Variable'] == 'sd1mean')]\n",
    "\n",
    "ax = data1.plot(y='sdadjmean', use_index=True, label='ERA5')\n",
    "data2.plot(ax=ax, y='sdadjmean', use_index=True, color='red', label='ERA5-land')\n",
    "data3.plot(ax=ax, y='sd1mean', use_index=True, color='green', label='station avg')\n",
    "\n",
    "#plt.ylim([7500, 23500])\n",
    "#ax.get_legend().remove()\n",
    "#plt.axhline(y=1, color='g', linestyle='--')\n",
    "\n",
    "plt.title('Area 1 snow depth yearly mean 1959-2020')\n",
    "plt.xlabel('year')\n",
    "plt.ylabel('snow depth yearly mean (cm)')\n",
    "\n",
    "#plt.savefig('A1avgsd.png', dpi=300, bbox_inches='tight')\n",
    "plt.show()"
   ]
  },
  {
   "cell_type": "code",
   "execution_count": null,
   "id": "1ee24166-3ca7-422b-aea8-e710685d717d",
   "metadata": {},
   "outputs": [],
   "source": [
    "# Annual raw value plot\n",
    "data1 = resultyearlyavg.assign(Dataset='ERA5')\n",
    "#data2 = resultyearlyavg.assign(Dataset='ERA5-land')\n",
    "data3 = resultyearlyavg.assign(Dataset='met station')\n",
    "\n",
    "#f = plt.figure(figsize=[4,6])\n",
    "ax = f.add_subplot(111)\n",
    "\n",
    "#cdf = pd.concat([data1, data2, data3])    \n",
    "cdf = pd.concat([data1, data3])    \n",
    "mdf = pd.melt(cdf, id_vars=['Dataset'], var_name=['Variable'])\n",
    "\n",
    "mdf = mdf[(mdf['Variable'] == 'tp') | (mdf['Variable'] == 'tp1')]\n",
    "\n",
    "ax = data1.plot(y='tp', use_index=True, label='ERA5')\n",
    "#data2.plot(ax=ax, y='tp', use_index=True, color='red', label='ERA5-land')\n",
    "data3.plot(ax=ax, y='tp1', use_index=True, color='green', label='station avg')\n",
    "\n",
    "#plt.ylim([7500, 23500])\n",
    "#ax.get_legend().remove()\n",
    "#plt.axhline(y=1, color='g', linestyle='--')\n",
    "\n",
    "plt.title('Area 1 total yearly precipitation 1959-2020')\n",
    "plt.xlabel('year')\n",
    "plt.ylabel('total precipitation (cm)')\n",
    "\n",
    "#plt.savefig('A1avgtp.png', dpi=300, bbox_inches='tight')\n",
    "plt.show()"
   ]
  },
  {
   "cell_type": "code",
   "execution_count": null,
   "id": "932c0b43-8630-409e-8107-b8dfa9a9a1b6",
   "metadata": {},
   "outputs": [],
   "source": [
    "# Single season raw value plot\n",
    "data1 = resultseasonaljja.assign(Dataset='ERA5')\n",
    "#data2 = resultyearlyavg.assign(Dataset='ERA5-land')\n",
    "data3 = resultseasonaljja.assign(Dataset='met station')\n",
    "\n",
    "#f = plt.figure(figsize=[4,6])\n",
    "ax = f.add_subplot(111)\n",
    "\n",
    "#cdf = pd.concat([data1, data2, data3])    \n",
    "cdf = pd.concat([data1, data3])    \n",
    "mdf = pd.melt(cdf, id_vars=['Dataset'], var_name=['Variable'])\n",
    "\n",
    "mdf = mdf[(mdf['Variable'] == 'mn2t') | (mdf['Variable'] == 'mn2t1')]\n",
    "\n",
    "ax = data1.plot(y='mn2t', use_index=True, label='ERA5')\n",
    "#data2.plot(ax=ax, y='t2m', use_index=True, color='red', label='ERA5-land')\n",
    "data3.plot(ax=ax, y='mn2t1', use_index=True, color='green', label='station avg')\n",
    "\n",
    "#plt.ylim([7500, 23500])\n",
    "#ax.get_legend().remove()\n",
    "#plt.axhline(y=1, color='g', linestyle='--')\n",
    "\n",
    "plt.title('Min summer temperatures 1979-2020')\n",
    "plt.xlabel('year')\n",
    "plt.ylabel('min summer temperature (degrees C)')\n",
    "\n",
    "#plt.savefig('A1avgt2m.png', dpi=300, bbox_inches='tight')\n",
    "plt.show()"
   ]
  },
  {
   "cell_type": "code",
   "execution_count": null,
   "id": "36ffaec5-fe82-486f-806a-c94c04a5f262",
   "metadata": {},
   "outputs": [],
   "source": [
    "# Decadal correlation plot\n",
    "data1 = resultdecadal.assign(Dataset='ERA5')\n",
    "#data2 = resultdecadal.assign(Dataset='ERA5-land')\n",
    "\n",
    "#f = plt.figure(figsize=[4,6])\n",
    "ax = f.add_subplot(111)\n",
    "\n",
    "#cdf = pd.concat([data1, data2])    \n",
    "cdf = pd.concat([data1])    \n",
    "mdf = pd.melt(cdf, id_vars=['Dataset'], var_name=['Variable'])\n",
    "\n",
    "mdf = mdf[(mdf['Variable'] == 'sdmeancorr')]\n",
    "\n",
    "ax = data1.plot(y='sdmeancorr', use_index=True, label='ERA5 correlation')\n",
    "#ax = data2.plot(y='sdmeancorr', use_index=True, label='ERA5-Land correlation')\n",
    "\n",
    "#plt.ylim([7500, 23500])\n",
    "ax.get_legend().remove()\n",
    "plt.axhline(y=1, color='g', linestyle='--')\n",
    "\n",
    "plt.title('Area 1 decadal snow depth correlation 1959-2020')\n",
    "plt.xlabel('End year of decade')\n",
    "\n",
    "#plt.savefig('A1avgsdcorr.png', dpi=300, bbox_inches='tight')\n",
    "plt.show()"
   ]
  },
  {
   "cell_type": "markdown",
   "id": "15b3b69a-dbed-4e5e-a48d-006a09b16fed",
   "metadata": {
    "jp-MarkdownHeadingCollapsed": true
   },
   "source": [
    "### Seasonal box plots of bias/rmse/vr/corr"
   ]
  },
  {
   "cell_type": "code",
   "execution_count": null,
   "id": "e3c2c32b-aca1-4b42-a34f-55a0a73818b8",
   "metadata": {},
   "outputs": [],
   "source": [
    "# Change 'bias', 'rmse', 'vr', 'corr' as appropriate\n",
    "data1 = t2mstats['bias']['winter'].assign(Season='Winter')\n",
    "data2 = t2mstats['bias']['spring'].assign(Season='Spring')\n",
    "data3 = t2mstats['bias']['summer'].assign(Season='Summer')\n",
    "data4 = t2mstats['bias']['autumn'].assign(Season='Autumn')\n",
    "\n",
    "#f = plt.figure(figsize=[4,6])\n",
    "ax = f.add_subplot(111)\n",
    "\n",
    "cdf = pd.concat([data1, data2, data3, data4])    \n",
    "mdf = pd.melt(cdf, id_vars=['Season'], var_name=['Dataset'])\n",
    "\n",
    "mdf = mdf[(mdf['Dataset'] == 'EI') | (mdf['Dataset'] == 'E5') | (mdf['Dataset'] == 'E5L')]\n",
    "ax = sns.boxplot(x=\"Season\", y=\"value\", hue=\"Dataset\", data=mdf)\n",
    "\n",
    "#plt.ylim([-0.5, 10.9])\n",
    "#ax.get_legend().remove()\n",
    "\n",
    "plt.title('Seasonal t2m bias')\n",
    "plt.ylabel('°C')\n",
    "plt.axhline(y=0, color='r', linestyle='--')\n",
    "\n",
    "handles, _ = ax.get_legend_handles_labels()\n",
    "ax.legend(handles, ['ERA-Interim', 'ERA5', 'ERA5-Land'])\n",
    "\n",
    "#plt.savefig('t2mseasbias.png', dpi=300, bbox_inches='tight')\n",
    "plt.show()"
   ]
  },
  {
   "cell_type": "markdown",
   "id": "b741b3fb-7d63-437e-b362-9996c3cf2a40",
   "metadata": {
    "jp-MarkdownHeadingCollapsed": true
   },
   "source": [
    "### Test contour plot"
   ]
  },
  {
   "cell_type": "code",
   "execution_count": 10,
   "id": "26228bc7-1823-4bef-84ec-03f204bf0f12",
   "metadata": {},
   "outputs": [
    {
     "data": {
      "image/png": "[encoded data removed]",
      "text/plain": [
       "<Figure size 400x600 with 1 Axes>"
      ]
     },
     "metadata": {},
     "output_type": "display_data"
    }
   ],
   "source": [
    "# contour plot\n",
    "f = plt.figure(figsize=[4,6])\n",
    "ax = f.add_subplot(111)\n",
    "\n",
    "# plotting density plot using kdeplot()\n",
    "sns.kdeplot(data=resulte5daily, x='t2m', y='t2m1', cmap=\"Reds\", fill=True, ax=ax, label='ERA5')\n",
    "#sns.kdeplot(data=resulte5ldaily, x='t2m', y='t2m1', cmap=\"Reds\", fill=True, ax=ax, label='ERA5-Land')\n",
    "#sns.kdeplot(data=resulte5pdaily, x='t2m', y='t2m1', cmap=\"Reds\", fill=True, ax=ax, label='ERA Interim')\n",
    "\n",
    "ax.legend()\n",
    "\n",
    "#plt.savefig('testt2mkdeplot.png', dpi=300, bbox_inches='tight')\n",
    "plt.show()"
   ]
  },
  {
   "cell_type": "markdown",
   "id": "fcdf2b15-e0f5-4ef1-89d0-7bafdf429243",
   "metadata": {
    "jp-MarkdownHeadingCollapsed": true
   },
   "source": [
    "### Density plots"
   ]
  },
  {
   "cell_type": "code",
   "execution_count": null,
   "id": "df4c29e2-e0a4-46c9-810f-99edc498799f",
   "metadata": {},
   "outputs": [],
   "source": [
    "new = resultdaily.round(decimals=1)\n",
    "new = new['1992-01-01':]\n",
    "newsd = new[['sdadj', 'sd1']].dropna()\n",
    "newt2m = new[['t2m', 't2m1']].dropna()\n",
    "newmx2t = new[['mx2t', 'mx2t1']].dropna()\n",
    "newmn2t = new[['mn2t', 'mn2t1']].dropna()\n",
    "newtp = new[['tp', 'tp1']].dropna()\n",
    "newwsp = new[['wspeed', 'wspeed1']].dropna()\n",
    "newmsl = new[['msl', 'msl1']].dropna()\n",
    "new"
   ]
  },
  {
   "cell_type": "code",
   "execution_count": null,
   "id": "fc4e5d6d-cabe-41e4-9fe3-686ea299c828",
   "metadata": {},
   "outputs": [],
   "source": [
    "# Edit for each variable\n",
    "x = newt2m['t2m1']\n",
    "y = newt2m['t2m']\n",
    "\n",
    "# Calculate collocations\n",
    "xy_collocations = {}\n",
    "for i in range(len(x)):\n",
    "    xy = (x[i], y[i])\n",
    "    if xy in xy_collocations:\n",
    "        xy_collocations[xy] += 1\n",
    "    else:\n",
    "        xy_collocations[xy] = 1\n",
    "\n",
    "# Extract coordinates and counts\n",
    "coords = np.array(list(xy_collocations.keys()))\n",
    "counts = np.array(list(xy_collocations.values()))\n",
    "\n",
    "# Set up color map using logarithmic scale\n",
    "norm = plt.Normalize(np.log10(counts.min()), np.log10(counts.max()))\n",
    "cmap = plt.cm.viridis\n",
    "\n",
    "# Plot the graph\n",
    "plt.figure(figsize=(8, 6))\n",
    "plt.scatter(coords[:, 0], coords[:, 1], c=np.log10(counts), cmap=cmap, norm=norm, s=1)\n",
    "plt.colorbar(label='Collocations Count (log scale)')\n",
    "\n",
    "# Calculate linear regression line\n",
    "m, b = np.polyfit(x, y, 1)\n",
    "plt.plot(x, m * x + b, color='red')\n",
    "\n",
    "# Plot y=x line\n",
    "plt.plot(np.linspace(-65, 35, 100), np.linspace(-65, 35, 100), color='blue')\n",
    "\n",
    "plt.xlabel('Met station t2m values (°C)')\n",
    "plt.ylabel('ERA-Interim t2m values (°C)')\n",
    "plt.savefig('eit2mcol.png', dpi=600, bbox_inches='tight')\n",
    "plt.show()"
   ]
  },
  {
   "cell_type": "markdown",
   "id": "fcc286e3-4a2a-4c97-90ee-493f40766f20",
   "metadata": {
    "jp-MarkdownHeadingCollapsed": true
   },
   "source": [
    "### Daily met station vs EI/E5/E5L values with y=x line and line of best fit"
   ]
  },
  {
   "cell_type": "code",
   "execution_count": null,
   "id": "b4664635-c468-4e95-8327-f5187ad5c91c",
   "metadata": {},
   "outputs": [],
   "source": [
    "# Edit for each variable\n",
    "X_plot = np.linspace(-65, 35, 100)\n",
    "Y_plot = 1*X_plot\n",
    "\n",
    "plt.plot(X_plot, Y_plot, color='blue', linewidth=1)\n",
    "\n",
    "sns.regplot(x='t2m1', y='t2m', data=resulte5daily, color='k', marker='+', line_kws={'color':'red', 'lw':1}, scatter_kws={'s':1})\n",
    "\n",
    "plt.xlabel('Met station t2m values (°C)')\n",
    "plt.ylabel('ERA5 t2m values (°C)')\n",
    "\n",
    "#plt.savefig('EIt2malldaily.png', dpi=300, bbox_inches='tight')\n",
    "plt.show()"
   ]
  },
  {
   "cell_type": "markdown",
   "id": "01505d92-a57b-4a9c-b9c5-955c33728a21",
   "metadata": {
    "jp-MarkdownHeadingCollapsed": true
   },
   "source": [
    "### Decadal trends"
   ]
  },
  {
   "cell_type": "code",
   "execution_count": null,
   "id": "00aeb761-ef85-4b87-bdcb-497570021d2b",
   "metadata": {},
   "outputs": [],
   "source": [
    "data1 = resultdecadal.assign(Dataset='ERA5')\n",
    "#data2 = resultdecadal.assign(Dataset='ERA5-land')\n",
    "\n",
    "#f = plt.figure(figsize=[4,6])\n",
    "ax = f.add_subplot(111)\n",
    "\n",
    "cdf = pd.concat([data1])    \n",
    "mdf = pd.melt(cdf, id_vars=['Dataset'], var_name=['Variable'])\n",
    "\n",
    "mdf = mdf[(mdf['Variable'] == 'sdmeancorr') | (mdf['Variable'] == 'tpcorr') | (mdf['Variable'] == 't2mcorr')]\n",
    "\n",
    "ax = data1.plot(y='t2mcorr', use_index=True, label='t2mcorr')\n",
    "data1.plot(ax=ax, y='sdmeancorr', use_index=True, color='black', label='sdmeancorr')\n",
    "data1.plot(ax=ax, y='tpcorr', use_index=True, color='red', label='tpcorr')\n",
    "\n",
    "plt.ylim([0.75, 1.01])\n",
    "\n",
    "plt.title('Area 1 decadal correlation trends 1959-2020')\n",
    "plt.xlabel('End year')\n",
    "plt.ylabel('Correlation')\n",
    "\n",
    "ax.get_legend().remove()\n",
    "\n",
    "#plt.savefig('A1deccorr.png', dpi=300, bbox_inches='tight')\n",
    "plt.show()"
   ]
  },
  {
   "cell_type": "code",
   "execution_count": null,
   "id": "da97ffed-5eec-48d8-9d6c-8d897f112885",
   "metadata": {},
   "outputs": [],
   "source": [
    "# basic correlation heatmap\n",
    "corr = resulte5monthlyreducedavg.corr()\n",
    "corr.style.background_gradient(cmap='coolwarm')"
   ]
  },
  {
   "cell_type": "code",
   "execution_count": null,
   "id": "b1835766-76ca-4fff-a535-2b403a8bfea4",
   "metadata": {},
   "outputs": [],
   "source": []
  }
 ],
 "metadata": {
  "kernelspec": {
   "display_name": "Python 3 + Jaspy",
   "language": "python",
   "name": "jaspy"
  },
  "language_info": {
   "codemirror_mode": {
    "name": "ipython",
    "version": 3
   },
   "file_extension": ".py",
   "mimetype": "text/x-python",
   "name": "python",
   "nbconvert_exporter": "python",
   "pygments_lexer": "ipython3",
   "version": "3.11.9"
  }
 },
 "nbformat": 4,
 "nbformat_minor": 5
}
